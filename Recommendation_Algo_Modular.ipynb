{
 "cells": [
  {
   "cell_type": "code",
   "execution_count": 11,
   "metadata": {},
   "outputs": [],
   "source": [
    "import pandas as pd\n",
    "import json\n",
    "import numpy as np\n",
    "import spacy\n",
    "import nltk\n",
    "import re\n",
    "import gensim"
   ]
  },
  {
   "cell_type": "code",
   "execution_count": 12,
   "metadata": {
    "collapsed": true
   },
   "outputs": [],
   "source": [
    "def splitTags(tag_list):\n",
    "    tag_list = tag_list.split('|')\n",
    "    output = ''\n",
    "    for tag in tag_list:\n",
    "        output += tag\n",
    "    return output"
   ]
  },
  {
   "cell_type": "code",
   "execution_count": 13,
   "metadata": {
    "collapsed": true
   },
   "outputs": [],
   "source": [
    "#get rid of the punctuations and set all characters to lowercase\n",
    "RE_PREPROCESS = r'\\W+|\\d+' #the regular expressions that matches all non-characters\n",
    "\n",
    "#get rid of punctuation and make everything lowercase\n",
    "#the code belows works by looping through the array of text\n",
    "#for a given piece of text we invoke the `re.sub` command where we pass in the regular expression, a space ' ' to\n",
    "#subsitute all the matching characters with\n",
    "#we then invoke the `lower()` method on the output of the re.sub command\n",
    "#to make all the remaining characters\n",
    "#the cleaned document is then stored in a list\n",
    "#once this list has been filed it is then stored in a numpy array"
   ]
  },
  {
   "cell_type": "code",
   "execution_count": 14,
   "metadata": {
    "collapsed": true
   },
   "outputs": [],
   "source": [
    "def processFeatures(desc):\n",
    "    try:\n",
    "        return re.sub(RE_PREPROCESS, ' ', desc)\n",
    "    except:\n",
    "        return \" \""
   ]
  },
  {
   "cell_type": "code",
   "execution_count": 15,
   "metadata": {
    "collapsed": true
   },
   "outputs": [],
   "source": [
    "def processDataFrame(data_frame, country_code='US'):\n",
    "    data_frame.sort_values(by=['video_id', 'trending_date'], ascending=True, inplace=True)\n",
    "    grouped_videos = data_frame.groupby(['video_id']).last().reset_index()\n",
    "    \n",
    "    #Reading categories from the json file depending on country_code\n",
    "    json_location = './data/' + country_code +'_category_id.json'\n",
    "    with open(json_location) as data_file:\n",
    "        data = json.load(data_file)    \n",
    "    categories = []\n",
    "    for item in data['items']:\n",
    "        category = {}\n",
    "        category['category_id'] = int(item['id'])\n",
    "        category['title'] = item['snippet']['title']\n",
    "        categories.append(category)\n",
    "\n",
    "    categories_df = pd.DataFrame(categories)\n",
    "    # Merging videos data with category data\n",
    "    final_df = grouped_videos.merge(categories_df, on = ['category_id'])\n",
    "    final_df.rename(columns={'title_y': 'category', 'title_x': 'video_name'}, inplace=True)\n",
    "    \n",
    "    # Splitting the tags by pipe (|) character\n",
    "    final_df['tags'] = final_df['tags'].apply(splitTags)\n",
    "    \n",
    "    # Creating a features column that consists all features used for prediction.\n",
    "    final_df['video_features'] = final_df['tags'].astype(str) + final_df['video_name'].astype(str) \\\n",
    "                        + final_df['channel_title'].astype(str) + final_df['description'] + final_df['category']\n",
    "        \n",
    "    final_df['video_features'] = final_df['video_features'].apply(processFeatures)\n",
    "    final_df['video_features'] = final_df['video_features'].apply(processFeatures)\n",
    "    return final_df"
   ]
  },
  {
   "cell_type": "code",
   "execution_count": 21,
   "metadata": {
    "collapsed": true
   },
   "outputs": [],
   "source": [
    "def processCorpus(feature_corpus):\n",
    "    feature_corpus = [comment.lower() for comment in feature_corpus]\n",
    "    parser = spacy.load('en')\n",
    "    processed_feature_corpus = [parser(feature) for feature in feature_corpus]\n",
    "    token_corpus = [nltk.word_tokenize(str(feature)) for feature in processed_feature_corpus]\n",
    "    return token_corpus"
   ]
  },
  {
   "cell_type": "code",
   "execution_count": 70,
   "metadata": {
    "collapsed": true
   },
   "outputs": [],
   "source": [
    "def recommendTags(token_corpus, input_words = ['pocahontas', 'president']):\n",
    "    word2vec_model = gensim.models.Word2Vec(sentences=token_corpus, min_count=1, size = 32)\n",
    "    return word2vec_model.most_similar(positive=input_words)"
   ]
  },
  {
   "cell_type": "markdown",
   "metadata": {},
   "source": [
    "Running the algorithm for US videos"
   ]
  },
  {
   "cell_type": "code",
   "execution_count": 29,
   "metadata": {},
   "outputs": [],
   "source": [
    "us_videos_df = pd.read_csv('./data/USvideos.csv')"
   ]
  },
  {
   "cell_type": "code",
   "execution_count": 30,
   "metadata": {
    "collapsed": true
   },
   "outputs": [],
   "source": [
    "us_final_df = processDataFrame(us_videos_df, country_code='US')"
   ]
  },
  {
   "cell_type": "code",
   "execution_count": 31,
   "metadata": {},
   "outputs": [
    {
     "data": {
      "text/html": [
       "<div>\n",
       "<style>\n",
       "    .dataframe thead tr:only-child th {\n",
       "        text-align: right;\n",
       "    }\n",
       "\n",
       "    .dataframe thead th {\n",
       "        text-align: left;\n",
       "    }\n",
       "\n",
       "    .dataframe tbody tr th {\n",
       "        vertical-align: top;\n",
       "    }\n",
       "</style>\n",
       "<table border=\"1\" class=\"dataframe\">\n",
       "  <thead>\n",
       "    <tr style=\"text-align: right;\">\n",
       "      <th></th>\n",
       "      <th>video_id</th>\n",
       "      <th>trending_date</th>\n",
       "      <th>video_name</th>\n",
       "      <th>channel_title</th>\n",
       "      <th>category_id</th>\n",
       "      <th>publish_time</th>\n",
       "      <th>tags</th>\n",
       "      <th>views</th>\n",
       "      <th>likes</th>\n",
       "      <th>dislikes</th>\n",
       "      <th>comment_count</th>\n",
       "      <th>thumbnail_link</th>\n",
       "      <th>comments_disabled</th>\n",
       "      <th>ratings_disabled</th>\n",
       "      <th>video_error_or_removed</th>\n",
       "      <th>description</th>\n",
       "      <th>category</th>\n",
       "      <th>video_features</th>\n",
       "    </tr>\n",
       "  </thead>\n",
       "  <tbody>\n",
       "    <tr>\n",
       "      <th>0</th>\n",
       "      <td>-2RVw2_QyxQ</td>\n",
       "      <td>17.16.11</td>\n",
       "      <td>2017 Champions Showdown: Day 3</td>\n",
       "      <td>Saint Louis Chess Club</td>\n",
       "      <td>27</td>\n",
       "      <td>2017-11-12T02:39:01.000Z</td>\n",
       "      <td>Chess\"Saint Louis\"\"Club\"</td>\n",
       "      <td>71089</td>\n",
       "      <td>460</td>\n",
       "      <td>27</td>\n",
       "      <td>20</td>\n",
       "      <td>https://i.ytimg.com/vi/-2RVw2_QyxQ/default.jpg</td>\n",
       "      <td>False</td>\n",
       "      <td>False</td>\n",
       "      <td>False</td>\n",
       "      <td>The Saint Louis Chess Club hosts a series of f...</td>\n",
       "      <td>Education</td>\n",
       "      <td>Chess Saint Louis Club Champions Showdown Day ...</td>\n",
       "    </tr>\n",
       "    <tr>\n",
       "      <th>1</th>\n",
       "      <td>-oXybog2IuI</td>\n",
       "      <td>17.21.11</td>\n",
       "      <td>24 Facts about Koalas - mental_floss List Show...</td>\n",
       "      <td>Mental Floss</td>\n",
       "      <td>27</td>\n",
       "      <td>2017-11-15T16:00:00.000Z</td>\n",
       "      <td>john green\"mental floss\"\"koalas\"\"marsupial\"\"jo...</td>\n",
       "      <td>38775</td>\n",
       "      <td>1373</td>\n",
       "      <td>16</td>\n",
       "      <td>140</td>\n",
       "      <td>https://i.ytimg.com/vi/-oXybog2IuI/default.jpg</td>\n",
       "      <td>False</td>\n",
       "      <td>False</td>\n",
       "      <td>False</td>\n",
       "      <td>A weekly show where knowledge junkies get thei...</td>\n",
       "      <td>Education</td>\n",
       "      <td>john green mental floss koalas marsupial joey ...</td>\n",
       "    </tr>\n",
       "    <tr>\n",
       "      <th>2</th>\n",
       "      <td>16W7c0mb-rE</td>\n",
       "      <td>17.24.11</td>\n",
       "      <td>Emergence – How Stupid Things Become Smart Tog...</td>\n",
       "      <td>Kurzgesagt – In a Nutshell</td>\n",
       "      <td>27</td>\n",
       "      <td>2017-11-16T15:01:58.000Z</td>\n",
       "      <td>emergence\"ants\"\"intelligence\"\"ant\"\"sum of its ...</td>\n",
       "      <td>2032821</td>\n",
       "      <td>124607</td>\n",
       "      <td>1183</td>\n",
       "      <td>8577</td>\n",
       "      <td>https://i.ytimg.com/vi/16W7c0mb-rE/default.jpg</td>\n",
       "      <td>False</td>\n",
       "      <td>False</td>\n",
       "      <td>False</td>\n",
       "      <td>How can many stupid things combine to form sma...</td>\n",
       "      <td>Education</td>\n",
       "      <td>emergence ants intelligence ant sum of its par...</td>\n",
       "    </tr>\n",
       "    <tr>\n",
       "      <th>3</th>\n",
       "      <td>5WUDfviiKRE</td>\n",
       "      <td>17.28.11</td>\n",
       "      <td>二贵摔跤 - tienghoa.net</td>\n",
       "      <td>Tina Nguyen</td>\n",
       "      <td>27</td>\n",
       "      <td>2011-03-01T04:14:08.000Z</td>\n",
       "      <td>hanyuqiao</td>\n",
       "      <td>21342</td>\n",
       "      <td>107</td>\n",
       "      <td>312</td>\n",
       "      <td>201</td>\n",
       "      <td>https://i.ytimg.com/vi/5WUDfviiKRE/default.jpg</td>\n",
       "      <td>False</td>\n",
       "      <td>False</td>\n",
       "      <td>False</td>\n",
       "      <td>辽阔的乌珠穆沁草原是摔跤手的摇篮。这里摔跤的传统源远流长，盛名至今不衰。康熙五年(1666年...</td>\n",
       "      <td>Education</td>\n",
       "      <td>hanyuqiao二贵摔跤 tienghoa netTina Nguyen辽阔的乌珠穆沁草原...</td>\n",
       "    </tr>\n",
       "    <tr>\n",
       "      <th>4</th>\n",
       "      <td>8-u5nd2GqNE</td>\n",
       "      <td>17.24.11</td>\n",
       "      <td>The Secret Protocol for When the Queen Dies</td>\n",
       "      <td>Half as Interesting</td>\n",
       "      <td>27</td>\n",
       "      <td>2017-11-16T15:30:00.000Z</td>\n",
       "      <td>the\"secret\"\"protocal\"\"procedure\"\"process\"\"for\"...</td>\n",
       "      <td>1145464</td>\n",
       "      <td>28690</td>\n",
       "      <td>887</td>\n",
       "      <td>5083</td>\n",
       "      <td>https://i.ytimg.com/vi/8-u5nd2GqNE/default.jpg</td>\n",
       "      <td>False</td>\n",
       "      <td>False</td>\n",
       "      <td>False</td>\n",
       "      <td>Raise money for charity just by browsing the i...</td>\n",
       "      <td>Education</td>\n",
       "      <td>the secret protocal procedure process for when...</td>\n",
       "    </tr>\n",
       "  </tbody>\n",
       "</table>\n",
       "</div>"
      ],
      "text/plain": [
       "      video_id trending_date  \\\n",
       "0  -2RVw2_QyxQ      17.16.11   \n",
       "1  -oXybog2IuI      17.21.11   \n",
       "2  16W7c0mb-rE      17.24.11   \n",
       "3  5WUDfviiKRE      17.28.11   \n",
       "4  8-u5nd2GqNE      17.24.11   \n",
       "\n",
       "                                          video_name  \\\n",
       "0                     2017 Champions Showdown: Day 3   \n",
       "1  24 Facts about Koalas - mental_floss List Show...   \n",
       "2  Emergence – How Stupid Things Become Smart Tog...   \n",
       "3                                二贵摔跤 - tienghoa.net   \n",
       "4        The Secret Protocol for When the Queen Dies   \n",
       "\n",
       "                channel_title  category_id              publish_time  \\\n",
       "0      Saint Louis Chess Club           27  2017-11-12T02:39:01.000Z   \n",
       "1                Mental Floss           27  2017-11-15T16:00:00.000Z   \n",
       "2  Kurzgesagt – In a Nutshell           27  2017-11-16T15:01:58.000Z   \n",
       "3                 Tina Nguyen           27  2011-03-01T04:14:08.000Z   \n",
       "4         Half as Interesting           27  2017-11-16T15:30:00.000Z   \n",
       "\n",
       "                                                tags    views   likes  \\\n",
       "0                           Chess\"Saint Louis\"\"Club\"    71089     460   \n",
       "1  john green\"mental floss\"\"koalas\"\"marsupial\"\"jo...    38775    1373   \n",
       "2  emergence\"ants\"\"intelligence\"\"ant\"\"sum of its ...  2032821  124607   \n",
       "3                                          hanyuqiao    21342     107   \n",
       "4  the\"secret\"\"protocal\"\"procedure\"\"process\"\"for\"...  1145464   28690   \n",
       "\n",
       "   dislikes  comment_count                                  thumbnail_link  \\\n",
       "0        27             20  https://i.ytimg.com/vi/-2RVw2_QyxQ/default.jpg   \n",
       "1        16            140  https://i.ytimg.com/vi/-oXybog2IuI/default.jpg   \n",
       "2      1183           8577  https://i.ytimg.com/vi/16W7c0mb-rE/default.jpg   \n",
       "3       312            201  https://i.ytimg.com/vi/5WUDfviiKRE/default.jpg   \n",
       "4       887           5083  https://i.ytimg.com/vi/8-u5nd2GqNE/default.jpg   \n",
       "\n",
       "   comments_disabled  ratings_disabled  video_error_or_removed  \\\n",
       "0              False             False                   False   \n",
       "1              False             False                   False   \n",
       "2              False             False                   False   \n",
       "3              False             False                   False   \n",
       "4              False             False                   False   \n",
       "\n",
       "                                         description   category  \\\n",
       "0  The Saint Louis Chess Club hosts a series of f...  Education   \n",
       "1  A weekly show where knowledge junkies get thei...  Education   \n",
       "2  How can many stupid things combine to form sma...  Education   \n",
       "3  辽阔的乌珠穆沁草原是摔跤手的摇篮。这里摔跤的传统源远流长，盛名至今不衰。康熙五年(1666年...  Education   \n",
       "4  Raise money for charity just by browsing the i...  Education   \n",
       "\n",
       "                                      video_features  \n",
       "0  Chess Saint Louis Club Champions Showdown Day ...  \n",
       "1  john green mental floss koalas marsupial joey ...  \n",
       "2  emergence ants intelligence ant sum of its par...  \n",
       "3  hanyuqiao二贵摔跤 tienghoa netTina Nguyen辽阔的乌珠穆沁草原...  \n",
       "4  the secret protocal procedure process for when...  "
      ]
     },
     "execution_count": 31,
     "metadata": {},
     "output_type": "execute_result"
    }
   ],
   "source": [
    "us_final_df.head()"
   ]
  },
  {
   "cell_type": "code",
   "execution_count": 42,
   "metadata": {},
   "outputs": [
    {
     "name": "stdout",
     "output_type": "stream",
     "text": [
      "\n",
      "    Warning: no model found for 'en'\n",
      "\n",
      "    Only loading the 'en' tokenizer.\n",
      "\n"
     ]
    }
   ],
   "source": [
    "us_token_corpus = processCorpus(us_final_df['video_features'].values)"
   ]
  },
  {
   "cell_type": "code",
   "execution_count": 43,
   "metadata": {},
   "outputs": [
    {
     "name": "stdout",
     "output_type": "stream",
     "text": [
      "[('thanksgiving', 0.9993991851806641), ('moore', 0.9991637468338013), ('pacific', 0.9991582632064819), ('georgia', 0.999140202999115), ('future', 0.9990207552909851), ('old', 0.9988526105880737), ('moments', 0.998785138130188), ('hair', 0.9987520575523376), ('simon', 0.998725414276123), ('donald', 0.9986773729324341)]\n"
     ]
    }
   ],
   "source": [
    "print(recommendTags(us_token_corpus))"
   ]
  },
  {
   "cell_type": "code",
   "execution_count": 44,
   "metadata": {},
   "outputs": [],
   "source": [
    "ca_videos_df = pd.read_csv('./data/CAvideos.csv')"
   ]
  },
  {
   "cell_type": "code",
   "execution_count": 45,
   "metadata": {
    "collapsed": true
   },
   "outputs": [],
   "source": [
    "ca_final_df = processDataFrame(ca_videos_df, country_code='CA')"
   ]
  },
  {
   "cell_type": "code",
   "execution_count": 46,
   "metadata": {},
   "outputs": [
    {
     "data": {
      "text/html": [
       "<div>\n",
       "<style>\n",
       "    .dataframe thead tr:only-child th {\n",
       "        text-align: right;\n",
       "    }\n",
       "\n",
       "    .dataframe thead th {\n",
       "        text-align: left;\n",
       "    }\n",
       "\n",
       "    .dataframe tbody tr th {\n",
       "        vertical-align: top;\n",
       "    }\n",
       "</style>\n",
       "<table border=\"1\" class=\"dataframe\">\n",
       "  <thead>\n",
       "    <tr style=\"text-align: right;\">\n",
       "      <th></th>\n",
       "      <th>video_id</th>\n",
       "      <th>trending_date</th>\n",
       "      <th>video_name</th>\n",
       "      <th>channel_title</th>\n",
       "      <th>category_id</th>\n",
       "      <th>publish_time</th>\n",
       "      <th>tags</th>\n",
       "      <th>views</th>\n",
       "      <th>likes</th>\n",
       "      <th>dislikes</th>\n",
       "      <th>comment_count</th>\n",
       "      <th>thumbnail_link</th>\n",
       "      <th>comments_disabled</th>\n",
       "      <th>ratings_disabled</th>\n",
       "      <th>video_error_or_removed</th>\n",
       "      <th>description</th>\n",
       "      <th>category</th>\n",
       "      <th>video_features</th>\n",
       "    </tr>\n",
       "  </thead>\n",
       "  <tbody>\n",
       "    <tr>\n",
       "      <th>0</th>\n",
       "      <td>-3c-V5K2p88</td>\n",
       "      <td>17.21.11</td>\n",
       "      <td>10 Times Gordon Ramsay Actually LIKED THE FOOD!</td>\n",
       "      <td>BabbleTop</td>\n",
       "      <td>24</td>\n",
       "      <td>2017-11-17T16:00:00.000Z</td>\n",
       "      <td>gordon ramsay\"gordon ramsey\"\"ramsay\"\"ramsey\"\"c...</td>\n",
       "      <td>420149</td>\n",
       "      <td>2330</td>\n",
       "      <td>1497</td>\n",
       "      <td>1370</td>\n",
       "      <td>https://i.ytimg.com/vi/-3c-V5K2p88/default.jpg</td>\n",
       "      <td>False</td>\n",
       "      <td>False</td>\n",
       "      <td>False</td>\n",
       "      <td>We all know Gordon Ramsay is famous for dislik...</td>\n",
       "      <td>Entertainment</td>\n",
       "      <td>gordon ramsay gordon ramsey ramsay ramsey chef...</td>\n",
       "    </tr>\n",
       "    <tr>\n",
       "      <th>1</th>\n",
       "      <td>-4sU_AhRPY0</td>\n",
       "      <td>17.25.11</td>\n",
       "      <td>Ellen Teaches Sofia Vergara an English Word of...</td>\n",
       "      <td>TheEllenShow</td>\n",
       "      <td>24</td>\n",
       "      <td>2017-11-21T14:00:00.000Z</td>\n",
       "      <td>Sofia Vergara\"Sofia\"\"Vergara\"\"Modern family\"\"S...</td>\n",
       "      <td>2202412</td>\n",
       "      <td>47777</td>\n",
       "      <td>513</td>\n",
       "      <td>1480</td>\n",
       "      <td>https://i.ytimg.com/vi/-4sU_AhRPY0/default.jpg</td>\n",
       "      <td>False</td>\n",
       "      <td>False</td>\n",
       "      <td>False</td>\n",
       "      <td>Ellen taught the always hilarious Sofía Vergar...</td>\n",
       "      <td>Entertainment</td>\n",
       "      <td>Sofia Vergara Sofia Vergara Modern family Sofi...</td>\n",
       "    </tr>\n",
       "    <tr>\n",
       "      <th>2</th>\n",
       "      <td>-DxQnfAssuY</td>\n",
       "      <td>17.26.11</td>\n",
       "      <td>《明星大侦探3》03案完整版:【深夜麻辣烫】司机撒又开车了！一语道破鸥小妹和魏来的“眠伴”关...</td>\n",
       "      <td>湖南卫视芒果TV官方频道 China HunanTV Official Channel</td>\n",
       "      <td>24</td>\n",
       "      <td>2017-11-24T16:00:00.000Z</td>\n",
       "      <td>明星大侦探3\"明星大偵探\"\"深夜麻辣烫\"\"明星大侦探 深夜麻辣烫\"\"明星大偵探第三季\"\"明星...</td>\n",
       "      <td>430460</td>\n",
       "      <td>2762</td>\n",
       "      <td>108</td>\n",
       "      <td>1513</td>\n",
       "      <td>https://i.ytimg.com/vi/-DxQnfAssuY/default.jpg</td>\n",
       "      <td>False</td>\n",
       "      <td>False</td>\n",
       "      <td>False</td>\n",
       "      <td>【订阅湖南卫视官方频道Subscribe to HunanTV YouTube Channe...</td>\n",
       "      <td>Entertainment</td>\n",
       "      <td>明星大侦探 明星大偵探 深夜麻辣烫 明星大侦探 深夜麻辣烫 明星大偵探第三季 明星大侦探 W...</td>\n",
       "    </tr>\n",
       "    <tr>\n",
       "      <th>3</th>\n",
       "      <td>-k6j6Dkyl1M</td>\n",
       "      <td>17.15.11</td>\n",
       "      <td>Sau Ánh Hào Quang #7 FULL | Cát Phượng: Cái sa...</td>\n",
       "      <td>ĐÔNG TÂY PROMOTION OFFICIAL</td>\n",
       "      <td>24</td>\n",
       "      <td>2017-11-13T15:08:54.000Z</td>\n",
       "      <td>sau anh hao quang\"sau ánh hào quang\"\"sau anh h...</td>\n",
       "      <td>1544710</td>\n",
       "      <td>12417</td>\n",
       "      <td>803</td>\n",
       "      <td>2186</td>\n",
       "      <td>https://i.ytimg.com/vi/-k6j6Dkyl1M/default.jpg</td>\n",
       "      <td>False</td>\n",
       "      <td>False</td>\n",
       "      <td>False</td>\n",
       "      <td>sau anh hao quang, sau ánh hào quang, sau anh ...</td>\n",
       "      <td>Entertainment</td>\n",
       "      <td>sau anh hao quang sau ánh hào quang sau anh ha...</td>\n",
       "    </tr>\n",
       "    <tr>\n",
       "      <th>4</th>\n",
       "      <td>-tS7Yecuqwo</td>\n",
       "      <td>17.27.11</td>\n",
       "      <td>Thanksgiving And Trump's (Lack Of) Giving</td>\n",
       "      <td>The Late Show with Stephen Colbert</td>\n",
       "      <td>24</td>\n",
       "      <td>2017-11-23T08:35:00.000Z</td>\n",
       "      <td>The Late Show\"Stephen Colbert\"\"Colbert\"\"Late S...</td>\n",
       "      <td>1709859</td>\n",
       "      <td>18717</td>\n",
       "      <td>1181</td>\n",
       "      <td>2561</td>\n",
       "      <td>https://i.ytimg.com/vi/-tS7Yecuqwo/default.jpg</td>\n",
       "      <td>False</td>\n",
       "      <td>False</td>\n",
       "      <td>False</td>\n",
       "      <td>President Trump is enjoying the season of givi...</td>\n",
       "      <td>Entertainment</td>\n",
       "      <td>The Late Show Stephen Colbert Colbert Late Sho...</td>\n",
       "    </tr>\n",
       "  </tbody>\n",
       "</table>\n",
       "</div>"
      ],
      "text/plain": [
       "      video_id trending_date  \\\n",
       "0  -3c-V5K2p88      17.21.11   \n",
       "1  -4sU_AhRPY0      17.25.11   \n",
       "2  -DxQnfAssuY      17.26.11   \n",
       "3  -k6j6Dkyl1M      17.15.11   \n",
       "4  -tS7Yecuqwo      17.27.11   \n",
       "\n",
       "                                          video_name  \\\n",
       "0    10 Times Gordon Ramsay Actually LIKED THE FOOD!   \n",
       "1  Ellen Teaches Sofia Vergara an English Word of...   \n",
       "2  《明星大侦探3》03案完整版:【深夜麻辣烫】司机撒又开车了！一语道破鸥小妹和魏来的“眠伴”关...   \n",
       "3  Sau Ánh Hào Quang #7 FULL | Cát Phượng: Cái sa...   \n",
       "4          Thanksgiving And Trump's (Lack Of) Giving   \n",
       "\n",
       "                                 channel_title  category_id  \\\n",
       "0                                    BabbleTop           24   \n",
       "1                                 TheEllenShow           24   \n",
       "2  湖南卫视芒果TV官方频道 China HunanTV Official Channel           24   \n",
       "3                  ĐÔNG TÂY PROMOTION OFFICIAL           24   \n",
       "4           The Late Show with Stephen Colbert           24   \n",
       "\n",
       "               publish_time  \\\n",
       "0  2017-11-17T16:00:00.000Z   \n",
       "1  2017-11-21T14:00:00.000Z   \n",
       "2  2017-11-24T16:00:00.000Z   \n",
       "3  2017-11-13T15:08:54.000Z   \n",
       "4  2017-11-23T08:35:00.000Z   \n",
       "\n",
       "                                                tags    views  likes  \\\n",
       "0  gordon ramsay\"gordon ramsey\"\"ramsay\"\"ramsey\"\"c...   420149   2330   \n",
       "1  Sofia Vergara\"Sofia\"\"Vergara\"\"Modern family\"\"S...  2202412  47777   \n",
       "2  明星大侦探3\"明星大偵探\"\"深夜麻辣烫\"\"明星大侦探 深夜麻辣烫\"\"明星大偵探第三季\"\"明星...   430460   2762   \n",
       "3  sau anh hao quang\"sau ánh hào quang\"\"sau anh h...  1544710  12417   \n",
       "4  The Late Show\"Stephen Colbert\"\"Colbert\"\"Late S...  1709859  18717   \n",
       "\n",
       "   dislikes  comment_count                                  thumbnail_link  \\\n",
       "0      1497           1370  https://i.ytimg.com/vi/-3c-V5K2p88/default.jpg   \n",
       "1       513           1480  https://i.ytimg.com/vi/-4sU_AhRPY0/default.jpg   \n",
       "2       108           1513  https://i.ytimg.com/vi/-DxQnfAssuY/default.jpg   \n",
       "3       803           2186  https://i.ytimg.com/vi/-k6j6Dkyl1M/default.jpg   \n",
       "4      1181           2561  https://i.ytimg.com/vi/-tS7Yecuqwo/default.jpg   \n",
       "\n",
       "   comments_disabled  ratings_disabled  video_error_or_removed  \\\n",
       "0              False             False                   False   \n",
       "1              False             False                   False   \n",
       "2              False             False                   False   \n",
       "3              False             False                   False   \n",
       "4              False             False                   False   \n",
       "\n",
       "                                         description       category  \\\n",
       "0  We all know Gordon Ramsay is famous for dislik...  Entertainment   \n",
       "1  Ellen taught the always hilarious Sofía Vergar...  Entertainment   \n",
       "2  【订阅湖南卫视官方频道Subscribe to HunanTV YouTube Channe...  Entertainment   \n",
       "3  sau anh hao quang, sau ánh hào quang, sau anh ...  Entertainment   \n",
       "4  President Trump is enjoying the season of givi...  Entertainment   \n",
       "\n",
       "                                      video_features  \n",
       "0  gordon ramsay gordon ramsey ramsay ramsey chef...  \n",
       "1  Sofia Vergara Sofia Vergara Modern family Sofi...  \n",
       "2  明星大侦探 明星大偵探 深夜麻辣烫 明星大侦探 深夜麻辣烫 明星大偵探第三季 明星大侦探 W...  \n",
       "3  sau anh hao quang sau ánh hào quang sau anh ha...  \n",
       "4  The Late Show Stephen Colbert Colbert Late Sho...  "
      ]
     },
     "execution_count": 46,
     "metadata": {},
     "output_type": "execute_result"
    }
   ],
   "source": [
    "ca_final_df.head()"
   ]
  },
  {
   "cell_type": "code",
   "execution_count": 48,
   "metadata": {},
   "outputs": [
    {
     "name": "stdout",
     "output_type": "stream",
     "text": [
      "\n",
      "    Warning: no model found for 'en'\n",
      "\n",
      "    Only loading the 'en' tokenizer.\n",
      "\n"
     ]
    }
   ],
   "source": [
    "ca_token_corpus = processCorpus(ca_final_df['video_features'].values)"
   ]
  },
  {
   "cell_type": "code",
   "execution_count": 65,
   "metadata": {},
   "outputs": [],
   "source": [
    "us_ca_final_df = pd.concat([us_final_df, ca_final_df])"
   ]
  },
  {
   "cell_type": "code",
   "execution_count": 68,
   "metadata": {},
   "outputs": [
    {
     "name": "stdout",
     "output_type": "stream",
     "text": [
      "\n",
      "    Warning: no model found for 'en'\n",
      "\n",
      "    Only loading the 'en' tokenizer.\n",
      "\n"
     ]
    }
   ],
   "source": [
    "us_ca_token_corpus = processCorpus(us_ca_final_df['video_features'].values)"
   ]
  },
  {
   "cell_type": "code",
   "execution_count": 71,
   "metadata": {},
   "outputs": [
    {
     "name": "stdout",
     "output_type": "stream",
     "text": [
      "[('election', 0.9848800897598267), ('roy', 0.9822814464569092), ('award', 0.979668140411377), ('actress', 0.9791911840438843), ('soaps', 0.9780545234680176), ('winning', 0.9768493175506592), ('mother', 0.9761425256729126), ('against', 0.9753113985061646), ('donald', 0.9741940498352051), ('arasi', 0.9741353988647461)]\n"
     ]
    }
   ],
   "source": [
    "print(recommendTags(us_ca_token_corpus))"
   ]
  },
  {
   "cell_type": "code",
   "execution_count": 72,
   "metadata": {
    "collapsed": true
   },
   "outputs": [],
   "source": [
    "gb_videos_df = pd.read_csv('./data/GBvideos.csv')"
   ]
  },
  {
   "cell_type": "code",
   "execution_count": 73,
   "metadata": {
    "collapsed": true
   },
   "outputs": [],
   "source": [
    "gb_final_df = processDataFrame(gb_videos_df, country_code='GB')"
   ]
  },
  {
   "cell_type": "code",
   "execution_count": 75,
   "metadata": {
    "collapsed": true
   },
   "outputs": [],
   "source": [
    "us_ca_gb_final_df = pd.concat([us_final_df, ca_final_df, gb_final_df])"
   ]
  },
  {
   "cell_type": "code",
   "execution_count": 77,
   "metadata": {},
   "outputs": [
    {
     "name": "stdout",
     "output_type": "stream",
     "text": [
      "\n",
      "    Warning: no model found for 'en'\n",
      "\n",
      "    Only loading the 'en' tokenizer.\n",
      "\n"
     ]
    }
   ],
   "source": [
    "us_ca_gb_token_corpus = processCorpus(us_ca_gb_final_df['video_features'].values)"
   ]
  },
  {
   "cell_type": "code",
   "execution_count": null,
   "metadata": {
    "collapsed": true
   },
   "outputs": [],
   "source": [
    "len(us_ca_gb_token_corpus)"
   ]
  }
 ],
 "metadata": {
  "kernelspec": {
   "display_name": "Python 3",
   "language": "python",
   "name": "python3"
  },
  "language_info": {
   "codemirror_mode": {
    "name": "ipython",
    "version": 3
   },
   "file_extension": ".py",
   "mimetype": "text/x-python",
   "name": "python",
   "nbconvert_exporter": "python",
   "pygments_lexer": "ipython3",
   "version": "3.6.1"
  }
 },
 "nbformat": 4,
 "nbformat_minor": 2
}
