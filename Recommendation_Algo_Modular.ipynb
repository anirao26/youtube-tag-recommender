{
 "cells": [
  {
   "cell_type": "code",
   "execution_count": 24,
   "metadata": {},
   "outputs": [],
   "source": [
    "import pandas as pd\n",
    "import json\n",
    "import numpy as np\n",
    "import spacy\n",
    "import nltk\n",
    "from nltk.corpus import stopwords\n",
    "import re\n",
    "import gensim\n",
    "import math"
   ]
  },
  {
   "cell_type": "code",
   "execution_count": 48,
   "metadata": {
    "collapsed": true
   },
   "outputs": [],
   "source": [
    "global AVG_TAGS_PER_VIDEO"
   ]
  },
  {
   "cell_type": "code",
   "execution_count": 2,
   "metadata": {
    "collapsed": true
   },
   "outputs": [],
   "source": [
    "#get rid of the punctuations and set all characters to lowercase\n",
    "RE_PREPROCESS = r'\\W+|\\d+' #the regular expressions that matches all non-characters\n",
    "\n",
    "#get rid of punctuation and make everything lowercase\n",
    "#the code belows works by looping through the array of text\n",
    "#for a given piece of text we invoke the `re.sub` command where we pass in the regular expression, a space ' ' to\n",
    "#subsitute all the matching characters with\n",
    "#we then invoke the `lower()` method on the output of the re.sub command\n",
    "#to make all the remaining characters\n",
    "#the cleaned document is then stored in a list\n",
    "#once this list has been filed it is then stored in a numpy array"
   ]
  },
  {
   "cell_type": "code",
   "execution_count": 3,
   "metadata": {
    "collapsed": true
   },
   "outputs": [],
   "source": [
    "def processFeatures(desc):\n",
    "    try:\n",
    "        return re.sub(RE_PREPROCESS, ' ', desc)\n",
    "    except:\n",
    "        return \" \""
   ]
  },
  {
   "cell_type": "code",
   "execution_count": 4,
   "metadata": {
    "collapsed": true
   },
   "outputs": [],
   "source": [
    "def processDataFrame(data_frame, country_code='US'):\n",
    "    data_frame.sort_values(by=['video_id', 'trending_date'], ascending=True, inplace=True)\n",
    "    grouped_videos = data_frame.groupby(['video_id']).last().reset_index()\n",
    "    \n",
    "    #Reading categories from the json file depending on country_code\n",
    "    json_location = './data/' + country_code +'_category_id.json'\n",
    "    with open(json_location) as data_file:\n",
    "        data = json.load(data_file)    \n",
    "    categories = []\n",
    "    for item in data['items']:\n",
    "        category = {}\n",
    "        category['category_id'] = int(item['id'])\n",
    "        category['title'] = item['snippet']['title']\n",
    "        categories.append(category)\n",
    "\n",
    "    categories_df = pd.DataFrame(categories)\n",
    "    # Merging videos data with category data\n",
    "    final_df = grouped_videos.merge(categories_df, on = ['category_id'])\n",
    "    final_df.rename(columns={'title_y': 'category', 'title_x': 'video_name'}, inplace=True)\n",
    "    \n",
    "    # Creating a features column that consists all features used for prediction.\n",
    "    final_df['video_features'] = final_df['tags'].astype(str) + final_df['video_name'].astype(str) \\\n",
    "                        + final_df['channel_title'].astype(str) + final_df['description'] + final_df['category']\n",
    "        \n",
    "    final_df['video_features'] = final_df['video_features'].apply(processFeatures)\n",
    "    final_df['video_features'] = final_df['video_features'].apply(processFeatures)\n",
    "    return final_df"
   ]
  },
  {
   "cell_type": "code",
   "execution_count": 36,
   "metadata": {
    "collapsed": true
   },
   "outputs": [],
   "source": [
    "def removeStopwords(documents):\n",
    "    stopwords_list = stopwords.words('english')\n",
    "    processed_corpus = []\n",
    "    for document in documents:\n",
    "        processed_document = []\n",
    "        for word in document.split():\n",
    "            if word not in stopwords_list:\n",
    "                processed_document.append(word)\n",
    "        processed_corpus.append(processed_document)\n",
    "    return processed_corpus"
   ]
  },
  {
   "cell_type": "code",
   "execution_count": 37,
   "metadata": {
    "collapsed": true
   },
   "outputs": [],
   "source": [
    "def processCorpus(feature_corpus):\n",
    "    feature_corpus = [comment.lower() for comment in feature_corpus]\n",
    "    processed_feature_corpus = removeStopwords(feature_corpus)\n",
    "    # processed_feature_corpus = [nltk.word_tokenize(str(feature)) for feature in feature_corpus]\n",
    "    return processed_feature_corpus"
   ]
  },
  {
   "cell_type": "code",
   "execution_count": 38,
   "metadata": {
    "collapsed": true
   },
   "outputs": [],
   "source": [
    "def trainModel(token_corpus):\n",
    "    model = gensim.models.Word2Vec(sentences=token_corpus, min_count=1, size = 32)\n",
    "    model.train(token_corpus, total_examples=model.corpus_count, epochs=model.iter)\n",
    "    model.save('word2vec_model.w2v')\n",
    "    return model"
   ]
  },
  {
   "cell_type": "code",
   "execution_count": 59,
   "metadata": {
    "collapsed": true
   },
   "outputs": [],
   "source": [
    "def recommendTags(token_corpus, input_words = ['trump', 'president'], number_of_tags = 10):\n",
    "    word2vec_model = gensim.models.Word2Vec.load('word2vec_model.w2v')\n",
    "    tags = []\n",
    "    try:\n",
    "        tags = word2vec_model.most_similar(positive=input_words, topn=number_of_tags)\n",
    "    except:\n",
    "        token_corpus.append(input_words)\n",
    "        word2vec_model.build_vocab(token_corpus, update=True)\n",
    "        word2vec_model.train(token_corpus, total_examples=word2vec_model.corpus_count, epochs=word2vec_model.iter)\n",
    "        word2vec_model.save('word2vec_model.w2v')\n",
    "        tags = word2vec_model.most_similar(positive=input_words, topn=number_of_tags)\n",
    "    \n",
    "    return token_corpus, tags"
   ]
  },
  {
   "cell_type": "markdown",
   "metadata": {},
   "source": [
    "Running the algorithm for US videos"
   ]
  },
  {
   "cell_type": "code",
   "execution_count": 60,
   "metadata": {
    "collapsed": true
   },
   "outputs": [],
   "source": [
    "us_videos_df = pd.read_csv('./data/USvideos.csv')\n",
    "us_final_df = processDataFrame(us_videos_df, country_code='US')"
   ]
  },
  {
   "cell_type": "code",
   "execution_count": 61,
   "metadata": {
    "collapsed": true
   },
   "outputs": [],
   "source": [
    "ca_videos_df = pd.read_csv('./data/CAvideos.csv')\n",
    "ca_final_df = processDataFrame(ca_videos_df, country_code='CA')"
   ]
  },
  {
   "cell_type": "code",
   "execution_count": 62,
   "metadata": {
    "collapsed": true
   },
   "outputs": [],
   "source": [
    "gb_videos_df = pd.read_csv('./data/GBvideos.csv')\n",
    "gb_final_df = processDataFrame(gb_videos_df, country_code='GB')"
   ]
  },
  {
   "cell_type": "code",
   "execution_count": 63,
   "metadata": {
    "collapsed": true
   },
   "outputs": [],
   "source": [
    "us_ca_gb_final_df = pd.concat([us_final_df, ca_final_df, gb_final_df])"
   ]
  },
  {
   "cell_type": "code",
   "execution_count": 64,
   "metadata": {},
   "outputs": [],
   "source": [
    "us_ca_gb_token_corpus = processCorpus(us_ca_gb_final_df['video_features'].values)"
   ]
  },
  {
   "cell_type": "code",
   "execution_count": 65,
   "metadata": {},
   "outputs": [
    {
     "name": "stdout",
     "output_type": "stream",
     "text": [
      "Total tags in the corpus: 56012\n",
      "Average number of tags per video: 19\n"
     ]
    }
   ],
   "source": [
    "total_tags = 0\n",
    "for tag_list in us_ca_gb_final_df['tags'].values:\n",
    "    total_tags += len(tag_list.split('|'))\n",
    "print('Total tags in the corpus:', total_tags)\n",
    "AVG_TAGS_PER_VIDEO = math.ceil(total_tags/len(us_ca_gb_final_df))\n",
    "print('Average number of tags per video:', AVG_TAGS_PER_VIDEO)"
   ]
  },
  {
   "cell_type": "code",
   "execution_count": 66,
   "metadata": {
    "collapsed": true
   },
   "outputs": [],
   "source": [
    "us_ca_gb_final_df['video_features'] = us_ca_gb_token_corpus"
   ]
  },
  {
   "cell_type": "code",
   "execution_count": 67,
   "metadata": {},
   "outputs": [
    {
     "data": {
      "text/plain": [
       "3029"
      ]
     },
     "execution_count": 67,
     "metadata": {},
     "output_type": "execute_result"
    }
   ],
   "source": [
    "len(us_ca_gb_token_corpus)"
   ]
  },
  {
   "cell_type": "code",
   "execution_count": 68,
   "metadata": {},
   "outputs": [
    {
     "data": {
      "text/plain": [
       "<gensim.models.word2vec.Word2Vec at 0x1ab72b3e160>"
      ]
     },
     "execution_count": 68,
     "metadata": {},
     "output_type": "execute_result"
    }
   ],
   "source": [
    "trainModel(us_ca_gb_token_corpus)"
   ]
  },
  {
   "cell_type": "markdown",
   "metadata": {},
   "source": [
    "Computing average number of tags per video"
   ]
  },
  {
   "cell_type": "code",
   "execution_count": 71,
   "metadata": {},
   "outputs": [],
   "source": [
    "us_ca_gb_token_corpus, tags = recommendTags(us_ca_gb_token_corpus, input_words=['trump', 'president'], number_of_tags=AVG_TAGS_PER_VIDEO)"
   ]
  },
  {
   "cell_type": "code",
   "execution_count": 72,
   "metadata": {},
   "outputs": [
    {
     "data": {
      "text/plain": [
       "[('donald', 0.9869476556777954),\n",
       " ('pocahontas', 0.9681788086891174),\n",
       " ('ceremony', 0.9679031372070312),\n",
       " ('rodrigo', 0.965264081954956),\n",
       " ('napakahusay', 0.9647417068481445),\n",
       " ('calling', 0.962499737739563),\n",
       " ('conway', 0.9615099430084229),\n",
       " ('kellyanne', 0.9595869779586792),\n",
       " ('wikileaks', 0.9582960605621338),\n",
       " ('roy', 0.9578506946563721),\n",
       " ('obama', 0.9525599479675293),\n",
       " ('duterte', 0.9497562646865845),\n",
       " ('manila', 0.9496163725852966),\n",
       " ('philippines', 0.9473019242286682),\n",
       " ('presidential', 0.9469354152679443),\n",
       " ('moore', 0.9460469484329224),\n",
       " ('franken', 0.9451020956039429),\n",
       " ('levied', 0.9448361992835999),\n",
       " ('asean', 0.9445689916610718)]"
      ]
     },
     "execution_count": 72,
     "metadata": {},
     "output_type": "execute_result"
    }
   ],
   "source": [
    "tags"
   ]
  },
  {
   "cell_type": "markdown",
   "metadata": {},
   "source": [
    "## Dividing the dataset into training (80%) and testing sets (20%)."
   ]
  },
  {
   "cell_type": "code",
   "execution_count": 220,
   "metadata": {
    "collapsed": true
   },
   "outputs": [],
   "source": [
    "np.random.seed(seed=13579)\n",
    "us_ca_gb_final_df_shuffled = us_ca_gb_final_df.iloc[np.random.permutation(len(us_ca_gb_final_df))]\n",
    "train_size = 0.80\n",
    "us_ca_gb_df_train = us_ca_gb_final_df_shuffled[:int((train_size)*len(us_ca_gb_final_df_shuffled))]\n",
    "us_ca_gb_df_test = us_ca_gb_final_df_shuffled[int((train_size)*len(us_ca_gb_final_df_shuffled)):]"
   ]
  },
  {
   "cell_type": "code",
   "execution_count": 227,
   "metadata": {},
   "outputs": [
    {
     "data": {
      "text/plain": [
       "0                                Chess\"Saint Louis\"\"Club\"\n",
       "1       john green\"mental floss\"\"koalas\"\"marsupial\"\"jo...\n",
       "2       emergence\"ants\"\"intelligence\"\"ant\"\"sum of its ...\n",
       "3                                               hanyuqiao\n",
       "4       the\"secret\"\"protocal\"\"procedure\"\"process\"\"for\"...\n",
       "5       real life lore\"real life lore maps\"\"real life ...\n",
       "6       the school of life\"school\"\"life\"\"education\"\"re...\n",
       "7       SciShow\"science\"\"Hank\"\"Green\"\"education\"\"learn...\n",
       "8       TED\"TED-Ed\"\"TED Education\"\"TED Ed\"\"Nicholas Am...\n",
       "9       black friday\"black friday sales\"\"How Likely Ar...\n",
       "10      TED\"TED-Ed\"\"TED Education\"\"TED Ed\"\"Melvin Sani...\n",
       "11      summit\"conference\"\"ideas\"\"talks\"\"performances\"...\n",
       "12      science\"pbs digital studios\"\"pbs\"\"joe hanson\"\"...\n",
       "13      veritasium\"mitosis\"\"cell division\"\"biology\"\"dn...\n",
       "14      TED\"TED-Ed\"\"TED Education\"\"TED Ed\"\"Hilary Coll...\n",
       "15                                            googlevideo\n",
       "16      tom scott\"tomscott\"\"built for science\"\"nationa...\n",
       "17      earthquake\"biggest earthquake\"\"biggest earthqu...\n",
       "18      SciShow\"science\"\"Hank\"\"Green\"\"education\"\"learn...\n",
       "19      the room\"so bad its good\"\"movies that are so b...\n",
       "20      American Things Europeans Find Weird\"americans...\n",
       "21      proto putty\"proto\"\"putty\"\"diy\"\"do it yourself\"...\n",
       "22      SciShow\"science\"\"Hank\"\"Green\"\"education\"\"learn...\n",
       "23                                 90s commercials\"Huffy\"\n",
       "24      nuclear\"waste\"\"atomic\"\"nuke\"\"spent fuel\"\"nucle...\n",
       "25      life noggin\"life noggin youtube\"\"youtube life ...\n",
       "26      tom scott\"tomscott\"\"things you might not know\"...\n",
       "27      Thanksgiving\"candy\"\"jolly ranchers\"\"turkey\"\"ho...\n",
       "28      which programming language to learn first\"what...\n",
       "29      tom scott\"tomscott\"\"staufen\"\"germany\"\"black fo...\n",
       "                              ...                        \n",
       "1722    aquarium\"adding fish\"\"fish added\"\"adding fish ...\n",
       "1723    shopping for new fish\"new fish\"\"aquarium fish\"...\n",
       "1724    ants\"antscanada\"\"mikey bustos\"\"myrmecology\"\"an...\n",
       "1725                                               [none]\n",
       "1726    Aquarium\"aquarium fish\"\"uarujoey\"\"aquarium gal...\n",
       "1727    Ants\"stinging\"\"bullet ant\"\"ant\"\"ant sting\"\"ant...\n",
       "1728    cartoon\"simons cat\"\"simon's cat\"\"simonscat\"\"si...\n",
       "1729    ants\"antscanada\"\"mikey bustos\"\"myrmecology\"\"an...\n",
       "1730    stinging\"bullet ant\"\"ant\"\"ant sting\"\"ant bite\"...\n",
       "1731    Hope For Paws\"Eldad Hagar\"\"Lisa Arturo\"\"JoAnn ...\n",
       "1732    tj hunt\"subaru brz\"\"cars\"\"PC\"\"carbon fiber hoo...\n",
       "1733    bmw m3\"m3\"\"e30 m3\"\"e36 m3\"\"e46 m3\"\"e90 m3\"\"e92...\n",
       "1734    1jz\"240sx\"\"nicole\"\"drift\"\"turbo\"\"wastegate\"\"mi...\n",
       "1735    ferrari boxer\"ferrari 512bb\"\"ferrari bb boxer\"...\n",
       "1736    mighty\"car\"\"mods\"\"moog\"\"marty\"\"turbo\"\"jdm\"\"how...\n",
       "1737    ford f-250\"ford super duty\"\"f-250 platinum\"\"f-...\n",
       "1738    spyker c8\"spyker\"\"spyker c8 spyder\"\"c8 spyder\"...\n",
       "1739    chevy corvette zr1\"corvette zr1\"\"zr1\"\"chevy zr...\n",
       "1740                                               [none]\n",
       "1741    Dream car\"buying my mom her dream car\"\"buying ...\n",
       "1742    mercedes clk dtm\"clk dtm\"\"clk amg\"\"rare merced...\n",
       "1743    GT Series\"Qualification Race\"\"Macau Grand Prix...\n",
       "1744    texting\"driving\"\"texting and driving\"\"police\"\"...\n",
       "1745    electric car\"electric vehicle\"\"comuta car\"\"cit...\n",
       "1746    2018 BMW M4 CS\"2018 Porsche 911 GTS\"\"Nürburgri...\n",
       "1747    Hyundai\"Accent\"\"Sedán\"\"Comparativa\"\"Reseña\"\"Re...\n",
       "1748                                               [none]\n",
       "1749    tesla\"model s\"\"model x\"\"model 3\"\"powerwall\"\"el...\n",
       "1750    mighty\"car\"\"mods\"\"moog\"\"marty\"\"turbo\"\"jdm\"\"how...\n",
       "1751    ASEAN opening ceremony\"asean performances\"\"dut...\n",
       "Name: tags, Length: 2543, dtype: object"
      ]
     },
     "execution_count": 227,
     "metadata": {},
     "output_type": "execute_result"
    }
   ],
   "source": [
    "us_ca_final_df['tags']"
   ]
  }
 ],
 "metadata": {
  "kernelspec": {
   "display_name": "Python 3",
   "language": "python",
   "name": "python3"
  },
  "language_info": {
   "codemirror_mode": {
    "name": "ipython",
    "version": 3
   },
   "file_extension": ".py",
   "mimetype": "text/x-python",
   "name": "python",
   "nbconvert_exporter": "python",
   "pygments_lexer": "ipython3",
   "version": "3.6.1"
  }
 },
 "nbformat": 4,
 "nbformat_minor": 2
}
