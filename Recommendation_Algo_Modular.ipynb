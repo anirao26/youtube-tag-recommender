{
 "cells": [
  {
   "cell_type": "code",
   "execution_count": 25,
   "metadata": {},
   "outputs": [],
   "source": [
    "import pandas as pd\n",
    "import json\n",
    "import numpy as np\n",
    "import nltk\n",
    "from nltk.corpus import stopwords\n",
    "import re\n",
    "import gensim\n",
    "import math"
   ]
  },
  {
   "cell_type": "code",
   "execution_count": 26,
   "metadata": {
    "collapsed": true
   },
   "outputs": [],
   "source": [
    "global AVG_TAGS_PER_VIDEO, US_CA_GB_TOKEN_CORPUS, US_VIDEOS_DF, US_FINAL_DF\n",
    "global CA_VIDEOS_DF, CA_FINAL_DF, GB_VIDEOS_DF, GB_FINAL_DF, US_CA_GB_FINAL_DF"
   ]
  },
  {
   "cell_type": "code",
   "execution_count": 27,
   "metadata": {
    "collapsed": true
   },
   "outputs": [],
   "source": [
    "#get rid of the punctuations and set all characters to lowercase\n",
    "RE_PREPROCESS = r'\\W+|\\d+' #the regular expressions that matches all non-characters\n",
    "\n",
    "#get rid of punctuation and make everything lowercase\n",
    "#the code belows works by looping through the array of text\n",
    "#for a given piece of text we invoke the `re.sub` command where we pass in the regular expression, a space ' ' to\n",
    "#subsitute all the matching characters with\n",
    "#we then invoke the `lower()` method on the output of the re.sub command\n",
    "#to make all the remaining characters\n",
    "#the cleaned document is then stored in a list\n",
    "#once this list has been filed it is then stored in a numpy array"
   ]
  },
  {
   "cell_type": "code",
   "execution_count": 28,
   "metadata": {
    "collapsed": true
   },
   "outputs": [],
   "source": [
    "RE_REMOVE_URLS = r'http\\S+'"
   ]
  },
  {
   "cell_type": "code",
   "execution_count": 29,
   "metadata": {
    "collapsed": true
   },
   "outputs": [],
   "source": [
    "def processFeatures(desc):\n",
    "    try:\n",
    "        desc = re.sub(RE_REMOVE_URLS, ' ', desc)\n",
    "        return re.sub(RE_PREPROCESS, ' ', desc)\n",
    "    except:\n",
    "        return \" \""
   ]
  },
  {
   "cell_type": "code",
   "execution_count": 30,
   "metadata": {
    "collapsed": true
   },
   "outputs": [],
   "source": [
    "def processDataFrame(data_frame, country_code='US'):\n",
    "    data_frame.sort_values(by=['video_id', 'trending_date'], ascending=True, inplace=True)\n",
    "    grouped_videos = data_frame.groupby(['video_id']).last().reset_index()\n",
    "    \n",
    "    #Reading categories from the json file depending on country_code\n",
    "    json_location = './data/' + country_code +'_category_id.json'\n",
    "    with open(json_location) as data_file:\n",
    "        data = json.load(data_file)    \n",
    "    categories = []\n",
    "    for item in data['items']:\n",
    "        category = {}\n",
    "        category['category_id'] = int(item['id'])\n",
    "        category['title'] = item['snippet']['title']\n",
    "        categories.append(category)\n",
    "\n",
    "    categories_df = pd.DataFrame(categories)\n",
    "    # Merging videos data with category data\n",
    "    final_df = grouped_videos.merge(categories_df, on = ['category_id'])\n",
    "    final_df.rename(columns={'title_y': 'category', 'title_x': 'video_name'}, inplace=True)\n",
    "    \n",
    "    # Creating a features column that consists all features used for prediction.\n",
    "    # Also creating a corpus column that consists of all data required to train the model.\n",
    "    final_df['video_features'] = ''\n",
    "    final_df['video_corpus'] = ''\n",
    "    \n",
    "    if final_df['video_name'].astype(str) is not None:\n",
    "        final_df['video_features'] += final_df['video_name'].astype(str)\n",
    "\n",
    "    if final_df['channel_title'].astype(str) is not None:\n",
    "        final_df['video_features'] += final_df['channel_title'].astype(str)\n",
    "        \n",
    "    if final_df['description'].astype(str) is not None:\n",
    "        final_df['video_features'] += final_df['description'].astype(str)\n",
    "    \n",
    "    final_df['video_corpus'] += final_df['video_features']\n",
    "    if final_df['tags'].astype(str) is not None:\n",
    "        final_df['video_corpus'] += final_df['tags'].astype(str)\n",
    "    \n",
    "        \n",
    "    final_df['video_features'] = final_df['video_features'].apply(processFeatures)\n",
    "    final_df['video_corpus'] = final_df['video_corpus'].apply(processFeatures)\n",
    "    return final_df"
   ]
  },
  {
   "cell_type": "code",
   "execution_count": 31,
   "metadata": {
    "collapsed": true
   },
   "outputs": [],
   "source": [
    "def removeStopwords(documents):\n",
    "    stopwords_list = stopwords.words('english')\n",
    "    processed_corpus = []\n",
    "    for document in documents:\n",
    "        processed_document = []\n",
    "        for word in document.split():\n",
    "            if word not in stopwords_list:\n",
    "                processed_document.append(word)\n",
    "        processed_corpus.append(processed_document)\n",
    "    return processed_corpus"
   ]
  },
  {
   "cell_type": "code",
   "execution_count": 32,
   "metadata": {
    "collapsed": true
   },
   "outputs": [],
   "source": [
    "def processCorpus(feature_corpus):\n",
    "    feature_corpus = [comment.lower() for comment in feature_corpus]\n",
    "    processed_feature_corpus = removeStopwords(feature_corpus)\n",
    "    return processed_feature_corpus"
   ]
  },
  {
   "cell_type": "code",
   "execution_count": 33,
   "metadata": {
    "collapsed": true
   },
   "outputs": [],
   "source": [
    "def trainModel(token_corpus):\n",
    "    model = gensim.models.Word2Vec(sentences=token_corpus, min_count=1, size = 32)\n",
    "    model.train(token_corpus, total_examples=model.corpus_count, epochs=model.iter)\n",
    "    model.save('word2vec_model.w2v')\n",
    "    return model"
   ]
  },
  {
   "cell_type": "code",
   "execution_count": 34,
   "metadata": {
    "collapsed": true
   },
   "outputs": [],
   "source": [
    "def recommendTags(word2vec_model, input_words = ['trump', 'president'], number_of_tags = 10, model_name = 'word2vec_model.w2v'):\n",
    "    global US_CA_GB_TOKEN_CORPUS\n",
    "    tags = []\n",
    "    if word2vec_model is None:\n",
    "        gensim.models.Word2Vec.load(model_name)\n",
    "    try:\n",
    "        tags = word2vec_model.most_similar(positive=input_words, topn=number_of_tags)\n",
    "    except:\n",
    "        US_CA_GB_TOKEN_CORPUS.append(input_words)\n",
    "        word2vec_model.build_vocab(US_CA_GB_TOKEN_CORPUS, update=True)\n",
    "        word2vec_model.train(US_CA_GB_TOKEN_CORPUS, total_examples=word2vec_model.corpus_count, epochs=word2vec_model.iter)\n",
    "        word2vec_model.save(model_name)\n",
    "        tags = word2vec_model.most_similar(positive=input_words, topn=number_of_tags)\n",
    "    \n",
    "    return tags"
   ]
  },
  {
   "cell_type": "code",
   "execution_count": 35,
   "metadata": {
    "collapsed": true
   },
   "outputs": [],
   "source": [
    "def calculateAvgTagsPerVideo():\n",
    "    total_tags = 0\n",
    "    for tag_list in US_CA_GB_FINAL_DF['tags'].values:\n",
    "        total_tags += len(tag_list.split('|'))\n",
    "    return math.ceil(total_tags/len(US_CA_GB_FINAL_DF))"
   ]
  },
  {
   "cell_type": "markdown",
   "metadata": {},
   "source": [
    "Running the algorithm for US, CA, and GB videos"
   ]
  },
  {
   "cell_type": "code",
   "execution_count": 44,
   "metadata": {
    "collapsed": true
   },
   "outputs": [],
   "source": [
    "def initializeAndFetchRecommendations():\n",
    "    global US_VIDEOS_DF, US_FINAL_DF, CA_VIDEOS_DF, CA_FINAL_DF, GB_VIDEOS_DF, GB_FINAL_DF\n",
    "    global US_CA_GB_FINAL_DF, US_CA_GB_FINAL_DF, AVG_TAGS_PER_VIDEO, US_CA_GB_TOKEN_CORPUS\n",
    "    US_VIDEOS_DF = pd.read_csv('./data/USvideos.csv')\n",
    "    US_FINAL_DF = processDataFrame(US_VIDEOS_DF, country_code='US')\n",
    "    \n",
    "    CA_VIDEOS_DF = pd.read_csv('./data/CAvideos.csv')\n",
    "    CA_FINAL_DF = processDataFrame(CA_VIDEOS_DF, country_code='CA')\n",
    "    \n",
    "    GB_VIDEOS_DF = pd.read_csv('./data/GBvideos.csv')\n",
    "    GB_FINAL_DF = processDataFrame(GB_VIDEOS_DF, country_code='GB')\n",
    "        \n",
    "    US_CA_GB_FINAL_DF = pd.concat([US_FINAL_DF, CA_FINAL_DF, GB_FINAL_DF])\n",
    "    US_CA_GB_FINAL_DF.reset_index(inplace=True)\n",
    "    \n",
    "    US_CA_GB_TOKEN_CORPUS = processCorpus(US_CA_GB_FINAL_DF['video_corpus'].values)\n",
    "    US_CA_GB_FINAL_DF['video_features'] = processCorpus(US_CA_GB_FINAL_DF['video_features'].values)\n",
    "    US_CA_GB_FINAL_DF['video_corpus'] = US_CA_GB_TOKEN_CORPUS\n",
    "        \n",
    "    AVG_TAGS_PER_VIDEO = calculateAvgTagsPerVideo()\n",
    "    word2vec_model = trainModel(US_CA_GB_TOKEN_CORPUS)\n",
    "    tags = recommendTags(word2vec_model, input_words=['trump', 'president'], \n",
    "                     number_of_tags=AVG_TAGS_PER_VIDEO, \n",
    "                     model_name = 'word2vec_model.w2v')\n",
    "    print(tags)\n",
    "    "
   ]
  },
  {
   "cell_type": "code",
   "execution_count": 46,
   "metadata": {},
   "outputs": [
    {
     "name": "stdout",
     "output_type": "stream",
     "text": [
      "[('donald', 0.9870792031288147), ('pocahontas', 0.964668869972229), ('timespresident', 0.9583253264427185), ('trumpgolden', 0.9551000595092773), ('presidency', 0.9550266265869141), ('clinton', 0.9529298543930054), ('rodrigo', 0.9425835609436035), ('stupidity', 0.9418088793754578), ('politcs', 0.9378143548965454), ('ndonal', 0.9353193044662476), ('napakahusay', 0.9340260624885559), ('ukdonald', 0.9328857660293579), ('duterte', 0.9328757524490356), ('summit', 0.9318647384643555), ('hillary', 0.9313687086105347), ('pinoy', 0.930972158908844), ('wikileaks', 0.9277454614639282), ('muller', 0.9261130690574646), ('asean', 0.9246601462364197)]\n"
     ]
    }
   ],
   "source": [
    "initializeAndFetchRecommendations()"
   ]
  },
  {
   "cell_type": "markdown",
   "metadata": {},
   "source": [
    "## Dividing the dataset into training (80%) and testing sets (20%)."
   ]
  },
  {
   "cell_type": "code",
   "execution_count": 47,
   "metadata": {},
   "outputs": [
    {
     "data": {
      "text/plain": [
       "3029"
      ]
     },
     "execution_count": 47,
     "metadata": {},
     "output_type": "execute_result"
    }
   ],
   "source": [
    "len(US_CA_GB_FINAL_DF)"
   ]
  },
  {
   "cell_type": "code",
   "execution_count": 48,
   "metadata": {
    "collapsed": true
   },
   "outputs": [],
   "source": [
    "np.random.seed(seed=13579)\n",
    "us_ca_gb_final_df_shuffled = US_CA_GB_FINAL_DF.iloc[np.random.permutation(len(US_CA_GB_FINAL_DF))]"
   ]
  },
  {
   "cell_type": "code",
   "execution_count": 49,
   "metadata": {
    "collapsed": true
   },
   "outputs": [],
   "source": [
    "train_size = 0.80\n",
    "us_ca_gb_df_train = us_ca_gb_final_df_shuffled[:int((train_size)*len(us_ca_gb_final_df_shuffled))]\n",
    "us_ca_gb_df_test = us_ca_gb_final_df_shuffled[int((train_size)*len(us_ca_gb_final_df_shuffled)):]"
   ]
  },
  {
   "cell_type": "code",
   "execution_count": 50,
   "metadata": {
    "collapsed": true
   },
   "outputs": [],
   "source": [
    "w2v_train_model = gensim.models.Word2Vec(sentences=us_ca_gb_df_train['video_corpus'], min_count=1, size = 32)\n",
    "w2v_train_model.train(us_ca_gb_df_train['video_corpus'].values, total_examples=w2v_train_model.corpus_count, epochs=w2v_train_model.iter)\n",
    "w2v_train_model.save('w2v_train_model.w2v')"
   ]
  },
  {
   "cell_type": "code",
   "execution_count": 51,
   "metadata": {
    "collapsed": true
   },
   "outputs": [],
   "source": [
    "w2v_train_model = gensim.models.Word2Vec.load('w2v_train_model.w2v')"
   ]
  },
  {
   "cell_type": "code",
   "execution_count": 52,
   "metadata": {},
   "outputs": [],
   "source": [
    "predicted_tags = []\n",
    "for idx in us_ca_gb_df_test.index:\n",
    "    video_features = us_ca_gb_df_test.loc[idx, 'video_features']\n",
    "    if len(video_features) > 0:\n",
    "        tag_probability_list = recommendTags(w2v_train_model, input_words=video_features,\n",
    "                                             number_of_tags=AVG_TAGS_PER_VIDEO, \n",
    "                                             model_name = 'w2v_train_model.w2v')\n",
    "        predicted_tags.append([tag[0] for tag in tag_probability_list])\n",
    "\n",
    "    "
   ]
  },
  {
   "cell_type": "code",
   "execution_count": 53,
   "metadata": {},
   "outputs": [
    {
     "name": "stderr",
     "output_type": "stream",
     "text": [
      "C:\\Users\\karan\\Miniconda3\\lib\\site-packages\\ipykernel_launcher.py:1: SettingWithCopyWarning: \n",
      "A value is trying to be set on a copy of a slice from a DataFrame.\n",
      "Try using .loc[row_indexer,col_indexer] = value instead\n",
      "\n",
      "See the caveats in the documentation: http://pandas.pydata.org/pandas-docs/stable/indexing.html#indexing-view-versus-copy\n",
      "  \"\"\"Entry point for launching an IPython kernel.\n"
     ]
    }
   ],
   "source": [
    "us_ca_gb_df_test['predicted_tags'] = predicted_tags"
   ]
  },
  {
   "cell_type": "code",
   "execution_count": 54,
   "metadata": {},
   "outputs": [
    {
     "name": "stderr",
     "output_type": "stream",
     "text": [
      "C:\\Users\\karan\\Miniconda3\\lib\\site-packages\\ipykernel_launcher.py:1: SettingWithCopyWarning: \n",
      "A value is trying to be set on a copy of a slice from a DataFrame.\n",
      "Try using .loc[row_indexer,col_indexer] = value instead\n",
      "\n",
      "See the caveats in the documentation: http://pandas.pydata.org/pandas-docs/stable/indexing.html#indexing-view-versus-copy\n",
      "  \"\"\"Entry point for launching an IPython kernel.\n"
     ]
    }
   ],
   "source": [
    "us_ca_gb_df_test['tags'] = us_ca_gb_df_test['tags'].apply(processFeatures)"
   ]
  },
  {
   "cell_type": "code",
   "execution_count": 55,
   "metadata": {},
   "outputs": [
    {
     "name": "stdout",
     "output_type": "stream",
     "text": [
      "Match found:  134\n",
      "Accuracy:  0.22112211221122113\n"
     ]
    }
   ],
   "source": [
    "match_found = 0\n",
    "count = 0\n",
    "for idx in us_ca_gb_df_test.index:\n",
    "    tag_list = us_ca_gb_df_test.loc[idx,'tags'].lower()\n",
    "    tag_list = tag_list.split(' ')\n",
    "    predicted_tag_list = us_ca_gb_df_test.loc[idx, 'predicted_tags']\n",
    "    \n",
    "    for i in range(len(tag_list)):\n",
    "        if tag_list[i] in predicted_tag_list:\n",
    "            match_found += 1\n",
    "            break\n",
    "    count += 1\n",
    "print('Match found: ', match_found )\n",
    "print('Accuracy: ', match_found/len(us_ca_gb_df_test))\n",
    "    \n",
    "    \n"
   ]
  },
  {
   "cell_type": "code",
   "execution_count": null,
   "metadata": {
    "collapsed": true
   },
   "outputs": [],
   "source": []
  }
 ],
 "metadata": {
  "kernelspec": {
   "display_name": "Python 3",
   "language": "python",
   "name": "python3"
  },
  "language_info": {
   "codemirror_mode": {
    "name": "ipython",
    "version": 3
   },
   "file_extension": ".py",
   "mimetype": "text/x-python",
   "name": "python",
   "nbconvert_exporter": "python",
   "pygments_lexer": "ipython3",
   "version": "3.6.1"
  }
 },
 "nbformat": 4,
 "nbformat_minor": 2
}
