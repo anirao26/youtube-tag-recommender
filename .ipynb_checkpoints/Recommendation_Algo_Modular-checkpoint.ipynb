{
 "cells": [
  {
   "cell_type": "code",
   "execution_count": 4,
   "metadata": {},
   "outputs": [
    {
     "name": "stderr",
     "output_type": "stream",
     "text": [
      "C:\\Users\\karan\\Anaconda3\\lib\\site-packages\\gensim\\utils.py:860: UserWarning: detected Windows; aliasing chunkize to chunkize_serial\n",
      "  warnings.warn(\"detected Windows; aliasing chunkize to chunkize_serial\")\n"
     ]
    }
   ],
   "source": [
    "import pandas as pd\n",
    "import json\n",
    "import numpy as np\n",
    "import nltk\n",
    "from nltk.corpus import stopwords\n",
    "import re\n",
    "import gensim\n",
    "import math"
   ]
  },
  {
   "cell_type": "code",
   "execution_count": 5,
   "metadata": {},
   "outputs": [],
   "source": [
    "global AVG_TAGS_PER_VIDEO, US_CA_GB_TOKEN_CORPUS, US_VIDEOS_DF, US_FINAL_DF\n",
    "global CA_VIDEOS_DF, CA_FINAL_DF, GB_VIDEOS_DF, GB_FINAL_DF, US_CA_GB_FINAL_DF"
   ]
  },
  {
   "cell_type": "code",
   "execution_count": 6,
   "metadata": {},
   "outputs": [],
   "source": [
    "#get rid of the punctuations and set all characters to lowercase\n",
    "RE_PREPROCESS = r'\\W+|\\d+' #the regular expressions that matches all non-characters\n",
    "\n",
    "#get rid of punctuation and make everything lowercase\n",
    "#the code belows works by looping through the array of text\n",
    "#for a given piece of text we invoke the `re.sub` command where we pass in the regular expression, a space ' ' to\n",
    "#subsitute all the matching characters with\n",
    "#we then invoke the `lower()` method on the output of the re.sub command\n",
    "#to make all the remaining characters\n",
    "#the cleaned document is then stored in a list\n",
    "#once this list has been filed it is then stored in a numpy array"
   ]
  },
  {
   "cell_type": "code",
   "execution_count": 7,
   "metadata": {},
   "outputs": [],
   "source": [
    "RE_REMOVE_URLS = r'http\\S+'"
   ]
  },
  {
   "cell_type": "code",
   "execution_count": 70,
   "metadata": {},
   "outputs": [],
   "source": [
    "def processFeatures(desc):\n",
    "    try:\n",
    "        desc = re.sub(RE_REMOVE_URLS, ' ', desc)\n",
    "        return re.sub(RE_PREPROCESS, ' ', desc)\n",
    "    except:\n",
    "        return \" \""
   ]
  },
  {
   "cell_type": "code",
   "execution_count": 71,
   "metadata": {},
   "outputs": [],
   "source": [
    "def processDataFrame(data_frame, country_code='US'):\n",
    "    data_frame.sort_values(by=['video_id', 'trending_date'], ascending=True, inplace=True)\n",
    "    grouped_videos = data_frame.groupby(['video_id']).last().reset_index()\n",
    "    \n",
    "    #Reading categories from the json file depending on country_code\n",
    "    json_location = './data/' + country_code +'_category_id.json'\n",
    "    with open(json_location) as data_file:\n",
    "        data = json.load(data_file)    \n",
    "    categories = []\n",
    "    for item in data['items']:\n",
    "        category = {}\n",
    "        category['category_id'] = int(item['id'])\n",
    "        category['title'] = item['snippet']['title']\n",
    "        categories.append(category)\n",
    "\n",
    "    categories_df = pd.DataFrame(categories)\n",
    "    # Merging videos data with category data\n",
    "    final_df = grouped_videos.merge(categories_df, on = ['category_id'])\n",
    "    final_df.rename(columns={'title_y': 'category', 'title_x': 'video_name'}, inplace=True)\n",
    "    \n",
    "    # Creating a features column that consists all features used for prediction.\n",
    "    # Also creating a corpus column that consists of all data required to train the model.\n",
    "    final_df['video_features'] = ''\n",
    "    final_df['video_corpus'] = ''\n",
    "    \n",
    "    if final_df['video_name'].astype(str) is not None:\n",
    "        final_df['video_features'] += final_df['video_name'].astype(str)\n",
    "\n",
    "    if final_df['channel_title'].astype(str) is not None:\n",
    "        final_df['video_features'] += final_df['channel_title'].astype(str)\n",
    "        \n",
    "    if final_df['description'].astype(str) is not None:\n",
    "        final_df['video_features'] += final_df['description'].astype(str)\n",
    "    \n",
    "    final_df['video_corpus'] += final_df['video_features']\n",
    "    if final_df['tags'].astype(str) is not None:\n",
    "        final_df['video_corpus'] += final_df['tags'].astype(str)\n",
    "    \n",
    "        \n",
    "    final_df['video_features'] = final_df['video_features'].apply(processFeatures)\n",
    "    final_df['video_corpus'] = final_df['video_corpus'].apply(processFeatures)\n",
    "    return final_df"
   ]
  },
  {
   "cell_type": "code",
   "execution_count": 72,
   "metadata": {},
   "outputs": [],
   "source": [
    "def removeNonEngAndStopwords(documents):\n",
    "    stopwords_list = stopwords.words('english')\n",
    "    processed_corpus = []\n",
    "    for document in documents:\n",
    "        processed_document = []\n",
    "        for word in document.split():\n",
    "            try:\n",
    "                if word not in stopwords_list and word.encode(encoding='utf-8').decode('ascii'):\n",
    "                    processed_document.append(word)\n",
    "            except UnicodeDecodeError:\n",
    "                # Can log something here\n",
    "                pass\n",
    "        processed_corpus.append(processed_document)\n",
    "    return processed_corpus"
   ]
  },
  {
   "cell_type": "code",
   "execution_count": 73,
   "metadata": {},
   "outputs": [],
   "source": [
    "def processCorpus(feature_corpus):\n",
    "    feature_corpus = [comment.lower() for comment in feature_corpus]\n",
    "    processed_feature_corpus = removeNonEngAndStopwords(feature_corpus)\n",
    "    return processed_feature_corpus"
   ]
  },
  {
   "cell_type": "code",
   "execution_count": 74,
   "metadata": {},
   "outputs": [],
   "source": [
    "def trainModel(token_corpus, model_name = 'word2vec_model.w2v'):\n",
    "    model = gensim.models.Word2Vec(sentences=token_corpus, min_count=1, size = 32)\n",
    "    model.train(token_corpus, total_examples=model.corpus_count, epochs=model.iter)\n",
    "    model.save(model_name)\n",
    "    return model"
   ]
  },
  {
   "cell_type": "code",
   "execution_count": 75,
   "metadata": {},
   "outputs": [],
   "source": [
    "def recommendTags(word2vec_model, input_words = ['trump', 'president'], number_of_tags = 10, model_name = 'word2vec_model.w2v'):\n",
    "    global US_CA_GB_TOKEN_CORPUS\n",
    "    tags = []\n",
    "         \n",
    "    try:\n",
    "        word2vec_model = gensim.models.Word2Vec.load(model_name)\n",
    "        tags = word2vec_model.most_similar(positive=input_words, topn=number_of_tags)\n",
    "    except FileNotFoundError:\n",
    "        word2vec_model = trainModel(US_CA_GB_TOKEN_CORPUS, model_name)\n",
    "        try:\n",
    "            tags = word2vec_model.most_similar(positive=input_words, topn=number_of_tags)\n",
    "        except:\n",
    "            US_CA_GB_TOKEN_CORPUS.append(input_words)\n",
    "            word2vec_model.build_vocab(US_CA_GB_TOKEN_CORPUS, update=True)\n",
    "            word2vec_model.train(US_CA_GB_TOKEN_CORPUS, total_examples=word2vec_model.corpus_count, epochs=word2vec_model.iter)\n",
    "            word2vec_model.save(model_name)\n",
    "            tags = word2vec_model.most_similar(positive=input_words, topn=number_of_tags)\n",
    "    except:\n",
    "        US_CA_GB_TOKEN_CORPUS.append(input_words)\n",
    "        word2vec_model.build_vocab(US_CA_GB_TOKEN_CORPUS, update=True)\n",
    "        word2vec_model.train(US_CA_GB_TOKEN_CORPUS, total_examples=word2vec_model.corpus_count, epochs=word2vec_model.iter)\n",
    "        word2vec_model.save(model_name)\n",
    "        tags = word2vec_model.most_similar(positive=input_words, topn=number_of_tags)\n",
    "    \n",
    "    return tags"
   ]
  },
  {
   "cell_type": "code",
   "execution_count": 76,
   "metadata": {},
   "outputs": [],
   "source": [
    "def calculateAvgTagsPerVideo():\n",
    "    total_tags = 0\n",
    "    for tag_list in US_CA_GB_FINAL_DF['tags'].values:\n",
    "        total_tags += len(tag_list.split('|'))\n",
    "    return math.ceil(total_tags/len(US_CA_GB_FINAL_DF))"
   ]
  },
  {
   "cell_type": "markdown",
   "metadata": {},
   "source": [
    "Running the algorithm for US, CA, and GB videos"
   ]
  },
  {
   "cell_type": "code",
   "execution_count": 84,
   "metadata": {},
   "outputs": [],
   "source": [
    "def initializeAndFetchRecommendations(video_name = None, channel_title = None, video_category = None, description = None):\n",
    "    global US_VIDEOS_DF, US_FINAL_DF, CA_VIDEOS_DF, CA_FINAL_DF, GB_VIDEOS_DF, GB_FINAL_DF\n",
    "    global US_CA_GB_FINAL_DF, US_CA_GB_FINAL_DF, AVG_TAGS_PER_VIDEO, US_CA_GB_TOKEN_CORPUS\n",
    "    US_VIDEOS_DF = pd.read_csv('./data/USvideos.csv')\n",
    "    US_FINAL_DF = processDataFrame(US_VIDEOS_DF, country_code='US')\n",
    "    \n",
    "    CA_VIDEOS_DF = pd.read_csv('./data/CAvideos.csv')\n",
    "    CA_FINAL_DF = processDataFrame(CA_VIDEOS_DF, country_code='CA')\n",
    "    \n",
    "    GB_VIDEOS_DF = pd.read_csv('./data/GBvideos.csv')\n",
    "    GB_FINAL_DF = processDataFrame(GB_VIDEOS_DF, country_code='GB')\n",
    "        \n",
    "    US_CA_GB_FINAL_DF = pd.concat([US_FINAL_DF, CA_FINAL_DF, GB_FINAL_DF])\n",
    "    US_CA_GB_FINAL_DF.reset_index(inplace=True)\n",
    "    \n",
    "    US_CA_GB_TOKEN_CORPUS = processCorpus(US_CA_GB_FINAL_DF['video_corpus'].values)\n",
    "    US_CA_GB_FINAL_DF['video_features'] = processCorpus(US_CA_GB_FINAL_DF['video_features'].values)\n",
    "    US_CA_GB_FINAL_DF['video_corpus'] = US_CA_GB_TOKEN_CORPUS\n",
    "        \n",
    "    AVG_TAGS_PER_VIDEO = calculateAvgTagsPerVideo()\n",
    "    AVG_TAGS_PER_VIDEO = 50\n",
    "    word2vec_model = None\n",
    "    \n",
    "    input_list = []\n",
    "    if (video_name is not None or channel_title is not None or \n",
    "        video_category is not None or description is not None):\n",
    "        frontEndInput = video_name + ' ' + channel_title + ' ' +  video_category + ' ' + description + ' '\n",
    "        for word in frontEndInput.split(' '):\n",
    "            if word.lower() not in stopwords.words('english'):\n",
    "                input_list.append(word.lower())\n",
    "    \n",
    "    if input_list != []:\n",
    "        return recommendTags(word2vec_model, input_words=input_list, \n",
    "                         number_of_tags=AVG_TAGS_PER_VIDEO, \n",
    "                         model_name = 'word2vec_model.w2v')\n",
    "    \n",
    "    return recommendTags(word2vec_model, input_words=['trump', 'president'], \n",
    "                         number_of_tags=AVG_TAGS_PER_VIDEO, \n",
    "                         model_name = 'word2vec_model.w2v')\n",
    "        \n",
    "    "
   ]
  },
  {
   "cell_type": "code",
   "execution_count": 85,
   "metadata": {},
   "outputs": [
    {
     "ename": "TypeError",
     "evalue": "Can't convert 'NoneType' object to str implicitly",
     "output_type": "error",
     "traceback": [
      "\u001b[1;31m---------------------------------------------------------------------------\u001b[0m",
      "\u001b[1;31mTypeError\u001b[0m                                 Traceback (most recent call last)",
      "\u001b[1;32m<ipython-input-85-b094ea7521cc>\u001b[0m in \u001b[0;36m<module>\u001b[1;34m()\u001b[0m\n\u001b[1;32m----> 1\u001b[1;33m \u001b[0mrecommendations\u001b[0m \u001b[1;33m=\u001b[0m \u001b[0minitializeAndFetchRecommendations\u001b[0m\u001b[1;33m(\u001b[0m\u001b[1;33m)\u001b[0m\u001b[1;33m\u001b[0m\u001b[0m\n\u001b[0m",
      "\u001b[1;32m<ipython-input-84-d8192f2291ca>\u001b[0m in \u001b[0;36minitializeAndFetchRecommendations\u001b[1;34m(video_name, channel_title, video_category, description)\u001b[0m\n\u001b[0;32m     25\u001b[0m     if (video_name is not None or channel_title is not None or \n\u001b[0;32m     26\u001b[0m         video_category is not None or description is not None):\n\u001b[1;32m---> 27\u001b[1;33m         \u001b[0mfrontEndInput\u001b[0m \u001b[1;33m=\u001b[0m \u001b[0mvideo_name\u001b[0m \u001b[1;33m+\u001b[0m \u001b[1;34m' '\u001b[0m \u001b[1;33m+\u001b[0m \u001b[0mchannel_title\u001b[0m \u001b[1;33m+\u001b[0m \u001b[1;34m' '\u001b[0m \u001b[1;33m+\u001b[0m  \u001b[0mvideo_category\u001b[0m \u001b[1;33m+\u001b[0m \u001b[1;34m' '\u001b[0m \u001b[1;33m+\u001b[0m \u001b[0mdescription\u001b[0m \u001b[1;33m+\u001b[0m \u001b[1;34m' '\u001b[0m\u001b[1;33m\u001b[0m\u001b[0m\n\u001b[0m\u001b[0;32m     28\u001b[0m         \u001b[1;32mfor\u001b[0m \u001b[0mword\u001b[0m \u001b[1;32min\u001b[0m \u001b[0mfrontEndInput\u001b[0m\u001b[1;33m.\u001b[0m\u001b[0msplit\u001b[0m\u001b[1;33m(\u001b[0m\u001b[1;34m' '\u001b[0m\u001b[1;33m)\u001b[0m\u001b[1;33m:\u001b[0m\u001b[1;33m\u001b[0m\u001b[0m\n\u001b[0;32m     29\u001b[0m             \u001b[1;32mif\u001b[0m \u001b[0mword\u001b[0m\u001b[1;33m.\u001b[0m\u001b[0mlower\u001b[0m\u001b[1;33m(\u001b[0m\u001b[1;33m)\u001b[0m \u001b[1;32mnot\u001b[0m \u001b[1;32min\u001b[0m \u001b[0mstopwords\u001b[0m\u001b[1;33m.\u001b[0m\u001b[0mwords\u001b[0m\u001b[1;33m(\u001b[0m\u001b[1;34m'english'\u001b[0m\u001b[1;33m)\u001b[0m\u001b[1;33m:\u001b[0m\u001b[1;33m\u001b[0m\u001b[0m\n",
      "\u001b[1;31mTypeError\u001b[0m: Can't convert 'NoneType' object to str implicitly"
     ]
    }
   ],
   "source": [
    "recommendations = initializeAndFetchRecommendations()"
   ]
  },
  {
   "cell_type": "code",
   "execution_count": null,
   "metadata": {},
   "outputs": [],
   "source": [
    "recommendations"
   ]
  },
  {
   "cell_type": "code",
   "execution_count": 65,
   "metadata": {},
   "outputs": [],
   "source": [
    "the_file = open(\"recommendations.txt\",\"w+\")\n",
    "for recommendation in recommendations:\n",
    "    the_file.write(recommendation[0] + ' ')\n",
    "the_file.close()"
   ]
  },
  {
   "cell_type": "code",
   "execution_count": 19,
   "metadata": {},
   "outputs": [
    {
     "data": {
      "text/plain": [
       "[('emphasis', 0.8339278697967529),\n",
       " ('medications', 0.8214027881622314),\n",
       " ('grandparent', 0.7855393290519714),\n",
       " ('fetus', 0.7847536206245422),\n",
       " ('unstructured,', 0.7833181619644165),\n",
       " ('constant', 0.7744555473327637),\n",
       " ('unused', 0.7670623064041138),\n",
       " ('metropolitan', 0.7617587447166443),\n",
       " ('redbull', 0.7607500553131104),\n",
       " ('cosmopolitan', 0.7585783004760742),\n",
       " ('netanyahu', 0.7550094127655029),\n",
       " ('mining.', 0.7532414197921753),\n",
       " ('abundant', 0.7525558471679688),\n",
       " ('reclassified', 0.7496532201766968),\n",
       " ('yanes', 0.747504711151123),\n",
       " ('structured', 0.7473931312561035),\n",
       " ('certified', 0.7473263740539551),\n",
       " ('palace_fullmix', 0.7466326951980591),\n",
       " ('sachet', 0.7462137341499329)]"
      ]
     },
     "execution_count": 19,
     "metadata": {},
     "output_type": "execute_result"
    }
   ],
   "source": [
    "initializeAndFetchRecommendations(video_name = 'What is data science',\n",
    "                                  channel_title = 'CNN', \n",
    "                                  video_category = 'Education', \n",
    "                                  description = 'data science related')"
   ]
  },
  {
   "cell_type": "markdown",
   "metadata": {},
   "source": [
    "## Dividing the dataset into training (80%) and testing sets (20%)."
   ]
  },
  {
   "cell_type": "code",
   "execution_count": 18,
   "metadata": {},
   "outputs": [],
   "source": [
    "np.random.seed(seed=13579)\n",
    "us_ca_gb_final_df_shuffled = US_CA_GB_FINAL_DF.iloc[np.random.permutation(len(US_CA_GB_FINAL_DF))]"
   ]
  },
  {
   "cell_type": "code",
   "execution_count": 19,
   "metadata": {},
   "outputs": [],
   "source": [
    "train_size = 0.80\n",
    "us_ca_gb_df_train = us_ca_gb_final_df_shuffled[:int((train_size)*len(us_ca_gb_final_df_shuffled))]\n",
    "us_ca_gb_df_test = us_ca_gb_final_df_shuffled[int((train_size)*len(us_ca_gb_final_df_shuffled)):]"
   ]
  },
  {
   "cell_type": "code",
   "execution_count": 21,
   "metadata": {},
   "outputs": [],
   "source": [
    "try:\n",
    "    w2v_train_model = gensim.models.Word2Vec.load('w2v_train_model.w2v')\n",
    "except FileNotFoundError:\n",
    "    w2v_train_model = gensim.models.Word2Vec(sentences=us_ca_gb_df_train['video_corpus'], min_count=1, size = 32)\n",
    "    w2v_train_model.train(us_ca_gb_df_train['video_corpus'].values, total_examples=w2v_train_model.corpus_count, epochs=w2v_train_model.iter)\n",
    "    w2v_train_model.save('w2v_train_model.w2v')    \n"
   ]
  },
  {
   "cell_type": "code",
   "execution_count": 56,
   "metadata": {
    "collapsed": true
   },
   "outputs": [],
   "source": [
    "us_ca_gb_df_test = us_ca_gb_df_test[us_ca_gb_df_test['video_features'].map(len) > 0]"
   ]
  },
  {
   "cell_type": "code",
   "execution_count": 57,
   "metadata": {
    "collapsed": true
   },
   "outputs": [],
   "source": [
    "predicted_tags = []\n",
    "for idx in us_ca_gb_df_test.index:\n",
    "    video_features = us_ca_gb_df_test.loc[idx, 'video_features']\n",
    "    tag_probability_list = recommendTags(w2v_train_model, input_words=video_features, \n",
    "                                         number_of_tags=AVG_TAGS_PER_VIDEO, \n",
    "                                         model_name = 'w2v_train_model.w2v')\n",
    "    predicted_tags.append([tag[0] for tag in tag_probability_list if len(tag_probability_list) != 0])\n",
    "\n",
    "        \n",
    "        \n",
    "\n",
    "    "
   ]
  },
  {
   "cell_type": "code",
   "execution_count": 59,
   "metadata": {
    "collapsed": true
   },
   "outputs": [],
   "source": [
    "us_ca_gb_df_test['predicted_tags'] = predicted_tags"
   ]
  },
  {
   "cell_type": "code",
   "execution_count": 60,
   "metadata": {
    "collapsed": true
   },
   "outputs": [],
   "source": [
    "us_ca_gb_df_test['tags'] = us_ca_gb_df_test['tags'].apply(processFeatures)"
   ]
  },
  {
   "cell_type": "code",
   "execution_count": 61,
   "metadata": {},
   "outputs": [
    {
     "name": "stdout",
     "output_type": "stream",
     "text": [
      "Match found:  157\n",
      "Accuracy:  0.2599337748344371\n"
     ]
    }
   ],
   "source": [
    "match_found = 0\n",
    "count = 0\n",
    "for idx in us_ca_gb_df_test.index:\n",
    "    tag_list = us_ca_gb_df_test.loc[idx,'tags'].lower()\n",
    "    tag_list = tag_list.split(' ')\n",
    "    predicted_tag_list = us_ca_gb_df_test.loc[idx, 'predicted_tags']\n",
    "    \n",
    "    for i in range(len(tag_list)):\n",
    "        if tag_list[i] in predicted_tag_list:\n",
    "            match_found += 1\n",
    "            break\n",
    "    count += 1\n",
    "print('Match found: ', match_found )\n",
    "print('Accuracy: ', match_found/len(us_ca_gb_df_test))\n",
    "    \n",
    "    \n"
   ]
  },
  {
   "cell_type": "code",
   "execution_count": 62,
   "metadata": {
    "collapsed": true
   },
   "outputs": [],
   "source": [
    "def computeSimilarity(word1, word2):\n",
    "    try:\n",
    "        return w2v_train_model.wv.similarity(word1, word2)\n",
    "    except:\n",
    "        return 0\n",
    "    "
   ]
  },
  {
   "cell_type": "markdown",
   "metadata": {},
   "source": [
    "### Calculating similarity between predicted and actual tags"
   ]
  },
  {
   "cell_type": "code",
   "execution_count": 65,
   "metadata": {},
   "outputs": [
    {
     "name": "stdout",
     "output_type": "stream",
     "text": [
      "Similarity Value:  0.305682692008\n"
     ]
    }
   ],
   "source": [
    "for idx in us_ca_gb_df_test.index:\n",
    "    tag_list = us_ca_gb_df_test.loc[idx,'tags'].lower()\n",
    "    tag_list = tag_list.split(' ')\n",
    "    predicted_tag_list = us_ca_gb_df_test.loc[idx, 'predicted_tags']\n",
    "    avg_similarity_per_row = 0\n",
    "    avg_similarity_scores = []\n",
    "    \n",
    "    for predicted_tag in predicted_tag_list:\n",
    "        similarity_score = -2\n",
    "        for tag in tag_list:\n",
    "            similarity_score = max(similarity_score, computeSimilarity(predicted_tag, tag))\n",
    "        avg_similarity_per_row += similarity_score\n",
    "    \n",
    "    avg_similarity_scores.append(avg_similarity_per_row / len(tag_list))\n",
    "\n",
    "cosine_similarity_value =sum(avg_similarity_scores)/len(avg_similarity_scores)\n",
    "print('Similarity Value: ', cosine_similarity_value)\n",
    "        \n",
    "            "
   ]
  },
  {
   "cell_type": "markdown",
   "metadata": {},
   "source": [
    "### Wordcloud"
   ]
  },
  {
   "cell_type": "code",
   "execution_count": 36,
   "metadata": {},
   "outputs": [],
   "source": [
    "the_file = open(\"corpus_of_strings.txt\",\"w+\")"
   ]
  },
  {
   "cell_type": "code",
   "execution_count": 37,
   "metadata": {},
   "outputs": [],
   "source": [
    "input = ''\n",
    "for token_list in US_CA_GB_TOKEN_CORPUS:\n",
    "    for token in token_list:\n",
    "        input += token + ' '"
   ]
  },
  {
   "cell_type": "code",
   "execution_count": 38,
   "metadata": {},
   "outputs": [
    {
     "data": {
      "text/plain": [
       "2076487"
      ]
     },
     "execution_count": 38,
     "metadata": {},
     "output_type": "execute_result"
    }
   ],
   "source": [
    "the_file.write(input)"
   ]
  },
  {
   "cell_type": "code",
   "execution_count": 39,
   "metadata": {},
   "outputs": [],
   "source": [
    "the_file.close()"
   ]
  },
  {
   "cell_type": "code",
   "execution_count": null,
   "metadata": {},
   "outputs": [],
   "source": []
  }
 ],
 "metadata": {
  "kernelspec": {
   "display_name": "Python 3",
   "language": "python",
   "name": "python3"
  },
  "language_info": {
   "codemirror_mode": {
    "name": "ipython",
    "version": 3
   },
   "file_extension": ".py",
   "mimetype": "text/x-python",
   "name": "python",
   "nbconvert_exporter": "python",
   "pygments_lexer": "ipython3",
   "version": "3.5.0"
  }
 },
 "nbformat": 4,
 "nbformat_minor": 2
}
