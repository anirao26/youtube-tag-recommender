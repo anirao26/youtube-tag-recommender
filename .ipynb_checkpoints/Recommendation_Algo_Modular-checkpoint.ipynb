{
 "cells": [
  {
   "cell_type": "code",
   "execution_count": 1,
   "metadata": {},
   "outputs": [
    {
     "name": "stderr",
     "output_type": "stream",
     "text": [
      "C:\\Users\\karan\\Miniconda3\\lib\\site-packages\\gensim\\utils.py:860: UserWarning: detected Windows; aliasing chunkize to chunkize_serial\n",
      "  warnings.warn(\"detected Windows; aliasing chunkize to chunkize_serial\")\n"
     ]
    }
   ],
   "source": [
    "import pandas as pd\n",
    "import json\n",
    "import numpy as np\n",
    "import nltk\n",
    "from nltk.corpus import stopwords\n",
    "import re\n",
    "import gensim\n",
    "import math"
   ]
  },
  {
   "cell_type": "code",
   "execution_count": 2,
   "metadata": {
    "collapsed": true
   },
   "outputs": [],
   "source": [
    "global AVG_TAGS_PER_VIDEO, US_CA_GB_TOKEN_CORPUS, US_VIDEOS_DF, US_FINAL_DF\n",
    "global CA_VIDEOS_DF, CA_FINAL_DF, GB_VIDEOS_DF, GB_FINAL_DF, US_CA_GB_FINAL_DF"
   ]
  },
  {
   "cell_type": "code",
   "execution_count": 3,
   "metadata": {
    "collapsed": true
   },
   "outputs": [],
   "source": [
    "#get rid of the punctuations and set all characters to lowercase\n",
    "RE_PREPROCESS = r'\\W+|\\d+' #the regular expressions that matches all non-characters\n",
    "\n",
    "#get rid of punctuation and make everything lowercase\n",
    "#the code belows works by looping through the array of text\n",
    "#for a given piece of text we invoke the `re.sub` command where we pass in the regular expression, a space ' ' to\n",
    "#subsitute all the matching characters with\n",
    "#we then invoke the `lower()` method on the output of the re.sub command\n",
    "#to make all the remaining characters\n",
    "#the cleaned document is then stored in a list\n",
    "#once this list has been filed it is then stored in a numpy array"
   ]
  },
  {
   "cell_type": "code",
   "execution_count": 4,
   "metadata": {
    "collapsed": true
   },
   "outputs": [],
   "source": [
    "RE_REMOVE_URLS = r'http\\S+'"
   ]
  },
  {
   "cell_type": "code",
   "execution_count": 5,
   "metadata": {
    "collapsed": true
   },
   "outputs": [],
   "source": [
    "def processFeatures(desc):\n",
    "    try:\n",
    "        desc = re.sub(RE_REMOVE_URLS, ' ', desc)\n",
    "        return re.sub(RE_PREPROCESS, ' ', desc)\n",
    "    except:\n",
    "        return \" \""
   ]
  },
  {
   "cell_type": "code",
   "execution_count": 6,
   "metadata": {
    "collapsed": true
   },
   "outputs": [],
   "source": [
    "def processDataFrame(data_frame, country_code='US'):\n",
    "    data_frame.sort_values(by=['video_id', 'trending_date'], ascending=True, inplace=True)\n",
    "    grouped_videos = data_frame.groupby(['video_id']).last().reset_index()\n",
    "    \n",
    "    #Reading categories from the json file depending on country_code\n",
    "    json_location = './data/' + country_code +'_category_id.json'\n",
    "    with open(json_location) as data_file:\n",
    "        data = json.load(data_file)    \n",
    "    categories = []\n",
    "    for item in data['items']:\n",
    "        category = {}\n",
    "        category['category_id'] = int(item['id'])\n",
    "        category['title'] = item['snippet']['title']\n",
    "        categories.append(category)\n",
    "\n",
    "    categories_df = pd.DataFrame(categories)\n",
    "    # Merging videos data with category data\n",
    "    final_df = grouped_videos.merge(categories_df, on = ['category_id'])\n",
    "    final_df.rename(columns={'title_y': 'category', 'title_x': 'video_name'}, inplace=True)\n",
    "    \n",
    "    # Creating a features column that consists all features used for prediction.\n",
    "    # Also creating a corpus column that consists of all data required to train the model.\n",
    "    final_df['video_features'] = ''\n",
    "    final_df['video_corpus'] = ''\n",
    "    \n",
    "    if final_df['video_name'].astype(str) is not None:\n",
    "        final_df['video_features'] += final_df['video_name'].astype(str)\n",
    "\n",
    "    if final_df['channel_title'].astype(str) is not None:\n",
    "        final_df['video_features'] += final_df['channel_title'].astype(str)\n",
    "        \n",
    "    if final_df['description'].astype(str) is not None:\n",
    "        final_df['video_features'] += final_df['description'].astype(str)\n",
    "    \n",
    "    final_df['video_corpus'] += final_df['video_features']\n",
    "    if final_df['tags'].astype(str) is not None:\n",
    "        final_df['video_corpus'] += final_df['tags'].astype(str)\n",
    "    \n",
    "        \n",
    "    final_df['video_features'] = final_df['video_features'].apply(processFeatures)\n",
    "    final_df['video_corpus'] = final_df['video_corpus'].apply(processFeatures)\n",
    "    return final_df"
   ]
  },
  {
   "cell_type": "code",
   "execution_count": 7,
   "metadata": {
    "collapsed": true
   },
   "outputs": [],
   "source": [
    "def removeNonEngAndStopwords(documents):\n",
    "    stopwords_list = stopwords.words('english')\n",
    "    processed_corpus = []\n",
    "    for document in documents:\n",
    "        processed_document = []\n",
    "        for word in document.split():\n",
    "            try:\n",
    "                if word not in stopwords_list and word.encode(encoding='utf-8').decode('ascii'):\n",
    "                    processed_document.append(word)\n",
    "            except UnicodeDecodeError:\n",
    "                # Can log something here\n",
    "                pass\n",
    "        processed_corpus.append(processed_document)\n",
    "    return processed_corpus"
   ]
  },
  {
   "cell_type": "code",
   "execution_count": 8,
   "metadata": {
    "collapsed": true
   },
   "outputs": [],
   "source": [
    "def processCorpus(feature_corpus):\n",
    "    feature_corpus = [comment.lower() for comment in feature_corpus]\n",
    "    processed_feature_corpus = removeNonEngAndStopwords(feature_corpus)\n",
    "    return processed_feature_corpus"
   ]
  },
  {
   "cell_type": "code",
   "execution_count": 26,
   "metadata": {
    "collapsed": true
   },
   "outputs": [],
   "source": [
    "def trainModel(token_corpus, model_name = 'word2vec_model.w2v'):\n",
    "    model = gensim.models.Word2Vec(sentences=token_corpus, min_count=1, size = 32)\n",
    "    model.train(token_corpus, total_examples=model.corpus_count, epochs=model.iter)\n",
    "    model.save(model_name)\n",
    "    return model"
   ]
  },
  {
   "cell_type": "code",
   "execution_count": 31,
   "metadata": {
    "collapsed": true
   },
   "outputs": [],
   "source": [
    "def recommendTags(word2vec_model, input_words = ['trump', 'president'], number_of_tags = 10, model_name = 'word2vec_model.w2v'):\n",
    "    global US_CA_GB_TOKEN_CORPUS\n",
    "    tags = []\n",
    "         \n",
    "    try:\n",
    "        word2vec_model = gensim.models.Word2Vec.load(model_name)\n",
    "        tags = word2vec_model.most_similar(positive=input_words, topn=number_of_tags)\n",
    "    except FileNotFoundError:\n",
    "        word2vec_model = trainModel(US_CA_GB_TOKEN_CORPUS, model_name)\n",
    "        tags = word2vec_model.most_similar(positive=input_words, topn=number_of_tags)\n",
    "    except:\n",
    "        US_CA_GB_TOKEN_CORPUS.append(input_words)\n",
    "        word2vec_model.build_vocab(US_CA_GB_TOKEN_CORPUS, update=True)\n",
    "        word2vec_model.train(US_CA_GB_TOKEN_CORPUS, total_examples=word2vec_model.corpus_count, epochs=word2vec_model.iter)\n",
    "        word2vec_model.save(model_name)\n",
    "        tags = word2vec_model.most_similar(positive=input_words, topn=number_of_tags)\n",
    "    \n",
    "    return tags"
   ]
  },
  {
   "cell_type": "code",
   "execution_count": 32,
   "metadata": {
    "collapsed": true
   },
   "outputs": [],
   "source": [
    "def calculateAvgTagsPerVideo():\n",
    "    total_tags = 0\n",
    "    for tag_list in US_CA_GB_FINAL_DF['tags'].values:\n",
    "        total_tags += len(tag_list.split('|'))\n",
    "    return math.ceil(total_tags/len(US_CA_GB_FINAL_DF))"
   ]
  },
  {
   "cell_type": "markdown",
   "metadata": {},
   "source": [
    "Running the algorithm for US, CA, and GB videos"
   ]
  },
  {
   "cell_type": "code",
   "execution_count": 33,
   "metadata": {
    "collapsed": true
   },
   "outputs": [],
   "source": [
    "def initializeAndFetchRecommendations(video_name = None, channel_title = None, video_category = None, description = None):\n",
    "    global US_VIDEOS_DF, US_FINAL_DF, CA_VIDEOS_DF, CA_FINAL_DF, GB_VIDEOS_DF, GB_FINAL_DF\n",
    "    global US_CA_GB_FINAL_DF, US_CA_GB_FINAL_DF, AVG_TAGS_PER_VIDEO, US_CA_GB_TOKEN_CORPUS\n",
    "    US_VIDEOS_DF = pd.read_csv('./data/USvideos.csv')\n",
    "    US_FINAL_DF = processDataFrame(US_VIDEOS_DF, country_code='US')\n",
    "    \n",
    "    CA_VIDEOS_DF = pd.read_csv('./data/CAvideos.csv')\n",
    "    CA_FINAL_DF = processDataFrame(CA_VIDEOS_DF, country_code='CA')\n",
    "    \n",
    "    GB_VIDEOS_DF = pd.read_csv('./data/GBvideos.csv')\n",
    "    GB_FINAL_DF = processDataFrame(GB_VIDEOS_DF, country_code='GB')\n",
    "        \n",
    "    US_CA_GB_FINAL_DF = pd.concat([US_FINAL_DF, CA_FINAL_DF, GB_FINAL_DF])\n",
    "    US_CA_GB_FINAL_DF.reset_index(inplace=True)\n",
    "    \n",
    "    US_CA_GB_TOKEN_CORPUS = processCorpus(US_CA_GB_FINAL_DF['video_corpus'].values)\n",
    "    US_CA_GB_FINAL_DF['video_features'] = processCorpus(US_CA_GB_FINAL_DF['video_features'].values)\n",
    "    US_CA_GB_FINAL_DF['video_corpus'] = US_CA_GB_TOKEN_CORPUS\n",
    "        \n",
    "    AVG_TAGS_PER_VIDEO = calculateAvgTagsPerVideo()\n",
    "    word2vec_model = None\n",
    "    \n",
    "    input_list = []\n",
    "    if (video_name is not None or channel_title is not None or \n",
    "        video_category is not None or description is not None):\n",
    "        frontEndInput = video_name + channel_title + video_category + description\n",
    "        for word in frontEndInput.split(' '):\n",
    "            if word not in stopwords.words('english'):\n",
    "                input_list.append(word)\n",
    "    \n",
    "    if input_list != []:\n",
    "        return recommendTags(word2vec_model, input_words=input_list, \n",
    "                         number_of_tags=AVG_TAGS_PER_VIDEO, \n",
    "                         model_name = 'word2vec_model.w2v')\n",
    "    \n",
    "    return recommendTags(word2vec_model, input_words=['trump', 'president'], \n",
    "                         number_of_tags=AVG_TAGS_PER_VIDEO, \n",
    "                         model_name = 'word2vec_model.w2v')\n",
    "        \n",
    "    "
   ]
  },
  {
   "cell_type": "code",
   "execution_count": 34,
   "metadata": {},
   "outputs": [
    {
     "data": {
      "text/plain": [
       "[('donald', 0.9784371256828308),\n",
       " ('pocahontas', 0.9699971079826355),\n",
       " ('turkeywashington', 0.9685370922088623),\n",
       " ('distaste', 0.9528961777687073),\n",
       " ('independence', 0.9527896046638489),\n",
       " ('clinton', 0.9521087408065796),\n",
       " ('presidency', 0.9504184722900391),\n",
       " ('altruistic', 0.9478861093521118),\n",
       " ('pagbisita', 0.9462597370147705),\n",
       " ('sacked', 0.9454700946807861),\n",
       " ('hillary', 0.9353207349777222),\n",
       " ('denies', 0.9352751970291138),\n",
       " ('hannity', 0.9341996312141418),\n",
       " ('ceremony', 0.9318017959594727),\n",
       " ('nukes', 0.9290469884872437),\n",
       " ('roy', 0.9272603988647461),\n",
       " ('postpresident', 0.9265439510345459),\n",
       " ('mnangagwa', 0.9264322519302368),\n",
       " ('moore', 0.9250168204307556)]"
      ]
     },
     "execution_count": 34,
     "metadata": {},
     "output_type": "execute_result"
    }
   ],
   "source": [
    "initializeAndFetchRecommendations()"
   ]
  },
  {
   "cell_type": "code",
   "execution_count": 35,
   "metadata": {},
   "outputs": [
    {
     "data": {
      "text/plain": [
       "[('geography', 0.9205407500267029),\n",
       " ('electroboom', 0.920524001121521),\n",
       " ('automatically', 0.9174642562866211),\n",
       " ('physics', 0.9162071943283081),\n",
       " ('medications', 0.915522038936615),\n",
       " ('habits', 0.9145018458366394),\n",
       " ('study', 0.91231369972229),\n",
       " ('ill', 0.9101881980895996),\n",
       " ('landscapes', 0.9076502919197083),\n",
       " ('subsidence', 0.9074100852012634),\n",
       " ('experts', 0.9073472023010254),\n",
       " ('preparedness', 0.907162070274353),\n",
       " ('solutions', 0.905492901802063),\n",
       " ('sponges', 0.9032743573188782),\n",
       " ('deadly', 0.9025784134864807),\n",
       " ('browned', 0.9004481434822083),\n",
       " ('towels', 0.8993878364562988),\n",
       " ('scientists', 0.8993076086044312),\n",
       " ('engaging', 0.8993011713027954)]"
      ]
     },
     "execution_count": 35,
     "metadata": {},
     "output_type": "execute_result"
    }
   ],
   "source": [
    "initializeAndFetchRecommendations(video_name = 'What is data science',\n",
    "                                  channel_title = 'CNN', \n",
    "                                  video_category = 'Education', \n",
    "                                  description = 'Detailed description of data science')"
   ]
  },
  {
   "cell_type": "markdown",
   "metadata": {},
   "source": [
    "## Dividing the dataset into training (80%) and testing sets (20%)."
   ]
  },
  {
   "cell_type": "code",
   "execution_count": 53,
   "metadata": {
    "collapsed": true
   },
   "outputs": [],
   "source": [
    "np.random.seed(seed=13579)\n",
    "us_ca_gb_final_df_shuffled = US_CA_GB_FINAL_DF.iloc[np.random.permutation(len(US_CA_GB_FINAL_DF))]"
   ]
  },
  {
   "cell_type": "code",
   "execution_count": 54,
   "metadata": {
    "collapsed": true
   },
   "outputs": [],
   "source": [
    "train_size = 0.80\n",
    "us_ca_gb_df_train = us_ca_gb_final_df_shuffled[:int((train_size)*len(us_ca_gb_final_df_shuffled))]\n",
    "us_ca_gb_df_test = us_ca_gb_final_df_shuffled[int((train_size)*len(us_ca_gb_final_df_shuffled)):]"
   ]
  },
  {
   "cell_type": "code",
   "execution_count": 55,
   "metadata": {
    "collapsed": true
   },
   "outputs": [],
   "source": [
    "try:\n",
    "    w2v_train_model = gensim.models.Word2Vec.load('w2v_train_model.w2v')\n",
    "except FileNotFoundError:\n",
    "    print('hi')\n",
    "    w2v_train_model = gensim.models.Word2Vec(sentences=us_ca_gb_df_train['video_corpus'], min_count=1, size = 32)\n",
    "    w2v_train_model.train(us_ca_gb_df_train['video_corpus'].values, total_examples=w2v_train_model.corpus_count, epochs=w2v_train_model.iter)\n",
    "    w2v_train_model.save('w2v_train_model.w2v')    \n"
   ]
  },
  {
   "cell_type": "code",
   "execution_count": 56,
   "metadata": {
    "collapsed": true
   },
   "outputs": [],
   "source": [
    "us_ca_gb_df_test = us_ca_gb_df_test[us_ca_gb_df_test['video_features'].map(len) > 0]"
   ]
  },
  {
   "cell_type": "code",
   "execution_count": 57,
   "metadata": {
    "collapsed": true
   },
   "outputs": [],
   "source": [
    "predicted_tags = []\n",
    "for idx in us_ca_gb_df_test.index:\n",
    "    video_features = us_ca_gb_df_test.loc[idx, 'video_features']\n",
    "    tag_probability_list = recommendTags(w2v_train_model, input_words=video_features, \n",
    "                                         number_of_tags=AVG_TAGS_PER_VIDEO, \n",
    "                                         model_name = 'w2v_train_model.w2v')\n",
    "    predicted_tags.append([tag[0] for tag in tag_probability_list if len(tag_probability_list) != 0])\n",
    "\n",
    "        \n",
    "        \n",
    "\n",
    "    "
   ]
  },
  {
   "cell_type": "code",
   "execution_count": 59,
   "metadata": {
    "collapsed": true
   },
   "outputs": [],
   "source": [
    "us_ca_gb_df_test['predicted_tags'] = predicted_tags"
   ]
  },
  {
   "cell_type": "code",
   "execution_count": 60,
   "metadata": {
    "collapsed": true
   },
   "outputs": [],
   "source": [
    "us_ca_gb_df_test['tags'] = us_ca_gb_df_test['tags'].apply(processFeatures)"
   ]
  },
  {
   "cell_type": "code",
   "execution_count": 61,
   "metadata": {},
   "outputs": [
    {
     "name": "stdout",
     "output_type": "stream",
     "text": [
      "Match found:  157\n",
      "Accuracy:  0.2599337748344371\n"
     ]
    }
   ],
   "source": [
    "match_found = 0\n",
    "count = 0\n",
    "for idx in us_ca_gb_df_test.index:\n",
    "    tag_list = us_ca_gb_df_test.loc[idx,'tags'].lower()\n",
    "    tag_list = tag_list.split(' ')\n",
    "    predicted_tag_list = us_ca_gb_df_test.loc[idx, 'predicted_tags']\n",
    "    \n",
    "    for i in range(len(tag_list)):\n",
    "        if tag_list[i] in predicted_tag_list:\n",
    "            match_found += 1\n",
    "            break\n",
    "    count += 1\n",
    "print('Match found: ', match_found )\n",
    "print('Accuracy: ', match_found/len(us_ca_gb_df_test))\n",
    "    \n",
    "    \n"
   ]
  },
  {
   "cell_type": "code",
   "execution_count": 62,
   "metadata": {
    "collapsed": true
   },
   "outputs": [],
   "source": [
    "def computeSimilarity(word1, word2):\n",
    "    try:\n",
    "        return w2v_train_model.wv.similarity(word1, word2)\n",
    "    except:\n",
    "        return 0\n",
    "    "
   ]
  },
  {
   "cell_type": "markdown",
   "metadata": {},
   "source": [
    "### Calculating similarity between predicted and actual tags"
   ]
  },
  {
   "cell_type": "code",
   "execution_count": 63,
   "metadata": {},
   "outputs": [
    {
     "name": "stdout",
     "output_type": "stream",
     "text": [
      "Similarity Value:  0.159333410446\n"
     ]
    }
   ],
   "source": [
    "for idx in us_ca_gb_df_test.index:\n",
    "    tag_list = us_ca_gb_df_test.loc[idx,'tags'].lower()\n",
    "    tag_list = tag_list.split(' ')\n",
    "    predicted_tag_list = us_ca_gb_df_test.loc[idx, 'predicted_tags']\n",
    "    avg_similarity_per_row = 0\n",
    "    avg_similarity_scores = []\n",
    "    \n",
    "    for predicted_tag in predicted_tag_list:\n",
    "        similarity_score = -2\n",
    "        for tag in tag_list:\n",
    "            similarity_score = max(similarity_score, computeSimilarity(predicted_tag, tag))\n",
    "        avg_similarity_per_row += similarity_score\n",
    "    \n",
    "    avg_similarity_scores.append(avg_similarity_per_row / len(tag_list))\n",
    "\n",
    "print('Similarity Value: ', sum(avg_similarity_scores)/len(avg_similarity_scores))\n",
    "        \n",
    "            "
   ]
  },
  {
   "cell_type": "code",
   "execution_count": null,
   "metadata": {
    "collapsed": true
   },
   "outputs": [],
   "source": []
  }
 ],
 "metadata": {
  "kernelspec": {
   "display_name": "Python 3",
   "language": "python",
   "name": "python3"
  },
  "language_info": {
   "codemirror_mode": {
    "name": "ipython",
    "version": 3
   },
   "file_extension": ".py",
   "mimetype": "text/x-python",
   "name": "python",
   "nbconvert_exporter": "python",
   "pygments_lexer": "ipython3",
   "version": "3.6.1"
  }
 },
 "nbformat": 4,
 "nbformat_minor": 2
}
