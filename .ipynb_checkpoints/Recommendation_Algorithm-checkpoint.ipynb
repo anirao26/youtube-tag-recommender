{
 "cells": [
  {
   "cell_type": "code",
   "execution_count": 216,
   "metadata": {},
   "outputs": [],
   "source": [
    "import pandas as pd\n",
    "import json\n",
    "import numpy as np\n",
    "import spacy"
   ]
  },
  {
   "cell_type": "code",
   "execution_count": 177,
   "metadata": {
    "collapsed": true
   },
   "outputs": [],
   "source": [
    "us_videos_df = pd.read_csv('./data/USvideos.csv')"
   ]
  },
  {
   "cell_type": "markdown",
   "metadata": {},
   "source": [
    "Sorting the videos by video_id and date for later group by operations."
   ]
  },
  {
   "cell_type": "code",
   "execution_count": 178,
   "metadata": {
    "collapsed": true
   },
   "outputs": [],
   "source": [
    "us_videos_df.sort_values(by=['video_id', 'trending_date'], ascending=True, inplace=True)"
   ]
  },
  {
   "cell_type": "code",
   "execution_count": 179,
   "metadata": {},
   "outputs": [
    {
     "data": {
      "text/html": [
       "<div>\n",
       "<style>\n",
       "    .dataframe thead tr:only-child th {\n",
       "        text-align: right;\n",
       "    }\n",
       "\n",
       "    .dataframe thead th {\n",
       "        text-align: left;\n",
       "    }\n",
       "\n",
       "    .dataframe tbody tr th {\n",
       "        vertical-align: top;\n",
       "    }\n",
       "</style>\n",
       "<table border=\"1\" class=\"dataframe\">\n",
       "  <thead>\n",
       "    <tr style=\"text-align: right;\">\n",
       "      <th></th>\n",
       "      <th>video_id</th>\n",
       "      <th>trending_date</th>\n",
       "      <th>title</th>\n",
       "      <th>channel_title</th>\n",
       "      <th>category_id</th>\n",
       "      <th>publish_time</th>\n",
       "      <th>tags</th>\n",
       "      <th>views</th>\n",
       "      <th>likes</th>\n",
       "      <th>dislikes</th>\n",
       "      <th>comment_count</th>\n",
       "      <th>thumbnail_link</th>\n",
       "      <th>comments_disabled</th>\n",
       "      <th>ratings_disabled</th>\n",
       "      <th>video_error_or_removed</th>\n",
       "      <th>description</th>\n",
       "    </tr>\n",
       "  </thead>\n",
       "  <tbody>\n",
       "    <tr>\n",
       "      <th>90</th>\n",
       "      <td>-2RVw2_QyxQ</td>\n",
       "      <td>17.14.11</td>\n",
       "      <td>2017 Champions Showdown: Day 3</td>\n",
       "      <td>Saint Louis Chess Club</td>\n",
       "      <td>27</td>\n",
       "      <td>2017-11-12T02:39:01.000Z</td>\n",
       "      <td>Chess|\"Saint Louis\"|\"Club\"</td>\n",
       "      <td>67429</td>\n",
       "      <td>438</td>\n",
       "      <td>23</td>\n",
       "      <td>23</td>\n",
       "      <td>https://i.ytimg.com/vi/-2RVw2_QyxQ/default.jpg</td>\n",
       "      <td>False</td>\n",
       "      <td>False</td>\n",
       "      <td>False</td>\n",
       "      <td>The Saint Louis Chess Club hosts a series of f...</td>\n",
       "    </tr>\n",
       "    <tr>\n",
       "      <th>346</th>\n",
       "      <td>-2RVw2_QyxQ</td>\n",
       "      <td>17.15.11</td>\n",
       "      <td>2017 Champions Showdown: Day 3</td>\n",
       "      <td>Saint Louis Chess Club</td>\n",
       "      <td>27</td>\n",
       "      <td>2017-11-12T02:39:01.000Z</td>\n",
       "      <td>Chess|\"Saint Louis\"|\"Club\"</td>\n",
       "      <td>69786</td>\n",
       "      <td>453</td>\n",
       "      <td>26</td>\n",
       "      <td>19</td>\n",
       "      <td>https://i.ytimg.com/vi/-2RVw2_QyxQ/default.jpg</td>\n",
       "      <td>False</td>\n",
       "      <td>False</td>\n",
       "      <td>False</td>\n",
       "      <td>The Saint Louis Chess Club hosts a series of f...</td>\n",
       "    </tr>\n",
       "    <tr>\n",
       "      <th>584</th>\n",
       "      <td>-2RVw2_QyxQ</td>\n",
       "      <td>17.16.11</td>\n",
       "      <td>2017 Champions Showdown: Day 3</td>\n",
       "      <td>Saint Louis Chess Club</td>\n",
       "      <td>27</td>\n",
       "      <td>2017-11-12T02:39:01.000Z</td>\n",
       "      <td>Chess|\"Saint Louis\"|\"Club\"</td>\n",
       "      <td>71089</td>\n",
       "      <td>460</td>\n",
       "      <td>27</td>\n",
       "      <td>20</td>\n",
       "      <td>https://i.ytimg.com/vi/-2RVw2_QyxQ/default.jpg</td>\n",
       "      <td>False</td>\n",
       "      <td>False</td>\n",
       "      <td>False</td>\n",
       "      <td>The Saint Louis Chess Club hosts a series of f...</td>\n",
       "    </tr>\n",
       "    <tr>\n",
       "      <th>1404</th>\n",
       "      <td>-El8z4uy5Ac</td>\n",
       "      <td>17.21.11</td>\n",
       "      <td>The Best Movie Hell to End Up In - After Hours</td>\n",
       "      <td>Cracked</td>\n",
       "      <td>23</td>\n",
       "      <td>2017-11-20T17:00:00.000Z</td>\n",
       "      <td>movie hells|\"hercules\"|\"bedazzled\"|\"all dogs g...</td>\n",
       "      <td>327936</td>\n",
       "      <td>11643</td>\n",
       "      <td>584</td>\n",
       "      <td>1305</td>\n",
       "      <td>https://i.ytimg.com/vi/-El8z4uy5Ac/default.jpg</td>\n",
       "      <td>False</td>\n",
       "      <td>False</td>\n",
       "      <td>False</td>\n",
       "      <td>The gang gets together for a frank discussion ...</td>\n",
       "    </tr>\n",
       "    <tr>\n",
       "      <th>1621</th>\n",
       "      <td>-El8z4uy5Ac</td>\n",
       "      <td>17.22.11</td>\n",
       "      <td>The Best Movie Hell to End Up In - After Hours</td>\n",
       "      <td>Cracked</td>\n",
       "      <td>23</td>\n",
       "      <td>2017-11-20T17:00:00.000Z</td>\n",
       "      <td>movie hells|\"hercules\"|\"bedazzled\"|\"all dogs g...</td>\n",
       "      <td>522256</td>\n",
       "      <td>14312</td>\n",
       "      <td>1062</td>\n",
       "      <td>1553</td>\n",
       "      <td>https://i.ytimg.com/vi/-El8z4uy5Ac/default.jpg</td>\n",
       "      <td>False</td>\n",
       "      <td>False</td>\n",
       "      <td>False</td>\n",
       "      <td>The gang gets together for a frank discussion ...</td>\n",
       "    </tr>\n",
       "  </tbody>\n",
       "</table>\n",
       "</div>"
      ],
      "text/plain": [
       "         video_id trending_date  \\\n",
       "90    -2RVw2_QyxQ      17.14.11   \n",
       "346   -2RVw2_QyxQ      17.15.11   \n",
       "584   -2RVw2_QyxQ      17.16.11   \n",
       "1404  -El8z4uy5Ac      17.21.11   \n",
       "1621  -El8z4uy5Ac      17.22.11   \n",
       "\n",
       "                                               title           channel_title  \\\n",
       "90                    2017 Champions Showdown: Day 3  Saint Louis Chess Club   \n",
       "346                   2017 Champions Showdown: Day 3  Saint Louis Chess Club   \n",
       "584                   2017 Champions Showdown: Day 3  Saint Louis Chess Club   \n",
       "1404  The Best Movie Hell to End Up In - After Hours                 Cracked   \n",
       "1621  The Best Movie Hell to End Up In - After Hours                 Cracked   \n",
       "\n",
       "      category_id              publish_time  \\\n",
       "90             27  2017-11-12T02:39:01.000Z   \n",
       "346            27  2017-11-12T02:39:01.000Z   \n",
       "584            27  2017-11-12T02:39:01.000Z   \n",
       "1404           23  2017-11-20T17:00:00.000Z   \n",
       "1621           23  2017-11-20T17:00:00.000Z   \n",
       "\n",
       "                                                   tags   views  likes  \\\n",
       "90                           Chess|\"Saint Louis\"|\"Club\"   67429    438   \n",
       "346                          Chess|\"Saint Louis\"|\"Club\"   69786    453   \n",
       "584                          Chess|\"Saint Louis\"|\"Club\"   71089    460   \n",
       "1404  movie hells|\"hercules\"|\"bedazzled\"|\"all dogs g...  327936  11643   \n",
       "1621  movie hells|\"hercules\"|\"bedazzled\"|\"all dogs g...  522256  14312   \n",
       "\n",
       "      dislikes  comment_count                                  thumbnail_link  \\\n",
       "90          23             23  https://i.ytimg.com/vi/-2RVw2_QyxQ/default.jpg   \n",
       "346         26             19  https://i.ytimg.com/vi/-2RVw2_QyxQ/default.jpg   \n",
       "584         27             20  https://i.ytimg.com/vi/-2RVw2_QyxQ/default.jpg   \n",
       "1404       584           1305  https://i.ytimg.com/vi/-El8z4uy5Ac/default.jpg   \n",
       "1621      1062           1553  https://i.ytimg.com/vi/-El8z4uy5Ac/default.jpg   \n",
       "\n",
       "      comments_disabled  ratings_disabled  video_error_or_removed  \\\n",
       "90                False             False                   False   \n",
       "346               False             False                   False   \n",
       "584               False             False                   False   \n",
       "1404              False             False                   False   \n",
       "1621              False             False                   False   \n",
       "\n",
       "                                            description  \n",
       "90    The Saint Louis Chess Club hosts a series of f...  \n",
       "346   The Saint Louis Chess Club hosts a series of f...  \n",
       "584   The Saint Louis Chess Club hosts a series of f...  \n",
       "1404  The gang gets together for a frank discussion ...  \n",
       "1621  The gang gets together for a frank discussion ...  "
      ]
     },
     "execution_count": 179,
     "metadata": {},
     "output_type": "execute_result"
    }
   ],
   "source": [
    "us_videos_df.head()"
   ]
  },
  {
   "cell_type": "markdown",
   "metadata": {},
   "source": [
    "Retrieving the last video of every group. The last video would be the latest video (as per trending date)."
   ]
  },
  {
   "cell_type": "code",
   "execution_count": 180,
   "metadata": {
    "collapsed": true
   },
   "outputs": [],
   "source": [
    "us_grouped_videos = us_videos_df.groupby(['video_id']).last().reset_index()"
   ]
  },
  {
   "cell_type": "code",
   "execution_count": 181,
   "metadata": {},
   "outputs": [
    {
     "data": {
      "text/html": [
       "<div>\n",
       "<style>\n",
       "    .dataframe thead tr:only-child th {\n",
       "        text-align: right;\n",
       "    }\n",
       "\n",
       "    .dataframe thead th {\n",
       "        text-align: left;\n",
       "    }\n",
       "\n",
       "    .dataframe tbody tr th {\n",
       "        vertical-align: top;\n",
       "    }\n",
       "</style>\n",
       "<table border=\"1\" class=\"dataframe\">\n",
       "  <thead>\n",
       "    <tr style=\"text-align: right;\">\n",
       "      <th></th>\n",
       "      <th>video_id</th>\n",
       "      <th>trending_date</th>\n",
       "      <th>title</th>\n",
       "      <th>channel_title</th>\n",
       "      <th>category_id</th>\n",
       "      <th>publish_time</th>\n",
       "      <th>tags</th>\n",
       "      <th>views</th>\n",
       "      <th>likes</th>\n",
       "      <th>dislikes</th>\n",
       "      <th>comment_count</th>\n",
       "      <th>thumbnail_link</th>\n",
       "      <th>comments_disabled</th>\n",
       "      <th>ratings_disabled</th>\n",
       "      <th>video_error_or_removed</th>\n",
       "      <th>description</th>\n",
       "    </tr>\n",
       "  </thead>\n",
       "  <tbody>\n",
       "    <tr>\n",
       "      <th>0</th>\n",
       "      <td>-2RVw2_QyxQ</td>\n",
       "      <td>17.16.11</td>\n",
       "      <td>2017 Champions Showdown: Day 3</td>\n",
       "      <td>Saint Louis Chess Club</td>\n",
       "      <td>27</td>\n",
       "      <td>2017-11-12T02:39:01.000Z</td>\n",
       "      <td>Chess|\"Saint Louis\"|\"Club\"</td>\n",
       "      <td>71089</td>\n",
       "      <td>460</td>\n",
       "      <td>27</td>\n",
       "      <td>20</td>\n",
       "      <td>https://i.ytimg.com/vi/-2RVw2_QyxQ/default.jpg</td>\n",
       "      <td>False</td>\n",
       "      <td>False</td>\n",
       "      <td>False</td>\n",
       "      <td>The Saint Louis Chess Club hosts a series of f...</td>\n",
       "    </tr>\n",
       "    <tr>\n",
       "      <th>1</th>\n",
       "      <td>-El8z4uy5Ac</td>\n",
       "      <td>17.26.11</td>\n",
       "      <td>The Best Movie Hell to End Up In - After Hours</td>\n",
       "      <td>Cracked</td>\n",
       "      <td>23</td>\n",
       "      <td>2017-11-20T17:00:00.000Z</td>\n",
       "      <td>movie hells|\"hercules\"|\"bedazzled\"|\"all dogs g...</td>\n",
       "      <td>639982</td>\n",
       "      <td>16519</td>\n",
       "      <td>1243</td>\n",
       "      <td>1739</td>\n",
       "      <td>https://i.ytimg.com/vi/-El8z4uy5Ac/default.jpg</td>\n",
       "      <td>False</td>\n",
       "      <td>False</td>\n",
       "      <td>False</td>\n",
       "      <td>The gang gets together for a frank discussion ...</td>\n",
       "    </tr>\n",
       "    <tr>\n",
       "      <th>2</th>\n",
       "      <td>-JVITToppE0</td>\n",
       "      <td>17.17.11</td>\n",
       "      <td>Coach Taggart Monday Presser Ahead of Arizona</td>\n",
       "      <td>GoDucksdotcom</td>\n",
       "      <td>17</td>\n",
       "      <td>2017-11-13T20:41:45.000Z</td>\n",
       "      <td>Oregon|\"Ducks\"|\"college athletics\"|\"college fo...</td>\n",
       "      <td>704</td>\n",
       "      <td>10</td>\n",
       "      <td>2</td>\n",
       "      <td>5</td>\n",
       "      <td>https://i.ytimg.com/vi/-JVITToppE0/default.jpg</td>\n",
       "      <td>False</td>\n",
       "      <td>False</td>\n",
       "      <td>False</td>\n",
       "      <td>Coach Taggart addresses the media ahead of the...</td>\n",
       "    </tr>\n",
       "    <tr>\n",
       "      <th>3</th>\n",
       "      <td>-OK9i1_YYYc</td>\n",
       "      <td>17.16.11</td>\n",
       "      <td>Animal Adventure Park Giraffe Cam</td>\n",
       "      <td>Animal Adventure Park</td>\n",
       "      <td>15</td>\n",
       "      <td>2017-11-12T00:18:43.000Z</td>\n",
       "      <td>Giraffe|\"Zoo\"|\"New York\"|\"giraffe cam\"|\"Animal...</td>\n",
       "      <td>46260</td>\n",
       "      <td>2286</td>\n",
       "      <td>35</td>\n",
       "      <td>17</td>\n",
       "      <td>https://i.ytimg.com/vi/-OK9i1_YYYc/default.jpg</td>\n",
       "      <td>False</td>\n",
       "      <td>False</td>\n",
       "      <td>False</td>\n",
       "      <td>November 2017 Giraffe Cam Hours\\n\\nEnjoy your ...</td>\n",
       "    </tr>\n",
       "    <tr>\n",
       "      <th>4</th>\n",
       "      <td>-SIp6xSP7ds</td>\n",
       "      <td>17.28.11</td>\n",
       "      <td>Gayle King and Norah O'Donnell respond to Char...</td>\n",
       "      <td>CBS This Morning</td>\n",
       "      <td>25</td>\n",
       "      <td>2017-11-21T12:35:39.000Z</td>\n",
       "      <td>video|\"cbs\"|\"news\"|\"CBS This Morning\"|\"Charlie...</td>\n",
       "      <td>534125</td>\n",
       "      <td>2507</td>\n",
       "      <td>1201</td>\n",
       "      <td>1772</td>\n",
       "      <td>https://i.ytimg.com/vi/-SIp6xSP7ds/default.jpg</td>\n",
       "      <td>False</td>\n",
       "      <td>False</td>\n",
       "      <td>False</td>\n",
       "      <td>CBS This Morning co-hosts Norah O'Donnell and ...</td>\n",
       "    </tr>\n",
       "  </tbody>\n",
       "</table>\n",
       "</div>"
      ],
      "text/plain": [
       "      video_id trending_date  \\\n",
       "0  -2RVw2_QyxQ      17.16.11   \n",
       "1  -El8z4uy5Ac      17.26.11   \n",
       "2  -JVITToppE0      17.17.11   \n",
       "3  -OK9i1_YYYc      17.16.11   \n",
       "4  -SIp6xSP7ds      17.28.11   \n",
       "\n",
       "                                               title           channel_title  \\\n",
       "0                     2017 Champions Showdown: Day 3  Saint Louis Chess Club   \n",
       "1     The Best Movie Hell to End Up In - After Hours                 Cracked   \n",
       "2      Coach Taggart Monday Presser Ahead of Arizona           GoDucksdotcom   \n",
       "3                  Animal Adventure Park Giraffe Cam   Animal Adventure Park   \n",
       "4  Gayle King and Norah O'Donnell respond to Char...        CBS This Morning   \n",
       "\n",
       "   category_id              publish_time  \\\n",
       "0           27  2017-11-12T02:39:01.000Z   \n",
       "1           23  2017-11-20T17:00:00.000Z   \n",
       "2           17  2017-11-13T20:41:45.000Z   \n",
       "3           15  2017-11-12T00:18:43.000Z   \n",
       "4           25  2017-11-21T12:35:39.000Z   \n",
       "\n",
       "                                                tags   views  likes  dislikes  \\\n",
       "0                         Chess|\"Saint Louis\"|\"Club\"   71089    460        27   \n",
       "1  movie hells|\"hercules\"|\"bedazzled\"|\"all dogs g...  639982  16519      1243   \n",
       "2  Oregon|\"Ducks\"|\"college athletics\"|\"college fo...     704     10         2   \n",
       "3  Giraffe|\"Zoo\"|\"New York\"|\"giraffe cam\"|\"Animal...   46260   2286        35   \n",
       "4  video|\"cbs\"|\"news\"|\"CBS This Morning\"|\"Charlie...  534125   2507      1201   \n",
       "\n",
       "   comment_count                                  thumbnail_link  \\\n",
       "0             20  https://i.ytimg.com/vi/-2RVw2_QyxQ/default.jpg   \n",
       "1           1739  https://i.ytimg.com/vi/-El8z4uy5Ac/default.jpg   \n",
       "2              5  https://i.ytimg.com/vi/-JVITToppE0/default.jpg   \n",
       "3             17  https://i.ytimg.com/vi/-OK9i1_YYYc/default.jpg   \n",
       "4           1772  https://i.ytimg.com/vi/-SIp6xSP7ds/default.jpg   \n",
       "\n",
       "   comments_disabled  ratings_disabled  video_error_or_removed  \\\n",
       "0              False             False                   False   \n",
       "1              False             False                   False   \n",
       "2              False             False                   False   \n",
       "3              False             False                   False   \n",
       "4              False             False                   False   \n",
       "\n",
       "                                         description  \n",
       "0  The Saint Louis Chess Club hosts a series of f...  \n",
       "1  The gang gets together for a frank discussion ...  \n",
       "2  Coach Taggart addresses the media ahead of the...  \n",
       "3  November 2017 Giraffe Cam Hours\\n\\nEnjoy your ...  \n",
       "4  CBS This Morning co-hosts Norah O'Donnell and ...  "
      ]
     },
     "execution_count": 181,
     "metadata": {},
     "output_type": "execute_result"
    }
   ],
   "source": [
    "us_grouped_videos.head()"
   ]
  },
  {
   "cell_type": "markdown",
   "metadata": {},
   "source": [
    "Reading categories from json file"
   ]
  },
  {
   "cell_type": "code",
   "execution_count": 182,
   "metadata": {
    "collapsed": true
   },
   "outputs": [],
   "source": [
    "with open('./data/US_category_id.json') as data_file:\n",
    "    data = json.load(data_file)"
   ]
  },
  {
   "cell_type": "code",
   "execution_count": 183,
   "metadata": {
    "collapsed": true
   },
   "outputs": [],
   "source": [
    "categories = []\n",
    "for item in data['items']:\n",
    "    category = {}\n",
    "    category['category_id'] = int(item['id'])\n",
    "    category['title'] = item['snippet']['title']\n",
    "    categories.append(category)"
   ]
  },
  {
   "cell_type": "code",
   "execution_count": 184,
   "metadata": {},
   "outputs": [
    {
     "data": {
      "text/html": [
       "<div>\n",
       "<style>\n",
       "    .dataframe thead tr:only-child th {\n",
       "        text-align: right;\n",
       "    }\n",
       "\n",
       "    .dataframe thead th {\n",
       "        text-align: left;\n",
       "    }\n",
       "\n",
       "    .dataframe tbody tr th {\n",
       "        vertical-align: top;\n",
       "    }\n",
       "</style>\n",
       "<table border=\"1\" class=\"dataframe\">\n",
       "  <thead>\n",
       "    <tr style=\"text-align: right;\">\n",
       "      <th></th>\n",
       "      <th>category_id</th>\n",
       "      <th>title</th>\n",
       "    </tr>\n",
       "  </thead>\n",
       "  <tbody>\n",
       "    <tr>\n",
       "      <th>0</th>\n",
       "      <td>1</td>\n",
       "      <td>Film &amp; Animation</td>\n",
       "    </tr>\n",
       "    <tr>\n",
       "      <th>1</th>\n",
       "      <td>2</td>\n",
       "      <td>Autos &amp; Vehicles</td>\n",
       "    </tr>\n",
       "    <tr>\n",
       "      <th>2</th>\n",
       "      <td>10</td>\n",
       "      <td>Music</td>\n",
       "    </tr>\n",
       "    <tr>\n",
       "      <th>3</th>\n",
       "      <td>15</td>\n",
       "      <td>Pets &amp; Animals</td>\n",
       "    </tr>\n",
       "    <tr>\n",
       "      <th>4</th>\n",
       "      <td>17</td>\n",
       "      <td>Sports</td>\n",
       "    </tr>\n",
       "  </tbody>\n",
       "</table>\n",
       "</div>"
      ],
      "text/plain": [
       "   category_id             title\n",
       "0            1  Film & Animation\n",
       "1            2  Autos & Vehicles\n",
       "2           10             Music\n",
       "3           15    Pets & Animals\n",
       "4           17            Sports"
      ]
     },
     "execution_count": 184,
     "metadata": {},
     "output_type": "execute_result"
    }
   ],
   "source": [
    "categories_df = pd.DataFrame(categories)\n",
    "categories_df.head()"
   ]
  },
  {
   "cell_type": "code",
   "execution_count": 185,
   "metadata": {
    "collapsed": true
   },
   "outputs": [],
   "source": [
    "us_final_df = us_grouped_videos.merge(categories_df, on = ['category_id'])\n",
    "us_final_df.rename(columns={'title_y': 'category', 'title_x': 'video_name'}, inplace=True)"
   ]
  },
  {
   "cell_type": "code",
   "execution_count": 186,
   "metadata": {},
   "outputs": [
    {
     "data": {
      "text/plain": [
       "'emergence|\"ants\"|\"intelligence\"|\"ant\"|\"sum of its part\"|\"more is more\"|\"soul\"|\"conciousness\"|\"funny\"|\"fascinating\"|\"life\"|\"human\"|\"cell\"|\"animation\"|\"kurzgesagt\"|\"in a nutshell\"'"
      ]
     },
     "execution_count": 186,
     "metadata": {},
     "output_type": "execute_result"
    }
   ],
   "source": [
    "us_final_df.tags[2]"
   ]
  },
  {
   "cell_type": "code",
   "execution_count": 187,
   "metadata": {
    "collapsed": true
   },
   "outputs": [],
   "source": [
    "def splitTags(tag_list):\n",
    "    tag_list = tag_list.split('|')\n",
    "    output = ''\n",
    "    for tag in tag_list:\n",
    "        output += tag\n",
    "    return output"
   ]
  },
  {
   "cell_type": "code",
   "execution_count": 188,
   "metadata": {
    "collapsed": true
   },
   "outputs": [],
   "source": [
    "us_final_df['tags'] = us_final_df['tags'].apply(splitTags)"
   ]
  },
  {
   "cell_type": "code",
   "execution_count": 189,
   "metadata": {},
   "outputs": [
    {
     "data": {
      "text/plain": [
       "Index(['video_id', 'trending_date', 'video_name', 'channel_title',\n",
       "       'category_id', 'publish_time', 'tags', 'views', 'likes', 'dislikes',\n",
       "       'comment_count', 'thumbnail_link', 'comments_disabled',\n",
       "       'ratings_disabled', 'video_error_or_removed', 'description',\n",
       "       'category'],\n",
       "      dtype='object')"
      ]
     },
     "execution_count": 189,
     "metadata": {},
     "output_type": "execute_result"
    }
   ],
   "source": [
    "us_final_df.columns"
   ]
  },
  {
   "cell_type": "code",
   "execution_count": 190,
   "metadata": {
    "collapsed": true
   },
   "outputs": [],
   "source": [
    "#get rid of the punctuations and set all characters to lowercase\n",
    "import re\n",
    "RE_PREPROCESS = r'\\W+|\\d+' #the regular expressions that matches all non-characters\n",
    "\n",
    "#get rid of punctuation and make everything lowercase\n",
    "#the code belows works by looping through the array of text\n",
    "#for a given piece of text we invoke the `re.sub` command where we pass in the regular expression, a space ' ' to\n",
    "#subsitute all the matching characters with\n",
    "#we then invoke the `lower()` method on the output of the re.sub command\n",
    "#to make all the remaining characters\n",
    "#the cleaned document is then stored in a list\n",
    "#once this list has been filed it is then stored in a numpy array\n"
   ]
  },
  {
   "cell_type": "code",
   "execution_count": 208,
   "metadata": {
    "collapsed": true
   },
   "outputs": [],
   "source": [
    "i = 0\n",
    "def process_features(desc):\n",
    "    try:\n",
    "        return re.sub(RE_PREPROCESS, ' ', desc)\n",
    "    except:\n",
    "        return \" \"\n"
   ]
  },
  {
   "cell_type": "code",
   "execution_count": 209,
   "metadata": {
    "collapsed": true
   },
   "outputs": [],
   "source": [
    "us_final_df['video_features'] = us_final_df['tags'].astype(str) + us_final_df['video_name'].astype(str) \\\n",
    "                        + us_final_df['channel_title'].astype(str) + us_final_df['description'] + us_final_df['category']"
   ]
  },
  {
   "cell_type": "code",
   "execution_count": 210,
   "metadata": {
    "collapsed": true
   },
   "outputs": [],
   "source": [
    "us_final_df['video_features'] = us_final_df['video_features'].apply(process_features)"
   ]
  },
  {
   "cell_type": "code",
   "execution_count": 211,
   "metadata": {
    "collapsed": true
   },
   "outputs": [],
   "source": [
    "feature_corpus = us_final_df['video_features'].values"
   ]
  },
  {
   "cell_type": "code",
   "execution_count": 219,
   "metadata": {},
   "outputs": [],
   "source": [
    "feature_corpus = np.array( [comment.lower() for comment in feature_corpus] )"
   ]
  },
  {
   "cell_type": "code",
   "execution_count": 220,
   "metadata": {},
   "outputs": [
    {
     "name": "stdout",
     "output_type": "stream",
     "text": [
      "\n",
      "    Warning: no model found for 'en'\n",
      "\n",
      "    Only loading the 'en' tokenizer.\n",
      "\n"
     ]
    }
   ],
   "source": [
    "parser = spacy.load('en')"
   ]
  },
  {
   "cell_type": "code",
   "execution_count": 224,
   "metadata": {},
   "outputs": [
    {
     "ename": "SyntaxError",
     "evalue": "invalid syntax (<ipython-input-224-2ef131f7c769>, line 2)",
     "output_type": "error",
     "traceback": [
      "\u001b[1;36m  File \u001b[1;32m\"<ipython-input-224-2ef131f7c769>\"\u001b[1;36m, line \u001b[1;32m2\u001b[0m\n\u001b[1;33m    for feature in feature_corpus\u001b[0m\n\u001b[1;37m                                 ^\u001b[0m\n\u001b[1;31mSyntaxError\u001b[0m\u001b[1;31m:\u001b[0m invalid syntax\n"
     ]
    }
   ],
   "source": [
    "processed_feature_corpus = []\n",
    "for feature in feature_corpus:\n",
    "    processed_feature_corpus.append(parser(feature))"
   ]
  },
  {
   "cell_type": "code",
   "execution_count": null,
   "metadata": {
    "collapsed": true
   },
   "outputs": [],
   "source": []
  }
 ],
 "metadata": {
  "kernelspec": {
   "display_name": "Python 3",
   "language": "python",
   "name": "python3"
  },
  "language_info": {
   "codemirror_mode": {
    "name": "ipython",
    "version": 3
   },
   "file_extension": ".py",
   "mimetype": "text/x-python",
   "name": "python",
   "nbconvert_exporter": "python",
   "pygments_lexer": "ipython3",
   "version": "3.6.1"
  }
 },
 "nbformat": 4,
 "nbformat_minor": 2
}
