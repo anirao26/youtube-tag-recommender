{
 "cells": [
  {
   "cell_type": "code",
   "execution_count": 216,
   "metadata": {},
   "outputs": [],
   "source": [
    "import pandas as pd\n",
    "import json\n",
    "import numpy as np\n",
    "import spacy"
   ]
  },
  {
   "cell_type": "code",
   "execution_count": 177,
   "metadata": {
    "collapsed": true
   },
   "outputs": [],
   "source": [
    "us_videos_df = pd.read_csv('./data/USvideos.csv')"
   ]
  },
  {
   "cell_type": "markdown",
   "metadata": {},
   "source": [
    "Sorting the videos by video_id and date for later group by operations."
   ]
  },
  {
   "cell_type": "code",
   "execution_count": 178,
   "metadata": {
    "collapsed": true
   },
   "outputs": [],
   "source": [
    "us_videos_df.sort_values(by=['video_id', 'trending_date'], ascending=True, inplace=True)"
   ]
  },
  {
   "cell_type": "code",
   "execution_count": 179,
   "metadata": {},
   "outputs": [
    {
     "data": {
      "text/html": [
       "<div>\n",
       "<style>\n",
       "    .dataframe thead tr:only-child th {\n",
       "        text-align: right;\n",
       "    }\n",
       "\n",
       "    .dataframe thead th {\n",
       "        text-align: left;\n",
       "    }\n",
       "\n",
       "    .dataframe tbody tr th {\n",
       "        vertical-align: top;\n",
       "    }\n",
       "</style>\n",
       "<table border=\"1\" class=\"dataframe\">\n",
       "  <thead>\n",
       "    <tr style=\"text-align: right;\">\n",
       "      <th></th>\n",
       "      <th>video_id</th>\n",
       "      <th>trending_date</th>\n",
       "      <th>title</th>\n",
       "      <th>channel_title</th>\n",
       "      <th>category_id</th>\n",
       "      <th>publish_time</th>\n",
       "      <th>tags</th>\n",
       "      <th>views</th>\n",
       "      <th>likes</th>\n",
       "      <th>dislikes</th>\n",
       "      <th>comment_count</th>\n",
       "      <th>thumbnail_link</th>\n",
       "      <th>comments_disabled</th>\n",
       "      <th>ratings_disabled</th>\n",
       "      <th>video_error_or_removed</th>\n",
       "      <th>description</th>\n",
       "    </tr>\n",
       "  </thead>\n",
       "  <tbody>\n",
       "    <tr>\n",
       "      <th>90</th>\n",
       "      <td>-2RVw2_QyxQ</td>\n",
       "      <td>17.14.11</td>\n",
       "      <td>2017 Champions Showdown: Day 3</td>\n",
       "      <td>Saint Louis Chess Club</td>\n",
       "      <td>27</td>\n",
       "      <td>2017-11-12T02:39:01.000Z</td>\n",
       "      <td>Chess|\"Saint Louis\"|\"Club\"</td>\n",
       "      <td>67429</td>\n",
       "      <td>438</td>\n",
       "      <td>23</td>\n",
       "      <td>23</td>\n",
       "      <td>https://i.ytimg.com/vi/-2RVw2_QyxQ/default.jpg</td>\n",
       "      <td>False</td>\n",
       "      <td>False</td>\n",
       "      <td>False</td>\n",
       "      <td>The Saint Louis Chess Club hosts a series of f...</td>\n",
       "    </tr>\n",
       "    <tr>\n",
       "      <th>346</th>\n",
       "      <td>-2RVw2_QyxQ</td>\n",
       "      <td>17.15.11</td>\n",
       "      <td>2017 Champions Showdown: Day 3</td>\n",
       "      <td>Saint Louis Chess Club</td>\n",
       "      <td>27</td>\n",
       "      <td>2017-11-12T02:39:01.000Z</td>\n",
       "      <td>Chess|\"Saint Louis\"|\"Club\"</td>\n",
       "      <td>69786</td>\n",
       "      <td>453</td>\n",
       "      <td>26</td>\n",
       "      <td>19</td>\n",
       "      <td>https://i.ytimg.com/vi/-2RVw2_QyxQ/default.jpg</td>\n",
       "      <td>False</td>\n",
       "      <td>False</td>\n",
       "      <td>False</td>\n",
       "      <td>The Saint Louis Chess Club hosts a series of f...</td>\n",
       "    </tr>\n",
       "    <tr>\n",
       "      <th>584</th>\n",
       "      <td>-2RVw2_QyxQ</td>\n",
       "      <td>17.16.11</td>\n",
       "      <td>2017 Champions Showdown: Day 3</td>\n",
       "      <td>Saint Louis Chess Club</td>\n",
       "      <td>27</td>\n",
       "      <td>2017-11-12T02:39:01.000Z</td>\n",
       "      <td>Chess|\"Saint Louis\"|\"Club\"</td>\n",
       "      <td>71089</td>\n",
       "      <td>460</td>\n",
       "      <td>27</td>\n",
       "      <td>20</td>\n",
       "      <td>https://i.ytimg.com/vi/-2RVw2_QyxQ/default.jpg</td>\n",
       "      <td>False</td>\n",
       "      <td>False</td>\n",
       "      <td>False</td>\n",
       "      <td>The Saint Louis Chess Club hosts a series of f...</td>\n",
       "    </tr>\n",
       "    <tr>\n",
       "      <th>1404</th>\n",
       "      <td>-El8z4uy5Ac</td>\n",
       "      <td>17.21.11</td>\n",
       "      <td>The Best Movie Hell to End Up In - After Hours</td>\n",
       "      <td>Cracked</td>\n",
       "      <td>23</td>\n",
       "      <td>2017-11-20T17:00:00.000Z</td>\n",
       "      <td>movie hells|\"hercules\"|\"bedazzled\"|\"all dogs g...</td>\n",
       "      <td>327936</td>\n",
       "      <td>11643</td>\n",
       "      <td>584</td>\n",
       "      <td>1305</td>\n",
       "      <td>https://i.ytimg.com/vi/-El8z4uy5Ac/default.jpg</td>\n",
       "      <td>False</td>\n",
       "      <td>False</td>\n",
       "      <td>False</td>\n",
       "      <td>The gang gets together for a frank discussion ...</td>\n",
       "    </tr>\n",
       "    <tr>\n",
       "      <th>1621</th>\n",
       "      <td>-El8z4uy5Ac</td>\n",
       "      <td>17.22.11</td>\n",
       "      <td>The Best Movie Hell to End Up In - After Hours</td>\n",
       "      <td>Cracked</td>\n",
       "      <td>23</td>\n",
       "      <td>2017-11-20T17:00:00.000Z</td>\n",
       "      <td>movie hells|\"hercules\"|\"bedazzled\"|\"all dogs g...</td>\n",
       "      <td>522256</td>\n",
       "      <td>14312</td>\n",
       "      <td>1062</td>\n",
       "      <td>1553</td>\n",
       "      <td>https://i.ytimg.com/vi/-El8z4uy5Ac/default.jpg</td>\n",
       "      <td>False</td>\n",
       "      <td>False</td>\n",
       "      <td>False</td>\n",
       "      <td>The gang gets together for a frank discussion ...</td>\n",
       "    </tr>\n",
       "  </tbody>\n",
       "</table>\n",
       "</div>"
      ],
      "text/plain": [
       "         video_id trending_date  \\\n",
       "90    -2RVw2_QyxQ      17.14.11   \n",
       "346   -2RVw2_QyxQ      17.15.11   \n",
       "584   -2RVw2_QyxQ      17.16.11   \n",
       "1404  -El8z4uy5Ac      17.21.11   \n",
       "1621  -El8z4uy5Ac      17.22.11   \n",
       "\n",
       "                                               title           channel_title  \\\n",
       "90                    2017 Champions Showdown: Day 3  Saint Louis Chess Club   \n",
       "346                   2017 Champions Showdown: Day 3  Saint Louis Chess Club   \n",
       "584                   2017 Champions Showdown: Day 3  Saint Louis Chess Club   \n",
       "1404  The Best Movie Hell to End Up In - After Hours                 Cracked   \n",
       "1621  The Best Movie Hell to End Up In - After Hours                 Cracked   \n",
       "\n",
       "      category_id              publish_time  \\\n",
       "90             27  2017-11-12T02:39:01.000Z   \n",
       "346            27  2017-11-12T02:39:01.000Z   \n",
       "584            27  2017-11-12T02:39:01.000Z   \n",
       "1404           23  2017-11-20T17:00:00.000Z   \n",
       "1621           23  2017-11-20T17:00:00.000Z   \n",
       "\n",
       "                                                   tags   views  likes  \\\n",
       "90                           Chess|\"Saint Louis\"|\"Club\"   67429    438   \n",
       "346                          Chess|\"Saint Louis\"|\"Club\"   69786    453   \n",
       "584                          Chess|\"Saint Louis\"|\"Club\"   71089    460   \n",
       "1404  movie hells|\"hercules\"|\"bedazzled\"|\"all dogs g...  327936  11643   \n",
       "1621  movie hells|\"hercules\"|\"bedazzled\"|\"all dogs g...  522256  14312   \n",
       "\n",
       "      dislikes  comment_count                                  thumbnail_link  \\\n",
       "90          23             23  https://i.ytimg.com/vi/-2RVw2_QyxQ/default.jpg   \n",
       "346         26             19  https://i.ytimg.com/vi/-2RVw2_QyxQ/default.jpg   \n",
       "584         27             20  https://i.ytimg.com/vi/-2RVw2_QyxQ/default.jpg   \n",
       "1404       584           1305  https://i.ytimg.com/vi/-El8z4uy5Ac/default.jpg   \n",
       "1621      1062           1553  https://i.ytimg.com/vi/-El8z4uy5Ac/default.jpg   \n",
       "\n",
       "      comments_disabled  ratings_disabled  video_error_or_removed  \\\n",
       "90                False             False                   False   \n",
       "346               False             False                   False   \n",
       "584               False             False                   False   \n",
       "1404              False             False                   False   \n",
       "1621              False             False                   False   \n",
       "\n",
       "                                            description  \n",
       "90    The Saint Louis Chess Club hosts a series of f...  \n",
       "346   The Saint Louis Chess Club hosts a series of f...  \n",
       "584   The Saint Louis Chess Club hosts a series of f...  \n",
       "1404  The gang gets together for a frank discussion ...  \n",
       "1621  The gang gets together for a frank discussion ...  "
      ]
     },
     "execution_count": 179,
     "metadata": {},
     "output_type": "execute_result"
    }
   ],
   "source": [
    "us_videos_df.head()"
   ]
  },
  {
   "cell_type": "markdown",
   "metadata": {},
   "source": [
    "Retrieving the last video of every group. The last video would be the latest video (as per trending date)."
   ]
  },
  {
   "cell_type": "code",
   "execution_count": 180,
   "metadata": {
    "collapsed": true
   },
   "outputs": [],
   "source": [
    "us_grouped_videos = us_videos_df.groupby(['video_id']).last().reset_index()"
   ]
  },
  {
   "cell_type": "code",
   "execution_count": 181,
   "metadata": {},
   "outputs": [
    {
     "data": {
      "text/html": [
       "<div>\n",
       "<style>\n",
       "    .dataframe thead tr:only-child th {\n",
       "        text-align: right;\n",
       "    }\n",
       "\n",
       "    .dataframe thead th {\n",
       "        text-align: left;\n",
       "    }\n",
       "\n",
       "    .dataframe tbody tr th {\n",
       "        vertical-align: top;\n",
       "    }\n",
       "</style>\n",
       "<table border=\"1\" class=\"dataframe\">\n",
       "  <thead>\n",
       "    <tr style=\"text-align: right;\">\n",
       "      <th></th>\n",
       "      <th>video_id</th>\n",
       "      <th>trending_date</th>\n",
       "      <th>title</th>\n",
       "      <th>channel_title</th>\n",
       "      <th>category_id</th>\n",
       "      <th>publish_time</th>\n",
       "      <th>tags</th>\n",
       "      <th>views</th>\n",
       "      <th>likes</th>\n",
       "      <th>dislikes</th>\n",
       "      <th>comment_count</th>\n",
       "      <th>thumbnail_link</th>\n",
       "      <th>comments_disabled</th>\n",
       "      <th>ratings_disabled</th>\n",
       "      <th>video_error_or_removed</th>\n",
       "      <th>description</th>\n",
       "    </tr>\n",
       "  </thead>\n",
       "  <tbody>\n",
       "    <tr>\n",
       "      <th>0</th>\n",
       "      <td>-2RVw2_QyxQ</td>\n",
       "      <td>17.16.11</td>\n",
       "      <td>2017 Champions Showdown: Day 3</td>\n",
       "      <td>Saint Louis Chess Club</td>\n",
       "      <td>27</td>\n",
       "      <td>2017-11-12T02:39:01.000Z</td>\n",
       "      <td>Chess|\"Saint Louis\"|\"Club\"</td>\n",
       "      <td>71089</td>\n",
       "      <td>460</td>\n",
       "      <td>27</td>\n",
       "      <td>20</td>\n",
       "      <td>https://i.ytimg.com/vi/-2RVw2_QyxQ/default.jpg</td>\n",
       "      <td>False</td>\n",
       "      <td>False</td>\n",
       "      <td>False</td>\n",
       "      <td>The Saint Louis Chess Club hosts a series of f...</td>\n",
       "    </tr>\n",
       "    <tr>\n",
       "      <th>1</th>\n",
       "      <td>-El8z4uy5Ac</td>\n",
       "      <td>17.26.11</td>\n",
       "      <td>The Best Movie Hell to End Up In - After Hours</td>\n",
       "      <td>Cracked</td>\n",
       "      <td>23</td>\n",
       "      <td>2017-11-20T17:00:00.000Z</td>\n",
       "      <td>movie hells|\"hercules\"|\"bedazzled\"|\"all dogs g...</td>\n",
       "      <td>639982</td>\n",
       "      <td>16519</td>\n",
       "      <td>1243</td>\n",
       "      <td>1739</td>\n",
       "      <td>https://i.ytimg.com/vi/-El8z4uy5Ac/default.jpg</td>\n",
       "      <td>False</td>\n",
       "      <td>False</td>\n",
       "      <td>False</td>\n",
       "      <td>The gang gets together for a frank discussion ...</td>\n",
       "    </tr>\n",
       "    <tr>\n",
       "      <th>2</th>\n",
       "      <td>-JVITToppE0</td>\n",
       "      <td>17.17.11</td>\n",
       "      <td>Coach Taggart Monday Presser Ahead of Arizona</td>\n",
       "      <td>GoDucksdotcom</td>\n",
       "      <td>17</td>\n",
       "      <td>2017-11-13T20:41:45.000Z</td>\n",
       "      <td>Oregon|\"Ducks\"|\"college athletics\"|\"college fo...</td>\n",
       "      <td>704</td>\n",
       "      <td>10</td>\n",
       "      <td>2</td>\n",
       "      <td>5</td>\n",
       "      <td>https://i.ytimg.com/vi/-JVITToppE0/default.jpg</td>\n",
       "      <td>False</td>\n",
       "      <td>False</td>\n",
       "      <td>False</td>\n",
       "      <td>Coach Taggart addresses the media ahead of the...</td>\n",
       "    </tr>\n",
       "    <tr>\n",
       "      <th>3</th>\n",
       "      <td>-OK9i1_YYYc</td>\n",
       "      <td>17.16.11</td>\n",
       "      <td>Animal Adventure Park Giraffe Cam</td>\n",
       "      <td>Animal Adventure Park</td>\n",
       "      <td>15</td>\n",
       "      <td>2017-11-12T00:18:43.000Z</td>\n",
       "      <td>Giraffe|\"Zoo\"|\"New York\"|\"giraffe cam\"|\"Animal...</td>\n",
       "      <td>46260</td>\n",
       "      <td>2286</td>\n",
       "      <td>35</td>\n",
       "      <td>17</td>\n",
       "      <td>https://i.ytimg.com/vi/-OK9i1_YYYc/default.jpg</td>\n",
       "      <td>False</td>\n",
       "      <td>False</td>\n",
       "      <td>False</td>\n",
       "      <td>November 2017 Giraffe Cam Hours\\n\\nEnjoy your ...</td>\n",
       "    </tr>\n",
       "    <tr>\n",
       "      <th>4</th>\n",
       "      <td>-SIp6xSP7ds</td>\n",
       "      <td>17.28.11</td>\n",
       "      <td>Gayle King and Norah O'Donnell respond to Char...</td>\n",
       "      <td>CBS This Morning</td>\n",
       "      <td>25</td>\n",
       "      <td>2017-11-21T12:35:39.000Z</td>\n",
       "      <td>video|\"cbs\"|\"news\"|\"CBS This Morning\"|\"Charlie...</td>\n",
       "      <td>534125</td>\n",
       "      <td>2507</td>\n",
       "      <td>1201</td>\n",
       "      <td>1772</td>\n",
       "      <td>https://i.ytimg.com/vi/-SIp6xSP7ds/default.jpg</td>\n",
       "      <td>False</td>\n",
       "      <td>False</td>\n",
       "      <td>False</td>\n",
       "      <td>CBS This Morning co-hosts Norah O'Donnell and ...</td>\n",
       "    </tr>\n",
       "  </tbody>\n",
       "</table>\n",
       "</div>"
      ],
      "text/plain": [
       "      video_id trending_date  \\\n",
       "0  -2RVw2_QyxQ      17.16.11   \n",
       "1  -El8z4uy5Ac      17.26.11   \n",
       "2  -JVITToppE0      17.17.11   \n",
       "3  -OK9i1_YYYc      17.16.11   \n",
       "4  -SIp6xSP7ds      17.28.11   \n",
       "\n",
       "                                               title           channel_title  \\\n",
       "0                     2017 Champions Showdown: Day 3  Saint Louis Chess Club   \n",
       "1     The Best Movie Hell to End Up In - After Hours                 Cracked   \n",
       "2      Coach Taggart Monday Presser Ahead of Arizona           GoDucksdotcom   \n",
       "3                  Animal Adventure Park Giraffe Cam   Animal Adventure Park   \n",
       "4  Gayle King and Norah O'Donnell respond to Char...        CBS This Morning   \n",
       "\n",
       "   category_id              publish_time  \\\n",
       "0           27  2017-11-12T02:39:01.000Z   \n",
       "1           23  2017-11-20T17:00:00.000Z   \n",
       "2           17  2017-11-13T20:41:45.000Z   \n",
       "3           15  2017-11-12T00:18:43.000Z   \n",
       "4           25  2017-11-21T12:35:39.000Z   \n",
       "\n",
       "                                                tags   views  likes  dislikes  \\\n",
       "0                         Chess|\"Saint Louis\"|\"Club\"   71089    460        27   \n",
       "1  movie hells|\"hercules\"|\"bedazzled\"|\"all dogs g...  639982  16519      1243   \n",
       "2  Oregon|\"Ducks\"|\"college athletics\"|\"college fo...     704     10         2   \n",
       "3  Giraffe|\"Zoo\"|\"New York\"|\"giraffe cam\"|\"Animal...   46260   2286        35   \n",
       "4  video|\"cbs\"|\"news\"|\"CBS This Morning\"|\"Charlie...  534125   2507      1201   \n",
       "\n",
       "   comment_count                                  thumbnail_link  \\\n",
       "0             20  https://i.ytimg.com/vi/-2RVw2_QyxQ/default.jpg   \n",
       "1           1739  https://i.ytimg.com/vi/-El8z4uy5Ac/default.jpg   \n",
       "2              5  https://i.ytimg.com/vi/-JVITToppE0/default.jpg   \n",
       "3             17  https://i.ytimg.com/vi/-OK9i1_YYYc/default.jpg   \n",
       "4           1772  https://i.ytimg.com/vi/-SIp6xSP7ds/default.jpg   \n",
       "\n",
       "   comments_disabled  ratings_disabled  video_error_or_removed  \\\n",
       "0              False             False                   False   \n",
       "1              False             False                   False   \n",
       "2              False             False                   False   \n",
       "3              False             False                   False   \n",
       "4              False             False                   False   \n",
       "\n",
       "                                         description  \n",
       "0  The Saint Louis Chess Club hosts a series of f...  \n",
       "1  The gang gets together for a frank discussion ...  \n",
       "2  Coach Taggart addresses the media ahead of the...  \n",
       "3  November 2017 Giraffe Cam Hours\\n\\nEnjoy your ...  \n",
       "4  CBS This Morning co-hosts Norah O'Donnell and ...  "
      ]
     },
     "execution_count": 181,
     "metadata": {},
     "output_type": "execute_result"
    }
   ],
   "source": [
    "us_grouped_videos.head()"
   ]
  },
  {
   "cell_type": "markdown",
   "metadata": {},
   "source": [
    "Reading categories from json file"
   ]
  },
  {
   "cell_type": "code",
   "execution_count": 182,
   "metadata": {
    "collapsed": true
   },
   "outputs": [],
   "source": [
    "with open('./data/US_category_id.json') as data_file:\n",
    "    data = json.load(data_file)"
   ]
  },
  {
   "cell_type": "code",
   "execution_count": 183,
   "metadata": {
    "collapsed": true
   },
   "outputs": [],
   "source": [
    "categories = []\n",
    "for item in data['items']:\n",
    "    category = {}\n",
    "    category['category_id'] = int(item['id'])\n",
    "    category['title'] = item['snippet']['title']\n",
    "    categories.append(category)"
   ]
  },
  {
   "cell_type": "code",
   "execution_count": 184,
   "metadata": {},
   "outputs": [
    {
     "data": {
      "text/html": [
       "<div>\n",
       "<style>\n",
       "    .dataframe thead tr:only-child th {\n",
       "        text-align: right;\n",
       "    }\n",
       "\n",
       "    .dataframe thead th {\n",
       "        text-align: left;\n",
       "    }\n",
       "\n",
       "    .dataframe tbody tr th {\n",
       "        vertical-align: top;\n",
       "    }\n",
       "</style>\n",
       "<table border=\"1\" class=\"dataframe\">\n",
       "  <thead>\n",
       "    <tr style=\"text-align: right;\">\n",
       "      <th></th>\n",
       "      <th>category_id</th>\n",
       "      <th>title</th>\n",
       "    </tr>\n",
       "  </thead>\n",
       "  <tbody>\n",
       "    <tr>\n",
       "      <th>0</th>\n",
       "      <td>1</td>\n",
       "      <td>Film &amp; Animation</td>\n",
       "    </tr>\n",
       "    <tr>\n",
       "      <th>1</th>\n",
       "      <td>2</td>\n",
       "      <td>Autos &amp; Vehicles</td>\n",
       "    </tr>\n",
       "    <tr>\n",
       "      <th>2</th>\n",
       "      <td>10</td>\n",
       "      <td>Music</td>\n",
       "    </tr>\n",
       "    <tr>\n",
       "      <th>3</th>\n",
       "      <td>15</td>\n",
       "      <td>Pets &amp; Animals</td>\n",
       "    </tr>\n",
       "    <tr>\n",
       "      <th>4</th>\n",
       "      <td>17</td>\n",
       "      <td>Sports</td>\n",
       "    </tr>\n",
       "  </tbody>\n",
       "</table>\n",
       "</div>"
      ],
      "text/plain": [
       "   category_id             title\n",
       "0            1  Film & Animation\n",
       "1            2  Autos & Vehicles\n",
       "2           10             Music\n",
       "3           15    Pets & Animals\n",
       "4           17            Sports"
      ]
     },
     "execution_count": 184,
     "metadata": {},
     "output_type": "execute_result"
    }
   ],
   "source": [
    "categories_df = pd.DataFrame(categories)\n",
    "categories_df.head()"
   ]
  },
  {
   "cell_type": "code",
   "execution_count": 185,
   "metadata": {
    "collapsed": true
   },
   "outputs": [],
   "source": [
    "us_final_df = us_grouped_videos.merge(categories_df, on = ['category_id'])\n",
    "us_final_df.rename(columns={'title_y': 'category', 'title_x': 'video_name'}, inplace=True)"
   ]
  },
  {
   "cell_type": "code",
   "execution_count": 186,
   "metadata": {},
   "outputs": [
    {
     "data": {
      "text/plain": [
       "'emergence|\"ants\"|\"intelligence\"|\"ant\"|\"sum of its part\"|\"more is more\"|\"soul\"|\"conciousness\"|\"funny\"|\"fascinating\"|\"life\"|\"human\"|\"cell\"|\"animation\"|\"kurzgesagt\"|\"in a nutshell\"'"
      ]
     },
     "execution_count": 186,
     "metadata": {},
     "output_type": "execute_result"
    }
   ],
   "source": [
    "us_final_df.tags[2]"
   ]
  },
  {
   "cell_type": "code",
   "execution_count": 187,
   "metadata": {
    "collapsed": true
   },
   "outputs": [],
   "source": [
    "def splitTags(tag_list):\n",
    "    tag_list = tag_list.split('|')\n",
    "    output = ''\n",
    "    for tag in tag_list:\n",
    "        output += tag\n",
    "    return output"
   ]
  },
  {
   "cell_type": "code",
   "execution_count": 188,
   "metadata": {
    "collapsed": true
   },
   "outputs": [],
   "source": [
    "us_final_df['tags'] = us_final_df['tags'].apply(splitTags)"
   ]
  },
  {
   "cell_type": "code",
   "execution_count": 189,
   "metadata": {},
   "outputs": [
    {
     "data": {
      "text/plain": [
       "Index(['video_id', 'trending_date', 'video_name', 'channel_title',\n",
       "       'category_id', 'publish_time', 'tags', 'views', 'likes', 'dislikes',\n",
       "       'comment_count', 'thumbnail_link', 'comments_disabled',\n",
       "       'ratings_disabled', 'video_error_or_removed', 'description',\n",
       "       'category'],\n",
       "      dtype='object')"
      ]
     },
     "execution_count": 189,
     "metadata": {},
     "output_type": "execute_result"
    }
   ],
   "source": [
    "us_final_df.columns"
   ]
  },
  {
   "cell_type": "code",
   "execution_count": 190,
   "metadata": {
    "collapsed": true
   },
   "outputs": [],
   "source": [
    "#get rid of the punctuations and set all characters to lowercase\n",
    "import re\n",
    "RE_PREPROCESS = r'\\W+|\\d+' #the regular expressions that matches all non-characters\n",
    "\n",
    "#get rid of punctuation and make everything lowercase\n",
    "#the code belows works by looping through the array of text\n",
    "#for a given piece of text we invoke the `re.sub` command where we pass in the regular expression, a space ' ' to\n",
    "#subsitute all the matching characters with\n",
    "#we then invoke the `lower()` method on the output of the re.sub command\n",
    "#to make all the remaining characters\n",
    "#the cleaned document is then stored in a list\n",
    "#once this list has been filed it is then stored in a numpy array\n"
   ]
  },
  {
   "cell_type": "code",
   "execution_count": 208,
   "metadata": {
    "collapsed": true
   },
   "outputs": [],
   "source": [
    "i = 0\n",
    "def process_features(desc):\n",
    "    try:\n",
    "        return re.sub(RE_PREPROCESS, ' ', desc)\n",
    "    except:\n",
    "        return \" \"\n"
   ]
  },
  {
   "cell_type": "code",
   "execution_count": 209,
   "metadata": {
    "collapsed": true
   },
   "outputs": [],
   "source": [
    "us_final_df['video_features'] = us_final_df['tags'].astype(str) + us_final_df['video_name'].astype(str) \\\n",
    "                        + us_final_df['channel_title'].astype(str) + us_final_df['description'] + us_final_df['category']"
   ]
  },
  {
   "cell_type": "code",
   "execution_count": 210,
   "metadata": {
    "collapsed": true
   },
   "outputs": [],
   "source": [
    "us_final_df['video_features'] = us_final_df['video_features'].apply(process_features)"
   ]
  },
  {
   "cell_type": "code",
   "execution_count": 211,
   "metadata": {
    "collapsed": true
   },
   "outputs": [],
   "source": [
    "feature_corpus = us_final_df['video_features'].values"
   ]
  },
  {
   "cell_type": "code",
   "execution_count": 227,
   "metadata": {},
   "outputs": [],
   "source": [
    "feature_corpus = [comment.lower() for comment in feature_corpus]"
   ]
  },
  {
   "cell_type": "code",
   "execution_count": 236,
   "metadata": {
    "scrolled": true
   },
   "outputs": [
    {
     "name": "stdout",
     "output_type": "stream",
     "text": [
      "\n",
      "    Warning: no model found for 'en'\n",
      "\n",
      "    Only loading the 'en' tokenizer.\n",
      "\n"
     ]
    }
   ],
   "source": [
    "parser = spacy.load('en')\n",
    "processed_feature_corpus = [parser(feature) for feature in feature_corpus]"
   ]
  },
  {
   "cell_type": "code",
   "execution_count": 238,
   "metadata": {},
   "outputs": [
    {
     "data": {
      "text/plain": [
       "[chess saint louis club   champions showdown day  saint louis chess clubthe saint louis chess club hosts a series of four matches november     today features eight rounds of g   plus the g   games of carlsen ding for the first time in recent history each match features no delay or increment join gms yasser seirawan alejandro ramirez maurice ashley cristian chirila and wgm jen shahade for the move by move n nuschesschamps com n     education,\n",
       " john green mental floss koalas marsupial joey pouch chlamydia animals history australia zoo buck mammel bear eons hank green eucalyptus camels lindsay military imperial force home range trees pap mundu   facts about koalas mental_floss list show ep  mental flossa weekly show where knowledge junkies get their fix of trivia tastic information this week john tells you about everyone s favorite marsupial the koala n nsubscribe for new episodes of mental_floss every other wednesday n n nwebsite http www mentalfloss com ntwitter http www twitter com mental_floss nfacebook http www facebook com mentalflossmagazine nstore http store mentalfloss com enter promo code youtubeflossers for   off education,\n",
       " emergence ants intelligence ant sum of its part more is more soul conciousness funny fascinating life human cell animation kurzgesagt in a nutshell emergence how stupid things become smart togetherkurzgesagt in a nutshellhow can many stupid things combine to form smart things how can proteins become living cells how become lots of ants a colony what is emergence n nthis video was made possible by a donation by the templeton world charity foundation a huge thanks to them for their support and help over the last year n nkurzgesagt newsletter http eepurl com cruqxz n nsupport us on patreon so we can make more videos and get cool stuff in return https www patreon com kurzgesagt ty h n nkurzgesagt merch http bit ly  p hqih n nthe music of the video n nsoundcloud http bit ly  astump nbandcamp http bit ly  zhwwat nfacebook http bit ly  qw by  n nthanks a lot to our lovely patrons for supporting us n nphil winterleitner david blayney stuart dunlop jordi riera james lamberg alexander fortin philipp hiestand shalyn thong elizabeth meisterling tyler graybill felix diercks carson hynes julian maurel jacek złydach paul lenoue stephen murillo justin fowler michael andregg justin stocking andrew michael altarriba andy holaday karel hulec cj canton cédric coulombe radomir kaleta j k rada  claudio fan etti zen alen kecic patrick preuss demat  erickson phoenix iambadgers tom motto william asheshov chris o hara lobo olsson zachary hall donis a ismael the_cj michal janček lars midgaard elrichmc mariann nagy n nhelp us caption translate this video n nhttp www youtube com timedtext_cs_panel c ucsxvk blthxd rdpwtnm q tab   n nemergence how stupid things become smart togethereducation,\n",
       " hanyuqiao二贵摔跤 tienghoa nettina nguyen辽阔的乌珠穆沁草原是摔跤手的摇篮 这里摔跤的传统源远流长 盛名至今不衰 康熙五年  年 在清政府主持的盛会上 安珠在一千零二十四名摔跤手参赛的大比中 education,\n",
       " the secret protocal procedure process for when queen dies queen elizabeth queen of england death hyde park corner the monarch monarchy england uk united kingdom commonwealth unknown obit light tab for a cause half as interesting hai wendover productions wendover productions animated fun fast interesting educational educative learn learning coronation economic impact economics the secret protocol for when the queen dieshalf as interestingraise money for charity just by browsing the internet with tab for a cause http tab gladly io hai n nget a half as interesting t shirt http bit ly  xjhuw  n nsuggest a video and get a free t shirt if we use it http halfasinteresting com suggest n nfollow half as interesting on twitter http twitter com halfinteresting n ndiscuss this video on reddit http www reddit com r halfasinteres n ncheck out my podcast with brian from real engineering nhttp apple co  ydyzod itunes link nhttp bit ly  gyefle youtube link n ncheck out my other channel http youtube com wendoverproductions n nmusic as colorful as ever by broke for free and moonlight reprise by kai engeleducation,\n",
       " real life lore real life lore maps real life lore geography real life maps world map world map is wrong world map with countries world map real size map of the world world geography geography geography field of study facts you didn t know computer upload your brain upload your mind mind uploading mind upload upload immortality upload consciousness upload memory what happens to you if computers what happens to you if you upload your mind to a computer reallifelorecheck out assassin s creed origins http bit ly  tahyho n nget the new reallifelore book here http bit ly  zkr l  n nvisit here s the bad version s channel for the next video http bit ly  hhey s n nplease subscribe http bit ly  db vto n nanimations courtesy of josh sherrington of heliosphere https www youtube com user necrith n nmusic is by brandon maahs check out his website and music by clicking this link http www brandonmaahs com audio reel n ninstagram https www instagram com official_wh nfacebook https www facebook com reallifelore ntwitter https twitter com reallifelore  nreddit https www reddit com r reallifelore n nsubreddit is moderated by oliver bourdouxhe n nspecial thanks to my patrons juan rodriguez danny clemens owen mary helen burns jarrell hawkins nconor dillon donna michael aufiero mohammad abu hawash mechanoidorange and greenlandia n nvideos explaining things mostly over topics like history geography economics and science n nwe believe that the world is a wonderfully fascinating place and you can find wonder anywhere you look that is what our videos attempt to convey n ncurrently i try my best to release one video every week bear with me education,\n",
       " the school of life school life education relationships mood alain de botton sermon philosophy lecture wisdom london talk secular self improvement curriculum big questions love wellness mindfullness psychology language shipping diminutives origins etymology origin understanding learn languages teaching pl self diminateurs 爱称 diminutivos diminutive sprache verstehen lenguaje de comprensión समझ भ ष 理解语言 entendendo linguagem comprendre la langue vocabulary school of life what are diminutives and why we like themthe school of lifea diminutive is something you stick on the end of a word to make the thing it describes sound smaller ie dog goes to doggy every language has them but some have more than others why are we drawn to diminutives and why is english particularly resistant to them compared to spanish for example if you like our films take a look at our shop we ship worldwide https goo gl ypl ls njoin our mailing list http bit ly  e tqnj nor visit us in person at our london hq https goo gl ifhkyd ndownload our app https goo gl jpz ha n n nfurther reading n nyou can read more on this and other subjects on our blog here https goo gl gcb nz n nmore school of life n nour website has classes articles and products to help you think and grow https goo gl mxt wy n nwatch more films on self in our playlist nhttp bit ly tsolself n nyou can submit translations and transcripts on all of our videos here https www youtube com timedtext_cs_panel c uc icji puf z zkxnzvtbog tab   nfind out how more here https support google com youtube answer   hl en gb n n nsocial media n nfeel free to follow us at the links below n ndownload our app https goo gl jpz ha nfacebook https www facebook com theschooloflifelondon ntwitter https twitter com theschooloflife ninstagram https www instagram com theschooloflifelondon n n ncredits n nproduced in collaboration with n nvale productions nhttp www valeproductions co uk education,\n",
       " scishow science hank green education learn stefan chin mars colony genetic diversity founder effect alleles effective population size mutations interstellar mission acta astronautica founding an inbreeding free space colony founding an inbreeding free space colonyscishowthanks to  andme for supporting scishow these kits make great gifts so check out https  andme com scishow n nhow much genetic diversity would we need to found a colony on another planet n nhosted by stefan chin n nsupport scishow by becoming a patron on patreon https www patreon com scishow n ndooblydoo thanks go to the following patreon supporters ksam lutfi kevin knupp nicholas smith inerri d a noe alexander wadsworth nسلطان الخليفي piya shedden katiemarie magnone scott satovsky jr bella nash charles southerland bader alghamdi james harshaw patrick merrithew patrick d ashmore candy tim curwick charles george saul mark terrio cameron viraansh bhanushali kevin bealer philippe von bergen chris peters fatima iqbal justin lentz n nlooking for scishow elsewhere on the internet nfacebook http www facebook com scishow ntwitter http www twitter com scishow ntumblr http scishow tumblr com ninstagram http instagram com thescishow n nsources nhttps www newscientist com article dn  magic number for space pioneers calculated nhttp www popularmechanics com space deep space a  how many people does it take to colonize another star system   nhttp www sciencedirect com science article pii s  nhttps geneticliteracyproject org       mars colonists need bring earth large gene pool nhttps www salon com       there_will_be_sex_in_space_mars_science_and_the_dictates_of_biology_and_human_culture nhttps www britannica com science minimum viable population nhttps www nature com scientificamerican journal v  n  full scientificamerican    html nhttp bio classes ucsc edu bio  class  pdfs w _lecture  pdf nhttp news nationalgeographic com news      _ _wirelifeinspace_  html nhttps www ncbi nlm nih gov pmc articles pmc  nhttps www ncbi nlm nih gov pmc articles pmc  nhttps www genome gov   iceland study provides insights into disease paves way for largescale genomic studies nhttps www researchgate net publication  _observing_the_founder_effect_in_human_evolution nhttps www pbs org wgbh evolution library     l_ _  html nhttps investigativegenetics biomedcentral com articles     s        nhttps www karger com article abstract   nhttps www ncbi nlm nih gov pmc articles pmc  nhttps www nature com hdy journal v  n  full  a html nhttp onlinelibrary wiley com doi     j         x abstract nhttps nctc fws gov courses csp csp  content resources pop_viability pdf nhttps arxiv org pdf     pdf nhttps www theatlantic com health archive     how icelands genealogy obsession leads to scientific breakthroughs   nhttps www usatoday com story tech       new app helps icelanders avoid accidental incest   n nimages nhttps commons wikimedia org wiki file founder_effect_illustration jpg nhttps commons wikimedia org wiki file amish_farm_morristown_new_york jpg nhttps commons wikimedia org wiki file ingolf_by_raadsig jpgeducation,\n",
       " ted ted ed ted education ted ed nicholas amendolare garrett hardin tragedy of the commons sustainability fish w f lloyd overgrazing antibiotics coal what is the tragedy of the commons nicholas amendolareted edcheck out our patreon page https www patreon com teded n nview full lesson https ed ted com lessons what is the tragedy of the commons nicholas amendolare n nis it possible that overfishing super germs and global warming are all caused by the same thing in   a man named garrett hardin sat down to write an essay about overpopulation within it he discovered a pattern of human behavior that explains some of history s biggest problems nicholas amendolare describes the tragedy of the commons n nlesson by nicholas amendolare directed by ted ed n nthank you so much to our patrons for your support without you this video would not be possible nbrandy jones john ess jessica james tom lee stephen michael alvarez hoang ton jason weinstein juliana alexander walls kris siverhus abhijit kiran valluri morgan williams annamaria szilagyi sama aafghani hannah beth peter owen mandeep singh سلطان الخليفي vinicius lhullier marylise chauffeton connor wytko quinn shen joshua plant jayant sahewal marvin vizuett education,\n",
       " black friday black friday sales how likely are you to die during a black friday sale black friday   black friday statistics black friday facts black friday spend money spend cash black friday death toll black friday accident walmart thanksgiving how likely are you to die during a black friday sale the infographics show check out our new channel fuzzy nutz https www youtube com fuzzynutz n nwhat happens on black friday how much do people spend how likely are you to die during a black friday sale let s find out in this episode of the infographics show n nwebsite you can suggest a topic nhttp theinfographicsshow com n nsupport us npatreon https www patreon com theinfographicsshow n nchat ndiscord https discord gg theinfographicsshow n nsocial nfacebook https facebook com theinfographicsshow ninstagram https www instagram com theinfographicsshow ntwitter https twitter com theinfoshow nsubreddit http reddit com r theinfographicsshow n n nsources for this episode nhttps pastebin com kgahmpnceducation]"
      ]
     },
     "execution_count": 238,
     "metadata": {},
     "output_type": "execute_result"
    }
   ],
   "source": [
    "processed_feature_corpus[0:10]"
   ]
  },
  {
   "cell_type": "code",
   "execution_count": null,
   "metadata": {
    "collapsed": true
   },
   "outputs": [],
   "source": []
  }
 ],
 "metadata": {
  "kernelspec": {
   "display_name": "Python 3",
   "language": "python",
   "name": "python3"
  },
  "language_info": {
   "codemirror_mode": {
    "name": "ipython",
    "version": 3
   },
   "file_extension": ".py",
   "mimetype": "text/x-python",
   "name": "python",
   "nbconvert_exporter": "python",
   "pygments_lexer": "ipython3",
   "version": "3.6.1"
  }
 },
 "nbformat": 4,
 "nbformat_minor": 2
}
