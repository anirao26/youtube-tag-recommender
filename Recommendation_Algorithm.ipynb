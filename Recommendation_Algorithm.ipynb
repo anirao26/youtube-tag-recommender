{
 "cells": [
  {
   "cell_type": "code",
   "execution_count": 2,
   "metadata": {
    "collapsed": true
   },
   "outputs": [],
   "source": [
    "import pandas as pd\n",
    "import json"
   ]
  },
  {
   "cell_type": "code",
   "execution_count": 3,
   "metadata": {
    "collapsed": true
   },
   "outputs": [],
   "source": [
    "us_videos_df = pd.read_csv('./data/USvideos.csv')"
   ]
  },
  {
   "cell_type": "markdown",
   "metadata": {},
   "source": [
    "Sorting the videos by video_id and date for later group by operations."
   ]
  },
  {
   "cell_type": "code",
   "execution_count": 4,
   "metadata": {
    "collapsed": true
   },
   "outputs": [],
   "source": [
    "us_videos_df.sort_values(by=['video_id', 'trending_date'], ascending=True, inplace=True)"
   ]
  },
  {
   "cell_type": "code",
   "execution_count": 5,
   "metadata": {},
   "outputs": [
    {
     "data": {
      "text/html": [
       "<div>\n",
       "<style>\n",
       "    .dataframe thead tr:only-child th {\n",
       "        text-align: right;\n",
       "    }\n",
       "\n",
       "    .dataframe thead th {\n",
       "        text-align: left;\n",
       "    }\n",
       "\n",
       "    .dataframe tbody tr th {\n",
       "        vertical-align: top;\n",
       "    }\n",
       "</style>\n",
       "<table border=\"1\" class=\"dataframe\">\n",
       "  <thead>\n",
       "    <tr style=\"text-align: right;\">\n",
       "      <th></th>\n",
       "      <th>video_id</th>\n",
       "      <th>trending_date</th>\n",
       "      <th>title</th>\n",
       "      <th>channel_title</th>\n",
       "      <th>category_id</th>\n",
       "      <th>publish_time</th>\n",
       "      <th>tags</th>\n",
       "      <th>views</th>\n",
       "      <th>likes</th>\n",
       "      <th>dislikes</th>\n",
       "      <th>comment_count</th>\n",
       "      <th>thumbnail_link</th>\n",
       "      <th>comments_disabled</th>\n",
       "      <th>ratings_disabled</th>\n",
       "      <th>video_error_or_removed</th>\n",
       "      <th>description</th>\n",
       "    </tr>\n",
       "  </thead>\n",
       "  <tbody>\n",
       "    <tr>\n",
       "      <th>90</th>\n",
       "      <td>-2RVw2_QyxQ</td>\n",
       "      <td>17.14.11</td>\n",
       "      <td>2017 Champions Showdown: Day 3</td>\n",
       "      <td>Saint Louis Chess Club</td>\n",
       "      <td>27</td>\n",
       "      <td>2017-11-12T02:39:01.000Z</td>\n",
       "      <td>Chess|\"Saint Louis\"|\"Club\"</td>\n",
       "      <td>67429</td>\n",
       "      <td>438</td>\n",
       "      <td>23</td>\n",
       "      <td>23</td>\n",
       "      <td>https://i.ytimg.com/vi/-2RVw2_QyxQ/default.jpg</td>\n",
       "      <td>False</td>\n",
       "      <td>False</td>\n",
       "      <td>False</td>\n",
       "      <td>The Saint Louis Chess Club hosts a series of f...</td>\n",
       "    </tr>\n",
       "    <tr>\n",
       "      <th>346</th>\n",
       "      <td>-2RVw2_QyxQ</td>\n",
       "      <td>17.15.11</td>\n",
       "      <td>2017 Champions Showdown: Day 3</td>\n",
       "      <td>Saint Louis Chess Club</td>\n",
       "      <td>27</td>\n",
       "      <td>2017-11-12T02:39:01.000Z</td>\n",
       "      <td>Chess|\"Saint Louis\"|\"Club\"</td>\n",
       "      <td>69786</td>\n",
       "      <td>453</td>\n",
       "      <td>26</td>\n",
       "      <td>19</td>\n",
       "      <td>https://i.ytimg.com/vi/-2RVw2_QyxQ/default.jpg</td>\n",
       "      <td>False</td>\n",
       "      <td>False</td>\n",
       "      <td>False</td>\n",
       "      <td>The Saint Louis Chess Club hosts a series of f...</td>\n",
       "    </tr>\n",
       "    <tr>\n",
       "      <th>584</th>\n",
       "      <td>-2RVw2_QyxQ</td>\n",
       "      <td>17.16.11</td>\n",
       "      <td>2017 Champions Showdown: Day 3</td>\n",
       "      <td>Saint Louis Chess Club</td>\n",
       "      <td>27</td>\n",
       "      <td>2017-11-12T02:39:01.000Z</td>\n",
       "      <td>Chess|\"Saint Louis\"|\"Club\"</td>\n",
       "      <td>71089</td>\n",
       "      <td>460</td>\n",
       "      <td>27</td>\n",
       "      <td>20</td>\n",
       "      <td>https://i.ytimg.com/vi/-2RVw2_QyxQ/default.jpg</td>\n",
       "      <td>False</td>\n",
       "      <td>False</td>\n",
       "      <td>False</td>\n",
       "      <td>The Saint Louis Chess Club hosts a series of f...</td>\n",
       "    </tr>\n",
       "    <tr>\n",
       "      <th>1404</th>\n",
       "      <td>-El8z4uy5Ac</td>\n",
       "      <td>17.21.11</td>\n",
       "      <td>The Best Movie Hell to End Up In - After Hours</td>\n",
       "      <td>Cracked</td>\n",
       "      <td>23</td>\n",
       "      <td>2017-11-20T17:00:00.000Z</td>\n",
       "      <td>movie hells|\"hercules\"|\"bedazzled\"|\"all dogs g...</td>\n",
       "      <td>327936</td>\n",
       "      <td>11643</td>\n",
       "      <td>584</td>\n",
       "      <td>1305</td>\n",
       "      <td>https://i.ytimg.com/vi/-El8z4uy5Ac/default.jpg</td>\n",
       "      <td>False</td>\n",
       "      <td>False</td>\n",
       "      <td>False</td>\n",
       "      <td>The gang gets together for a frank discussion ...</td>\n",
       "    </tr>\n",
       "    <tr>\n",
       "      <th>1621</th>\n",
       "      <td>-El8z4uy5Ac</td>\n",
       "      <td>17.22.11</td>\n",
       "      <td>The Best Movie Hell to End Up In - After Hours</td>\n",
       "      <td>Cracked</td>\n",
       "      <td>23</td>\n",
       "      <td>2017-11-20T17:00:00.000Z</td>\n",
       "      <td>movie hells|\"hercules\"|\"bedazzled\"|\"all dogs g...</td>\n",
       "      <td>522256</td>\n",
       "      <td>14312</td>\n",
       "      <td>1062</td>\n",
       "      <td>1553</td>\n",
       "      <td>https://i.ytimg.com/vi/-El8z4uy5Ac/default.jpg</td>\n",
       "      <td>False</td>\n",
       "      <td>False</td>\n",
       "      <td>False</td>\n",
       "      <td>The gang gets together for a frank discussion ...</td>\n",
       "    </tr>\n",
       "  </tbody>\n",
       "</table>\n",
       "</div>"
      ],
      "text/plain": [
       "         video_id trending_date  \\\n",
       "90    -2RVw2_QyxQ      17.14.11   \n",
       "346   -2RVw2_QyxQ      17.15.11   \n",
       "584   -2RVw2_QyxQ      17.16.11   \n",
       "1404  -El8z4uy5Ac      17.21.11   \n",
       "1621  -El8z4uy5Ac      17.22.11   \n",
       "\n",
       "                                               title           channel_title  \\\n",
       "90                    2017 Champions Showdown: Day 3  Saint Louis Chess Club   \n",
       "346                   2017 Champions Showdown: Day 3  Saint Louis Chess Club   \n",
       "584                   2017 Champions Showdown: Day 3  Saint Louis Chess Club   \n",
       "1404  The Best Movie Hell to End Up In - After Hours                 Cracked   \n",
       "1621  The Best Movie Hell to End Up In - After Hours                 Cracked   \n",
       "\n",
       "      category_id              publish_time  \\\n",
       "90             27  2017-11-12T02:39:01.000Z   \n",
       "346            27  2017-11-12T02:39:01.000Z   \n",
       "584            27  2017-11-12T02:39:01.000Z   \n",
       "1404           23  2017-11-20T17:00:00.000Z   \n",
       "1621           23  2017-11-20T17:00:00.000Z   \n",
       "\n",
       "                                                   tags   views  likes  \\\n",
       "90                           Chess|\"Saint Louis\"|\"Club\"   67429    438   \n",
       "346                          Chess|\"Saint Louis\"|\"Club\"   69786    453   \n",
       "584                          Chess|\"Saint Louis\"|\"Club\"   71089    460   \n",
       "1404  movie hells|\"hercules\"|\"bedazzled\"|\"all dogs g...  327936  11643   \n",
       "1621  movie hells|\"hercules\"|\"bedazzled\"|\"all dogs g...  522256  14312   \n",
       "\n",
       "      dislikes  comment_count                                  thumbnail_link  \\\n",
       "90          23             23  https://i.ytimg.com/vi/-2RVw2_QyxQ/default.jpg   \n",
       "346         26             19  https://i.ytimg.com/vi/-2RVw2_QyxQ/default.jpg   \n",
       "584         27             20  https://i.ytimg.com/vi/-2RVw2_QyxQ/default.jpg   \n",
       "1404       584           1305  https://i.ytimg.com/vi/-El8z4uy5Ac/default.jpg   \n",
       "1621      1062           1553  https://i.ytimg.com/vi/-El8z4uy5Ac/default.jpg   \n",
       "\n",
       "      comments_disabled  ratings_disabled  video_error_or_removed  \\\n",
       "90                False             False                   False   \n",
       "346               False             False                   False   \n",
       "584               False             False                   False   \n",
       "1404              False             False                   False   \n",
       "1621              False             False                   False   \n",
       "\n",
       "                                            description  \n",
       "90    The Saint Louis Chess Club hosts a series of f...  \n",
       "346   The Saint Louis Chess Club hosts a series of f...  \n",
       "584   The Saint Louis Chess Club hosts a series of f...  \n",
       "1404  The gang gets together for a frank discussion ...  \n",
       "1621  The gang gets together for a frank discussion ...  "
      ]
     },
     "execution_count": 5,
     "metadata": {},
     "output_type": "execute_result"
    }
   ],
   "source": [
    "us_videos_df.head()"
   ]
  },
  {
   "cell_type": "markdown",
   "metadata": {},
   "source": [
    "Retrieving the last video of every group. The last video would be the latest video (as per trending date)."
   ]
  },
  {
   "cell_type": "code",
   "execution_count": 6,
   "metadata": {
    "collapsed": true
   },
   "outputs": [],
   "source": [
    "us_grouped_videos = us_videos_df.groupby(['video_id']).last().reset_index()"
   ]
  },
  {
   "cell_type": "code",
   "execution_count": 7,
   "metadata": {},
   "outputs": [
    {
     "data": {
      "text/html": [
       "<div>\n",
       "<style>\n",
       "    .dataframe thead tr:only-child th {\n",
       "        text-align: right;\n",
       "    }\n",
       "\n",
       "    .dataframe thead th {\n",
       "        text-align: left;\n",
       "    }\n",
       "\n",
       "    .dataframe tbody tr th {\n",
       "        vertical-align: top;\n",
       "    }\n",
       "</style>\n",
       "<table border=\"1\" class=\"dataframe\">\n",
       "  <thead>\n",
       "    <tr style=\"text-align: right;\">\n",
       "      <th></th>\n",
       "      <th>video_id</th>\n",
       "      <th>trending_date</th>\n",
       "      <th>title</th>\n",
       "      <th>channel_title</th>\n",
       "      <th>category_id</th>\n",
       "      <th>publish_time</th>\n",
       "      <th>tags</th>\n",
       "      <th>views</th>\n",
       "      <th>likes</th>\n",
       "      <th>dislikes</th>\n",
       "      <th>comment_count</th>\n",
       "      <th>thumbnail_link</th>\n",
       "      <th>comments_disabled</th>\n",
       "      <th>ratings_disabled</th>\n",
       "      <th>video_error_or_removed</th>\n",
       "      <th>description</th>\n",
       "    </tr>\n",
       "  </thead>\n",
       "  <tbody>\n",
       "    <tr>\n",
       "      <th>0</th>\n",
       "      <td>-2RVw2_QyxQ</td>\n",
       "      <td>17.16.11</td>\n",
       "      <td>2017 Champions Showdown: Day 3</td>\n",
       "      <td>Saint Louis Chess Club</td>\n",
       "      <td>27</td>\n",
       "      <td>2017-11-12T02:39:01.000Z</td>\n",
       "      <td>Chess|\"Saint Louis\"|\"Club\"</td>\n",
       "      <td>71089</td>\n",
       "      <td>460</td>\n",
       "      <td>27</td>\n",
       "      <td>20</td>\n",
       "      <td>https://i.ytimg.com/vi/-2RVw2_QyxQ/default.jpg</td>\n",
       "      <td>False</td>\n",
       "      <td>False</td>\n",
       "      <td>False</td>\n",
       "      <td>The Saint Louis Chess Club hosts a series of f...</td>\n",
       "    </tr>\n",
       "    <tr>\n",
       "      <th>1</th>\n",
       "      <td>-El8z4uy5Ac</td>\n",
       "      <td>17.26.11</td>\n",
       "      <td>The Best Movie Hell to End Up In - After Hours</td>\n",
       "      <td>Cracked</td>\n",
       "      <td>23</td>\n",
       "      <td>2017-11-20T17:00:00.000Z</td>\n",
       "      <td>movie hells|\"hercules\"|\"bedazzled\"|\"all dogs g...</td>\n",
       "      <td>639982</td>\n",
       "      <td>16519</td>\n",
       "      <td>1243</td>\n",
       "      <td>1739</td>\n",
       "      <td>https://i.ytimg.com/vi/-El8z4uy5Ac/default.jpg</td>\n",
       "      <td>False</td>\n",
       "      <td>False</td>\n",
       "      <td>False</td>\n",
       "      <td>The gang gets together for a frank discussion ...</td>\n",
       "    </tr>\n",
       "    <tr>\n",
       "      <th>2</th>\n",
       "      <td>-JVITToppE0</td>\n",
       "      <td>17.17.11</td>\n",
       "      <td>Coach Taggart Monday Presser Ahead of Arizona</td>\n",
       "      <td>GoDucksdotcom</td>\n",
       "      <td>17</td>\n",
       "      <td>2017-11-13T20:41:45.000Z</td>\n",
       "      <td>Oregon|\"Ducks\"|\"college athletics\"|\"college fo...</td>\n",
       "      <td>704</td>\n",
       "      <td>10</td>\n",
       "      <td>2</td>\n",
       "      <td>5</td>\n",
       "      <td>https://i.ytimg.com/vi/-JVITToppE0/default.jpg</td>\n",
       "      <td>False</td>\n",
       "      <td>False</td>\n",
       "      <td>False</td>\n",
       "      <td>Coach Taggart addresses the media ahead of the...</td>\n",
       "    </tr>\n",
       "    <tr>\n",
       "      <th>3</th>\n",
       "      <td>-OK9i1_YYYc</td>\n",
       "      <td>17.16.11</td>\n",
       "      <td>Animal Adventure Park Giraffe Cam</td>\n",
       "      <td>Animal Adventure Park</td>\n",
       "      <td>15</td>\n",
       "      <td>2017-11-12T00:18:43.000Z</td>\n",
       "      <td>Giraffe|\"Zoo\"|\"New York\"|\"giraffe cam\"|\"Animal...</td>\n",
       "      <td>46260</td>\n",
       "      <td>2286</td>\n",
       "      <td>35</td>\n",
       "      <td>17</td>\n",
       "      <td>https://i.ytimg.com/vi/-OK9i1_YYYc/default.jpg</td>\n",
       "      <td>False</td>\n",
       "      <td>False</td>\n",
       "      <td>False</td>\n",
       "      <td>November 2017 Giraffe Cam Hours\\n\\nEnjoy your ...</td>\n",
       "    </tr>\n",
       "    <tr>\n",
       "      <th>4</th>\n",
       "      <td>-SIp6xSP7ds</td>\n",
       "      <td>17.28.11</td>\n",
       "      <td>Gayle King and Norah O'Donnell respond to Char...</td>\n",
       "      <td>CBS This Morning</td>\n",
       "      <td>25</td>\n",
       "      <td>2017-11-21T12:35:39.000Z</td>\n",
       "      <td>video|\"cbs\"|\"news\"|\"CBS This Morning\"|\"Charlie...</td>\n",
       "      <td>534125</td>\n",
       "      <td>2507</td>\n",
       "      <td>1201</td>\n",
       "      <td>1772</td>\n",
       "      <td>https://i.ytimg.com/vi/-SIp6xSP7ds/default.jpg</td>\n",
       "      <td>False</td>\n",
       "      <td>False</td>\n",
       "      <td>False</td>\n",
       "      <td>CBS This Morning co-hosts Norah O'Donnell and ...</td>\n",
       "    </tr>\n",
       "  </tbody>\n",
       "</table>\n",
       "</div>"
      ],
      "text/plain": [
       "      video_id trending_date  \\\n",
       "0  -2RVw2_QyxQ      17.16.11   \n",
       "1  -El8z4uy5Ac      17.26.11   \n",
       "2  -JVITToppE0      17.17.11   \n",
       "3  -OK9i1_YYYc      17.16.11   \n",
       "4  -SIp6xSP7ds      17.28.11   \n",
       "\n",
       "                                               title           channel_title  \\\n",
       "0                     2017 Champions Showdown: Day 3  Saint Louis Chess Club   \n",
       "1     The Best Movie Hell to End Up In - After Hours                 Cracked   \n",
       "2      Coach Taggart Monday Presser Ahead of Arizona           GoDucksdotcom   \n",
       "3                  Animal Adventure Park Giraffe Cam   Animal Adventure Park   \n",
       "4  Gayle King and Norah O'Donnell respond to Char...        CBS This Morning   \n",
       "\n",
       "   category_id              publish_time  \\\n",
       "0           27  2017-11-12T02:39:01.000Z   \n",
       "1           23  2017-11-20T17:00:00.000Z   \n",
       "2           17  2017-11-13T20:41:45.000Z   \n",
       "3           15  2017-11-12T00:18:43.000Z   \n",
       "4           25  2017-11-21T12:35:39.000Z   \n",
       "\n",
       "                                                tags   views  likes  dislikes  \\\n",
       "0                         Chess|\"Saint Louis\"|\"Club\"   71089    460        27   \n",
       "1  movie hells|\"hercules\"|\"bedazzled\"|\"all dogs g...  639982  16519      1243   \n",
       "2  Oregon|\"Ducks\"|\"college athletics\"|\"college fo...     704     10         2   \n",
       "3  Giraffe|\"Zoo\"|\"New York\"|\"giraffe cam\"|\"Animal...   46260   2286        35   \n",
       "4  video|\"cbs\"|\"news\"|\"CBS This Morning\"|\"Charlie...  534125   2507      1201   \n",
       "\n",
       "   comment_count                                  thumbnail_link  \\\n",
       "0             20  https://i.ytimg.com/vi/-2RVw2_QyxQ/default.jpg   \n",
       "1           1739  https://i.ytimg.com/vi/-El8z4uy5Ac/default.jpg   \n",
       "2              5  https://i.ytimg.com/vi/-JVITToppE0/default.jpg   \n",
       "3             17  https://i.ytimg.com/vi/-OK9i1_YYYc/default.jpg   \n",
       "4           1772  https://i.ytimg.com/vi/-SIp6xSP7ds/default.jpg   \n",
       "\n",
       "   comments_disabled  ratings_disabled  video_error_or_removed  \\\n",
       "0              False             False                   False   \n",
       "1              False             False                   False   \n",
       "2              False             False                   False   \n",
       "3              False             False                   False   \n",
       "4              False             False                   False   \n",
       "\n",
       "                                         description  \n",
       "0  The Saint Louis Chess Club hosts a series of f...  \n",
       "1  The gang gets together for a frank discussion ...  \n",
       "2  Coach Taggart addresses the media ahead of the...  \n",
       "3  November 2017 Giraffe Cam Hours\\n\\nEnjoy your ...  \n",
       "4  CBS This Morning co-hosts Norah O'Donnell and ...  "
      ]
     },
     "execution_count": 7,
     "metadata": {},
     "output_type": "execute_result"
    }
   ],
   "source": [
    "us_grouped_videos.head()"
   ]
  },
  {
   "cell_type": "markdown",
   "metadata": {},
   "source": [
    "Reading categories from json file"
   ]
  },
  {
   "cell_type": "code",
   "execution_count": 8,
   "metadata": {
    "collapsed": true
   },
   "outputs": [],
   "source": [
    "with open('./data/US_category_id.json') as data_file:\n",
    "    data = json.load(data_file)"
   ]
  },
  {
   "cell_type": "code",
   "execution_count": 9,
   "metadata": {
    "collapsed": true
   },
   "outputs": [],
   "source": [
    "categories = []\n",
    "for item in data['items']:\n",
    "    category = {}\n",
    "    category['category_id'] = int(item['id'])\n",
    "    category['title'] = item['snippet']['title']\n",
    "    categories.append(category)"
   ]
  },
  {
   "cell_type": "code",
   "execution_count": 10,
   "metadata": {},
   "outputs": [
    {
     "data": {
      "text/html": [
       "<div>\n",
       "<style>\n",
       "    .dataframe thead tr:only-child th {\n",
       "        text-align: right;\n",
       "    }\n",
       "\n",
       "    .dataframe thead th {\n",
       "        text-align: left;\n",
       "    }\n",
       "\n",
       "    .dataframe tbody tr th {\n",
       "        vertical-align: top;\n",
       "    }\n",
       "</style>\n",
       "<table border=\"1\" class=\"dataframe\">\n",
       "  <thead>\n",
       "    <tr style=\"text-align: right;\">\n",
       "      <th></th>\n",
       "      <th>category_id</th>\n",
       "      <th>title</th>\n",
       "    </tr>\n",
       "  </thead>\n",
       "  <tbody>\n",
       "    <tr>\n",
       "      <th>0</th>\n",
       "      <td>1</td>\n",
       "      <td>Film &amp; Animation</td>\n",
       "    </tr>\n",
       "    <tr>\n",
       "      <th>1</th>\n",
       "      <td>2</td>\n",
       "      <td>Autos &amp; Vehicles</td>\n",
       "    </tr>\n",
       "    <tr>\n",
       "      <th>2</th>\n",
       "      <td>10</td>\n",
       "      <td>Music</td>\n",
       "    </tr>\n",
       "    <tr>\n",
       "      <th>3</th>\n",
       "      <td>15</td>\n",
       "      <td>Pets &amp; Animals</td>\n",
       "    </tr>\n",
       "    <tr>\n",
       "      <th>4</th>\n",
       "      <td>17</td>\n",
       "      <td>Sports</td>\n",
       "    </tr>\n",
       "  </tbody>\n",
       "</table>\n",
       "</div>"
      ],
      "text/plain": [
       "   category_id             title\n",
       "0            1  Film & Animation\n",
       "1            2  Autos & Vehicles\n",
       "2           10             Music\n",
       "3           15    Pets & Animals\n",
       "4           17            Sports"
      ]
     },
     "execution_count": 10,
     "metadata": {},
     "output_type": "execute_result"
    }
   ],
   "source": [
    "categories_df = pd.DataFrame(categories)\n",
    "categories_df.head()"
   ]
  },
  {
   "cell_type": "code",
   "execution_count": 105,
   "metadata": {},
   "outputs": [],
   "source": [
    "us_final_df = us_grouped_videos.merge(categories_df, on = ['category_id'])\n",
    "us_final_df.rename(columns={'title_y': 'category', 'title_x': 'video_name'}, inplace=True)"
   ]
  },
  {
   "cell_type": "code",
   "execution_count": 106,
   "metadata": {},
   "outputs": [
    {
     "data": {
      "text/plain": [
       "'emergence|\"ants\"|\"intelligence\"|\"ant\"|\"sum of its part\"|\"more is more\"|\"soul\"|\"conciousness\"|\"funny\"|\"fascinating\"|\"life\"|\"human\"|\"cell\"|\"animation\"|\"kurzgesagt\"|\"in a nutshell\"'"
      ]
     },
     "execution_count": 106,
     "metadata": {},
     "output_type": "execute_result"
    }
   ],
   "source": [
    "us_final_df.tags[2]"
   ]
  },
  {
   "cell_type": "code",
   "execution_count": 107,
   "metadata": {
    "collapsed": true
   },
   "outputs": [],
   "source": [
    "def splitTags(tag_list):\n",
    "    tag_list = tag_list.split('|')\n",
    "    output = ''\n",
    "    for tag in tag_list:\n",
    "        output += tag\n",
    "    return output"
   ]
  },
  {
   "cell_type": "code",
   "execution_count": 108,
   "metadata": {},
   "outputs": [],
   "source": [
    "us_final_df['tags'] = us_final_df['tags'].apply(splitTags)"
   ]
  },
  {
   "cell_type": "code",
   "execution_count": 109,
   "metadata": {},
   "outputs": [
    {
     "data": {
      "text/plain": [
       "Index(['video_id', 'trending_date', 'video_name', 'channel_title',\n",
       "       'category_id', 'publish_time', 'tags', 'views', 'likes', 'dislikes',\n",
       "       'comment_count', 'thumbnail_link', 'comments_disabled',\n",
       "       'ratings_disabled', 'video_error_or_removed', 'description',\n",
       "       'category'],\n",
       "      dtype='object')"
      ]
     },
     "execution_count": 109,
     "metadata": {},
     "output_type": "execute_result"
    }
   ],
   "source": [
    "us_final_df.columns"
   ]
  },
  {
   "cell_type": "code",
   "execution_count": null,
   "metadata": {
    "collapsed": true
   },
   "outputs": [],
   "source": [
    "#get rid of the punctuations and set all characters to lowercase\n",
    "import re\n",
    "RE_PREPROCESS = r'\\W+|\\d+' #the regular expressions that matches all non-characters\n",
    "\n",
    "#get rid of punctuation and make everything lowercase\n",
    "#the code belows works by looping through the array of text\n",
    "#for a given piece of text we invoke the `re.sub` command where we pass in the regular expression, a space ' ' to\n",
    "#subsitute all the matching characters with\n",
    "#we then invoke the `lower()` method on the output of the re.sub command\n",
    "#to make all the remaining characters\n",
    "#the cleaned document is then stored in a list\n",
    "#once this list has been filed it is then stored in a numpy array\n"
   ]
  },
  {
   "cell_type": "code",
   "execution_count": 155,
   "metadata": {
    "collapsed": true
   },
   "outputs": [],
   "source": [
    "i = 0\n",
    "def clean_video_desc(desc):\n",
    "    try:\n",
    "        return re.sub(RE_PREPROCESS, ' ', desc)\n",
    "    except:\n",
    "        return \" \"\n"
   ]
  },
  {
   "cell_type": "code",
   "execution_count": 156,
   "metadata": {},
   "outputs": [],
   "source": [
    "us_final_df['video_features'] = us_final_df['tags'].astype(str) + us_final_df['video_name'].astype(str) \\\n",
    "                        + us_final_df['channel_title'].astype(str) + us_final_df['description'] + us_final_df['category']"
   ]
  },
  {
   "cell_type": "code",
   "execution_count": 157,
   "metadata": {},
   "outputs": [],
   "source": [
    "us_final_df['cleaned_video_features'] = us_final_df['video_features'].apply(clean_video_desc)"
   ]
  },
  {
   "cell_type": "code",
   "execution_count": 151,
   "metadata": {},
   "outputs": [
    {
     "data": {
      "text/plain": [
       "0      Chess Saint Louis Club   Champions Showdown Da...\n",
       "1      john green mental floss koalas marsupial joey ...\n",
       "2      emergence ants intelligence ant sum of its par...\n",
       "3      hanyuqiao二贵摔跤 tienghoa netTina Nguyen辽阔的乌珠穆沁草原...\n",
       "4      the secret protocal procedure process for when...\n",
       "5      real life lore real life lore maps real life l...\n",
       "6      the school of life school life education relat...\n",
       "7      SciShow science Hank Green education learn ste...\n",
       "8      TED TED Ed TED Education TED Ed Nicholas Amend...\n",
       "9      black friday black friday sales How Likely Are...\n",
       "10     TED TED Ed TED Education TED Ed Melvin Sanicas...\n",
       "11     summit conference ideas talks performances gat...\n",
       "12     science pbs digital studios pbs joe hanson it ...\n",
       "13     veritasium mitosis cell division biology dna c...\n",
       "14     TED TED Ed TED Education TED Ed Hilary Coller ...\n",
       "15     googlevideoThe Oak Beams of New College Oxford...\n",
       "16     tom scott tomscott built for science national ...\n",
       "17     earthquake biggest earthquake biggest earthqua...\n",
       "18     SciShow science Hank Green education learn glo...\n",
       "19     the room so bad its good movies that are so ba...\n",
       "20     American Things Europeans Find Weird americans...\n",
       "21     proto putty proto putty diy do it yourself tes...\n",
       "22     SciShow science Hank Green education learn Wha...\n",
       "23      s commercials Huffy Huffy Metaloid Bicycle Co...\n",
       "24     nuclear waste atomic nuke spent fuel nuclear f...\n",
       "25     life noggin life noggin youtube youtube life n...\n",
       "26     tom scott tomscott things you might not know h...\n",
       "27     Thanksgiving candy jolly ranchers turkey how t...\n",
       "28     which programming language to learn first what...\n",
       "29     tom scott tomscott staufen germany black fores...\n",
       "                             ...                        \n",
       "761    freaks and geeks jason segel judd apatow drums...\n",
       "762    horror movie thriller movie science fiction sc...\n",
       "763    amazon commerical y k sing along mitch xmas ch...\n",
       "764    Michael Shannon Richard Jenkins Doug Jones sal...\n",
       "765     none Justice League BadJenny NicholsonThe new...\n",
       "766    galexy note   samsung creators neistat casey n...\n",
       "767    wonder woman gal gadot everything wrong with e...\n",
       "768    Rick and Morty Rick and Morty Season   Rick an...\n",
       "769    first date animation animated short shorts ani...\n",
       "770    twitch games Mega Medley that was supposed to ...\n",
       "771    game theory film theory cuphead don t deal wit...\n",
       "772    nintendo play play nintendo game gameplay fun ...\n",
       "773      trending Featured Trucks viralhog Weather Cr...\n",
       "774    spyker c  spyker spyker c  spyder c  spyder sp...\n",
       "775    keanu reeves keanu the matrix john wick john w...\n",
       "776    carmax lamborghini miura miura carmax lamborgh...\n",
       "777    Devel Sixteen Devel Sixteen Hypercar Drag Race...\n",
       "778      Cars NSFW Language viralhog Australia bike b...\n",
       "779    GT Series Qualification Race Macau Grand Prix ...\n",
       "780    Tech Insider TI Tech Science Innovation Digita...\n",
       "781    electric car electric vehicle comuta car citic...\n",
       "782    Jeep jeep wrangler jeep  x  jeep cj cj   cj   ...\n",
       "783    Caterham Chris Hoy Caterham Seven Avon Tyres C...\n",
       "784      viralhog Crash Fail Featured train swipe cra...\n",
       "785    clothmap drew scanlon são paulo sao paulo Sant...\n",
       "786    Vostok bike Brompton Bicycle Brompton Alfine V...\n",
       "787    simonandmartina simon martina simon and martin...\n",
       "788    Valk Aviation Amsterdam Airport Schiphol Airpo...\n",
       "789    Emirates First Class New Emirates First Class ...\n",
       "790    Boeing  Sam Chui B  Private Jet Business Jet D...\n",
       "Name: cleaned_video_features, Length: 791, dtype: object"
      ]
     },
     "execution_count": 151,
     "metadata": {},
     "output_type": "execute_result"
    }
   ],
   "source": []
  },
  {
   "cell_type": "code",
   "execution_count": null,
   "metadata": {
    "collapsed": true
   },
   "outputs": [],
   "source": []
  },
  {
   "cell_type": "code",
   "execution_count": null,
   "metadata": {
    "collapsed": true
   },
   "outputs": [],
   "source": []
  }
 ],
 "metadata": {
  "kernelspec": {
   "display_name": "Python 3",
   "language": "python",
   "name": "python3"
  },
  "language_info": {
   "codemirror_mode": {
    "name": "ipython",
    "version": 3
   },
   "file_extension": ".py",
   "mimetype": "text/x-python",
   "name": "python",
   "nbconvert_exporter": "python",
   "pygments_lexer": "ipython3",
   "version": "3.6.1"
  }
 },
 "nbformat": 4,
 "nbformat_minor": 2
}
